{
 "cells": [
  {
   "cell_type": "code",
   "execution_count": 1,
   "metadata": {},
   "outputs": [
    {
     "name": "stdout",
     "output_type": "stream",
     "text": [
      "tracking URI: 'file:///Users/mohammedzaidsyed/Desktop/Diamond/MLOPS_Diamond/mlruns'\n",
      "2\n",
      "Experiment Name: diamonds_price_predictor, Experiment ID: 779128597837821808\n",
      "Experiment Name: Default, Experiment ID: 0\n"
     ]
    }
   ],
   "source": [
    "import mlflow\n",
    "from mlflow.tracking import MlflowClient\n",
    "\n",
    "print(f\"tracking URI: '{mlflow.get_tracking_uri()}'\")\n",
    "\n",
    "client = MlflowClient()\n",
    "\n",
    "# Use the search_experiments function to get a list of available experiments\n",
    "experiments = client.search_experiments()\n",
    "print(len(experiments))\n",
    "\n",
    "# Display the list of available experiments\n",
    "for experiment in experiments:\n",
    "    print(f\"Experiment Name: {experiment.name}, Experiment ID: {experiment.experiment_id}\")"
   ]
  },
  {
   "cell_type": "markdown",
   "metadata": {},
   "source": [
    "Loading Data"
   ]
  },
  {
   "cell_type": "code",
   "execution_count": 2,
   "metadata": {},
   "outputs": [
    {
     "data": {
      "text/html": [
       "<div>\n",
       "<style scoped>\n",
       "    .dataframe tbody tr th:only-of-type {\n",
       "        vertical-align: middle;\n",
       "    }\n",
       "\n",
       "    .dataframe tbody tr th {\n",
       "        vertical-align: top;\n",
       "    }\n",
       "\n",
       "    .dataframe thead th {\n",
       "        text-align: right;\n",
       "    }\n",
       "</style>\n",
       "<table border=\"1\" class=\"dataframe\">\n",
       "  <thead>\n",
       "    <tr style=\"text-align: right;\">\n",
       "      <th></th>\n",
       "      <th>carat</th>\n",
       "      <th>cut</th>\n",
       "      <th>color</th>\n",
       "      <th>clarity</th>\n",
       "      <th>depth</th>\n",
       "      <th>table</th>\n",
       "      <th>price</th>\n",
       "      <th>'x'</th>\n",
       "      <th>'y'</th>\n",
       "      <th>'z'</th>\n",
       "    </tr>\n",
       "  </thead>\n",
       "  <tbody>\n",
       "    <tr>\n",
       "      <th>0</th>\n",
       "      <td>0.23</td>\n",
       "      <td>b'Ideal'</td>\n",
       "      <td>b'E'</td>\n",
       "      <td>b'SI2'</td>\n",
       "      <td>61.5</td>\n",
       "      <td>55.0</td>\n",
       "      <td>326.0</td>\n",
       "      <td>3.95</td>\n",
       "      <td>3.98</td>\n",
       "      <td>2.43</td>\n",
       "    </tr>\n",
       "    <tr>\n",
       "      <th>1</th>\n",
       "      <td>0.21</td>\n",
       "      <td>b'Premium'</td>\n",
       "      <td>b'E'</td>\n",
       "      <td>b'SI1'</td>\n",
       "      <td>59.8</td>\n",
       "      <td>61.0</td>\n",
       "      <td>326.0</td>\n",
       "      <td>3.89</td>\n",
       "      <td>3.84</td>\n",
       "      <td>2.31</td>\n",
       "    </tr>\n",
       "    <tr>\n",
       "      <th>2</th>\n",
       "      <td>0.23</td>\n",
       "      <td>b'Good'</td>\n",
       "      <td>b'E'</td>\n",
       "      <td>b'VS1'</td>\n",
       "      <td>56.9</td>\n",
       "      <td>65.0</td>\n",
       "      <td>327.0</td>\n",
       "      <td>4.05</td>\n",
       "      <td>4.07</td>\n",
       "      <td>2.31</td>\n",
       "    </tr>\n",
       "    <tr>\n",
       "      <th>3</th>\n",
       "      <td>0.29</td>\n",
       "      <td>b'Premium'</td>\n",
       "      <td>b'I'</td>\n",
       "      <td>b'VS2'</td>\n",
       "      <td>62.4</td>\n",
       "      <td>58.0</td>\n",
       "      <td>334.0</td>\n",
       "      <td>4.20</td>\n",
       "      <td>4.23</td>\n",
       "      <td>2.63</td>\n",
       "    </tr>\n",
       "    <tr>\n",
       "      <th>4</th>\n",
       "      <td>0.31</td>\n",
       "      <td>b'Good'</td>\n",
       "      <td>b'J'</td>\n",
       "      <td>b'SI2'</td>\n",
       "      <td>63.3</td>\n",
       "      <td>58.0</td>\n",
       "      <td>335.0</td>\n",
       "      <td>4.34</td>\n",
       "      <td>4.35</td>\n",
       "      <td>2.75</td>\n",
       "    </tr>\n",
       "  </tbody>\n",
       "</table>\n",
       "</div>"
      ],
      "text/plain": [
       "   carat         cut color clarity  depth  table  price   'x'   'y'   'z'\n",
       "0   0.23    b'Ideal'  b'E'  b'SI2'   61.5   55.0  326.0  3.95  3.98  2.43\n",
       "1   0.21  b'Premium'  b'E'  b'SI1'   59.8   61.0  326.0  3.89  3.84  2.31\n",
       "2   0.23     b'Good'  b'E'  b'VS1'   56.9   65.0  327.0  4.05  4.07  2.31\n",
       "3   0.29  b'Premium'  b'I'  b'VS2'   62.4   58.0  334.0  4.20  4.23  2.63\n",
       "4   0.31     b'Good'  b'J'  b'SI2'   63.3   58.0  335.0  4.34  4.35  2.75"
      ]
     },
     "execution_count": 2,
     "metadata": {},
     "output_type": "execute_result"
    }
   ],
   "source": [
    "import pandas as pd\n",
    "def load_data(path):\n",
    "    return pd.read_csv(path)\n",
    "\n",
    "df = load_data('Data/diamonds.csv')\n",
    "df.head()"
   ]
  },
  {
   "cell_type": "markdown",
   "metadata": {},
   "source": [
    "Cleaning Data"
   ]
  },
  {
   "cell_type": "code",
   "execution_count": 3,
   "metadata": {},
   "outputs": [],
   "source": [
    "# Convert byte literals to regular strings for specific columns\n",
    "byte_literal_columns = ['cut', 'color', 'clarity']\n",
    "for column in byte_literal_columns:\n",
    "    df[column] = df[column].str.strip(\"b'\")"
   ]
  },
  {
   "cell_type": "code",
   "execution_count": 4,
   "metadata": {},
   "outputs": [
    {
     "name": "stdout",
     "output_type": "stream",
     "text": [
      "carat      0\n",
      "cut        0\n",
      "color      0\n",
      "clarity    0\n",
      "depth      0\n",
      "table      0\n",
      "price      0\n",
      "'x'        0\n",
      "'y'        0\n",
      "'z'        0\n",
      "dtype: int64\n"
     ]
    }
   ],
   "source": [
    "# Check for missing values\n",
    "print(df.isnull().sum())"
   ]
  },
  {
   "cell_type": "code",
   "execution_count": 5,
   "metadata": {},
   "outputs": [],
   "source": [
    "# Remove any duplicate rows\n",
    "df = df.drop_duplicates()"
   ]
  },
  {
   "cell_type": "code",
   "execution_count": 6,
   "metadata": {},
   "outputs": [],
   "source": [
    "# Remove any rows with missing values\n",
    "df = df.dropna()"
   ]
  },
  {
   "cell_type": "code",
   "execution_count": 7,
   "metadata": {},
   "outputs": [
    {
     "data": {
      "text/plain": [
       "Index(['carat', 'cut', 'color', 'clarity', 'depth', 'table', 'price', ''x'',\n",
       "       ''y'', ''z''],\n",
       "      dtype='object')"
      ]
     },
     "execution_count": 7,
     "metadata": {},
     "output_type": "execute_result"
    }
   ],
   "source": [
    "df.columns"
   ]
  },
  {
   "cell_type": "code",
   "execution_count": 8,
   "metadata": {},
   "outputs": [
    {
     "data": {
      "text/plain": [
       "(53794, 10)"
      ]
     },
     "execution_count": 8,
     "metadata": {},
     "output_type": "execute_result"
    }
   ],
   "source": [
    "df.shape"
   ]
  },
  {
   "cell_type": "code",
   "execution_count": 9,
   "metadata": {},
   "outputs": [
    {
     "data": {
      "text/plain": [
       "carat        273\n",
       "cut            5\n",
       "color          7\n",
       "clarity        8\n",
       "depth        184\n",
       "table        127\n",
       "price      11602\n",
       "'x'          554\n",
       "'y'          552\n",
       "'z'          375\n",
       "dtype: int64"
      ]
     },
     "execution_count": 9,
     "metadata": {},
     "output_type": "execute_result"
    }
   ],
   "source": [
    "df.nunique()"
   ]
  },
  {
   "cell_type": "code",
   "execution_count": 10,
   "metadata": {},
   "outputs": [
    {
     "data": {
      "text/html": [
       "<div>\n",
       "<style scoped>\n",
       "    .dataframe tbody tr th:only-of-type {\n",
       "        vertical-align: middle;\n",
       "    }\n",
       "\n",
       "    .dataframe tbody tr th {\n",
       "        vertical-align: top;\n",
       "    }\n",
       "\n",
       "    .dataframe thead th {\n",
       "        text-align: right;\n",
       "    }\n",
       "</style>\n",
       "<table border=\"1\" class=\"dataframe\">\n",
       "  <thead>\n",
       "    <tr style=\"text-align: right;\">\n",
       "      <th></th>\n",
       "      <th>carat</th>\n",
       "      <th>depth</th>\n",
       "      <th>table</th>\n",
       "      <th>price</th>\n",
       "      <th>'x'</th>\n",
       "      <th>'y'</th>\n",
       "      <th>'z'</th>\n",
       "    </tr>\n",
       "  </thead>\n",
       "  <tbody>\n",
       "    <tr>\n",
       "      <th>count</th>\n",
       "      <td>53794.00000</td>\n",
       "      <td>53794.000000</td>\n",
       "      <td>53794.000000</td>\n",
       "      <td>53794.000000</td>\n",
       "      <td>53794.000000</td>\n",
       "      <td>53794.000000</td>\n",
       "      <td>53794.000000</td>\n",
       "    </tr>\n",
       "    <tr>\n",
       "      <th>mean</th>\n",
       "      <td>0.79778</td>\n",
       "      <td>61.748080</td>\n",
       "      <td>57.458109</td>\n",
       "      <td>3933.065082</td>\n",
       "      <td>5.731214</td>\n",
       "      <td>5.734653</td>\n",
       "      <td>3.538714</td>\n",
       "    </tr>\n",
       "    <tr>\n",
       "      <th>std</th>\n",
       "      <td>0.47339</td>\n",
       "      <td>1.429909</td>\n",
       "      <td>2.233679</td>\n",
       "      <td>3988.114460</td>\n",
       "      <td>1.120695</td>\n",
       "      <td>1.141209</td>\n",
       "      <td>0.705037</td>\n",
       "    </tr>\n",
       "    <tr>\n",
       "      <th>min</th>\n",
       "      <td>0.20000</td>\n",
       "      <td>43.000000</td>\n",
       "      <td>43.000000</td>\n",
       "      <td>326.000000</td>\n",
       "      <td>0.000000</td>\n",
       "      <td>0.000000</td>\n",
       "      <td>0.000000</td>\n",
       "    </tr>\n",
       "    <tr>\n",
       "      <th>25%</th>\n",
       "      <td>0.40000</td>\n",
       "      <td>61.000000</td>\n",
       "      <td>56.000000</td>\n",
       "      <td>951.000000</td>\n",
       "      <td>4.710000</td>\n",
       "      <td>4.720000</td>\n",
       "      <td>2.910000</td>\n",
       "    </tr>\n",
       "    <tr>\n",
       "      <th>50%</th>\n",
       "      <td>0.70000</td>\n",
       "      <td>61.800000</td>\n",
       "      <td>57.000000</td>\n",
       "      <td>2401.000000</td>\n",
       "      <td>5.700000</td>\n",
       "      <td>5.710000</td>\n",
       "      <td>3.530000</td>\n",
       "    </tr>\n",
       "    <tr>\n",
       "      <th>75%</th>\n",
       "      <td>1.04000</td>\n",
       "      <td>62.500000</td>\n",
       "      <td>59.000000</td>\n",
       "      <td>5326.750000</td>\n",
       "      <td>6.540000</td>\n",
       "      <td>6.540000</td>\n",
       "      <td>4.030000</td>\n",
       "    </tr>\n",
       "    <tr>\n",
       "      <th>max</th>\n",
       "      <td>5.01000</td>\n",
       "      <td>79.000000</td>\n",
       "      <td>95.000000</td>\n",
       "      <td>18823.000000</td>\n",
       "      <td>10.740000</td>\n",
       "      <td>58.900000</td>\n",
       "      <td>31.800000</td>\n",
       "    </tr>\n",
       "  </tbody>\n",
       "</table>\n",
       "</div>"
      ],
      "text/plain": [
       "             carat         depth         table         price           'x'  \\\n",
       "count  53794.00000  53794.000000  53794.000000  53794.000000  53794.000000   \n",
       "mean       0.79778     61.748080     57.458109   3933.065082      5.731214   \n",
       "std        0.47339      1.429909      2.233679   3988.114460      1.120695   \n",
       "min        0.20000     43.000000     43.000000    326.000000      0.000000   \n",
       "25%        0.40000     61.000000     56.000000    951.000000      4.710000   \n",
       "50%        0.70000     61.800000     57.000000   2401.000000      5.700000   \n",
       "75%        1.04000     62.500000     59.000000   5326.750000      6.540000   \n",
       "max        5.01000     79.000000     95.000000  18823.000000     10.740000   \n",
       "\n",
       "                'y'           'z'  \n",
       "count  53794.000000  53794.000000  \n",
       "mean       5.734653      3.538714  \n",
       "std        1.141209      0.705037  \n",
       "min        0.000000      0.000000  \n",
       "25%        4.720000      2.910000  \n",
       "50%        5.710000      3.530000  \n",
       "75%        6.540000      4.030000  \n",
       "max       58.900000     31.800000  "
      ]
     },
     "execution_count": 10,
     "metadata": {},
     "output_type": "execute_result"
    }
   ],
   "source": [
    "df.describe()"
   ]
  },
  {
   "cell_type": "code",
   "execution_count": 11,
   "metadata": {},
   "outputs": [
    {
     "name": "stdout",
     "output_type": "stream",
     "text": [
      "<class 'pandas.core.frame.DataFrame'>\n",
      "Index: 53794 entries, 0 to 53939\n",
      "Data columns (total 10 columns):\n",
      " #   Column   Non-Null Count  Dtype  \n",
      "---  ------   --------------  -----  \n",
      " 0   carat    53794 non-null  float64\n",
      " 1   cut      53794 non-null  object \n",
      " 2   color    53794 non-null  object \n",
      " 3   clarity  53794 non-null  object \n",
      " 4   depth    53794 non-null  float64\n",
      " 5   table    53794 non-null  float64\n",
      " 6   price    53794 non-null  float64\n",
      " 7   'x'      53794 non-null  float64\n",
      " 8   'y'      53794 non-null  float64\n",
      " 9   'z'      53794 non-null  float64\n",
      "dtypes: float64(7), object(3)\n",
      "memory usage: 4.5+ MB\n"
     ]
    }
   ],
   "source": [
    "df.info()"
   ]
  },
  {
   "cell_type": "code",
   "execution_count": 12,
   "metadata": {},
   "outputs": [
    {
     "name": "stdout",
     "output_type": "stream",
     "text": [
      "Unique values in 'cut' column: ['Ideal' 'Premium' 'Good' 'Very Good' 'Fair']\n",
      "Unique values in 'color' column: ['E' 'I' 'J' 'H' 'F' 'G' 'D']\n",
      "Unique values in 'clarity' column: ['SI2' 'SI1' 'VS1' 'VS2' 'VVS2' 'VVS1' 'I1' 'IF']\n"
     ]
    }
   ],
   "source": [
    "# Print out unique values in each categorical column\n",
    "print(\"Unique values in 'cut' column:\", df['cut'].unique())\n",
    "print(\"Unique values in 'color' column:\", df['color'].unique())\n",
    "print(\"Unique values in 'clarity' column:\", df['clarity'].unique())"
   ]
  },
  {
   "cell_type": "code",
   "execution_count": 13,
   "metadata": {},
   "outputs": [
    {
     "data": {
      "text/html": [
       "<div>\n",
       "<style scoped>\n",
       "    .dataframe tbody tr th:only-of-type {\n",
       "        vertical-align: middle;\n",
       "    }\n",
       "\n",
       "    .dataframe tbody tr th {\n",
       "        vertical-align: top;\n",
       "    }\n",
       "\n",
       "    .dataframe thead th {\n",
       "        text-align: right;\n",
       "    }\n",
       "</style>\n",
       "<table border=\"1\" class=\"dataframe\">\n",
       "  <thead>\n",
       "    <tr style=\"text-align: right;\">\n",
       "      <th></th>\n",
       "      <th>carat</th>\n",
       "      <th>cut</th>\n",
       "      <th>color</th>\n",
       "      <th>clarity</th>\n",
       "      <th>depth</th>\n",
       "      <th>table</th>\n",
       "      <th>price</th>\n",
       "      <th>'x'</th>\n",
       "      <th>'y'</th>\n",
       "      <th>'z'</th>\n",
       "    </tr>\n",
       "  </thead>\n",
       "  <tbody>\n",
       "    <tr>\n",
       "      <th>0</th>\n",
       "      <td>0.23</td>\n",
       "      <td>Ideal</td>\n",
       "      <td>E</td>\n",
       "      <td>SI2</td>\n",
       "      <td>61.5</td>\n",
       "      <td>55.0</td>\n",
       "      <td>326.0</td>\n",
       "      <td>3.95</td>\n",
       "      <td>3.98</td>\n",
       "      <td>2.43</td>\n",
       "    </tr>\n",
       "    <tr>\n",
       "      <th>1</th>\n",
       "      <td>0.21</td>\n",
       "      <td>Premium</td>\n",
       "      <td>E</td>\n",
       "      <td>SI1</td>\n",
       "      <td>59.8</td>\n",
       "      <td>61.0</td>\n",
       "      <td>326.0</td>\n",
       "      <td>3.89</td>\n",
       "      <td>3.84</td>\n",
       "      <td>2.31</td>\n",
       "    </tr>\n",
       "    <tr>\n",
       "      <th>2</th>\n",
       "      <td>0.23</td>\n",
       "      <td>Good</td>\n",
       "      <td>E</td>\n",
       "      <td>VS1</td>\n",
       "      <td>56.9</td>\n",
       "      <td>65.0</td>\n",
       "      <td>327.0</td>\n",
       "      <td>4.05</td>\n",
       "      <td>4.07</td>\n",
       "      <td>2.31</td>\n",
       "    </tr>\n",
       "    <tr>\n",
       "      <th>3</th>\n",
       "      <td>0.29</td>\n",
       "      <td>Premium</td>\n",
       "      <td>I</td>\n",
       "      <td>VS2</td>\n",
       "      <td>62.4</td>\n",
       "      <td>58.0</td>\n",
       "      <td>334.0</td>\n",
       "      <td>4.20</td>\n",
       "      <td>4.23</td>\n",
       "      <td>2.63</td>\n",
       "    </tr>\n",
       "    <tr>\n",
       "      <th>4</th>\n",
       "      <td>0.31</td>\n",
       "      <td>Good</td>\n",
       "      <td>J</td>\n",
       "      <td>SI2</td>\n",
       "      <td>63.3</td>\n",
       "      <td>58.0</td>\n",
       "      <td>335.0</td>\n",
       "      <td>4.34</td>\n",
       "      <td>4.35</td>\n",
       "      <td>2.75</td>\n",
       "    </tr>\n",
       "  </tbody>\n",
       "</table>\n",
       "</div>"
      ],
      "text/plain": [
       "   carat      cut color clarity  depth  table  price   'x'   'y'   'z'\n",
       "0   0.23    Ideal     E     SI2   61.5   55.0  326.0  3.95  3.98  2.43\n",
       "1   0.21  Premium     E     SI1   59.8   61.0  326.0  3.89  3.84  2.31\n",
       "2   0.23     Good     E     VS1   56.9   65.0  327.0  4.05  4.07  2.31\n",
       "3   0.29  Premium     I     VS2   62.4   58.0  334.0  4.20  4.23  2.63\n",
       "4   0.31     Good     J     SI2   63.3   58.0  335.0  4.34  4.35  2.75"
      ]
     },
     "execution_count": 13,
     "metadata": {},
     "output_type": "execute_result"
    }
   ],
   "source": [
    "df.head()"
   ]
  },
  {
   "cell_type": "code",
   "execution_count": 14,
   "metadata": {},
   "outputs": [],
   "source": [
    "# Save the cleaned dataset\n",
    "# df.to_csv('data/clean_diamonds_final.csv', index=False)"
   ]
  },
  {
   "cell_type": "code",
   "execution_count": 15,
   "metadata": {},
   "outputs": [
    {
     "name": "stdout",
     "output_type": "stream",
     "text": [
      "Requirement already satisfied: matplotlib in /Users/mohammedzaidsyed/anaconda3/lib/python3.11/site-packages (3.8.3)\n",
      "Requirement already satisfied: contourpy>=1.0.1 in /Users/mohammedzaidsyed/anaconda3/lib/python3.11/site-packages (from matplotlib) (1.0.5)\n",
      "Requirement already satisfied: cycler>=0.10 in /Users/mohammedzaidsyed/anaconda3/lib/python3.11/site-packages (from matplotlib) (0.11.0)\n",
      "Requirement already satisfied: fonttools>=4.22.0 in /Users/mohammedzaidsyed/anaconda3/lib/python3.11/site-packages (from matplotlib) (4.25.0)\n",
      "Requirement already satisfied: kiwisolver>=1.3.1 in /Users/mohammedzaidsyed/anaconda3/lib/python3.11/site-packages (from matplotlib) (1.4.4)\n",
      "Requirement already satisfied: numpy<2,>=1.21 in /Users/mohammedzaidsyed/anaconda3/lib/python3.11/site-packages (from matplotlib) (1.24.4)\n",
      "Requirement already satisfied: packaging>=20.0 in /Users/mohammedzaidsyed/anaconda3/lib/python3.11/site-packages (from matplotlib) (23.1)\n",
      "Requirement already satisfied: pillow>=8 in /Users/mohammedzaidsyed/anaconda3/lib/python3.11/site-packages (from matplotlib) (9.4.0)\n",
      "Requirement already satisfied: pyparsing>=2.3.1 in /Users/mohammedzaidsyed/anaconda3/lib/python3.11/site-packages (from matplotlib) (3.0.9)\n",
      "Requirement already satisfied: python-dateutil>=2.7 in /Users/mohammedzaidsyed/anaconda3/lib/python3.11/site-packages (from matplotlib) (2.8.2)\n",
      "Requirement already satisfied: six>=1.5 in /Users/mohammedzaidsyed/anaconda3/lib/python3.11/site-packages (from python-dateutil>=2.7->matplotlib) (1.16.0)\n"
     ]
    }
   ],
   "source": [
    "!pip3 install --upgrade matplotlib"
   ]
  },
  {
   "cell_type": "markdown",
   "metadata": {},
   "source": [
    "Visualization"
   ]
  },
  {
   "cell_type": "markdown",
   "metadata": {},
   "source": [
    "The below bar charts will show the number of diamonds in each category, which will help us understand why these variables are considered categorical:\n",
    "\n",
    "cut: The quality of the cut is a categorical variable because it describes the cut quality of the diamond in ordered categories such as 'Ideal', 'Premium', 'Good', etc.\n",
    "\n",
    "color: The color of the diamond is a categorical variable because it is rated on a scale from D (best) to J (worst), representing discrete groups.\n",
    "\n",
    "clarity: The clarity of the diamond is a categorical variable because it describes the level of flaws in the diamond using categories like 'SI1', 'VS1', 'VVS2', etc.\n",
    "\n",
    "\n",
    "These visualizations will show that each of these variables contains a limited number of distinct categories, which is a characteristic of categorical variables."
   ]
  },
  {
   "cell_type": "code",
   "execution_count": 16,
   "metadata": {},
   "outputs": [
    {
     "data": {
      "application/vnd.plotly.v1+json": {
       "config": {
        "plotlyServerURL": "https://plot.ly"
       },
       "data": [
        {
         "alignmentgroup": "True",
         "hovertemplate": "cut=%{x}<br>count=%{y}<extra></extra>",
         "legendgroup": "",
         "marker": {
          "color": "#636efa",
          "pattern": {
           "shape": ""
          }
         },
         "name": "",
         "offsetgroup": "",
         "orientation": "v",
         "showlegend": false,
         "textposition": "auto",
         "type": "bar",
         "x": [
          "Ideal",
          "Premium",
          "Very Good",
          "Good",
          "Fair"
         ],
         "xaxis": "x",
         "y": [
          21488,
          13748,
          12069,
          4891,
          1598
         ],
         "yaxis": "y"
        }
       ],
       "layout": {
        "barmode": "relative",
        "legend": {
         "tracegroupgap": 0
        },
        "margin": {
         "t": 60
        },
        "template": {
         "data": {
          "bar": [
           {
            "error_x": {
             "color": "#2a3f5f"
            },
            "error_y": {
             "color": "#2a3f5f"
            },
            "marker": {
             "line": {
              "color": "#E5ECF6",
              "width": 0.5
             },
             "pattern": {
              "fillmode": "overlay",
              "size": 10,
              "solidity": 0.2
             }
            },
            "type": "bar"
           }
          ],
          "barpolar": [
           {
            "marker": {
             "line": {
              "color": "#E5ECF6",
              "width": 0.5
             },
             "pattern": {
              "fillmode": "overlay",
              "size": 10,
              "solidity": 0.2
             }
            },
            "type": "barpolar"
           }
          ],
          "carpet": [
           {
            "aaxis": {
             "endlinecolor": "#2a3f5f",
             "gridcolor": "white",
             "linecolor": "white",
             "minorgridcolor": "white",
             "startlinecolor": "#2a3f5f"
            },
            "baxis": {
             "endlinecolor": "#2a3f5f",
             "gridcolor": "white",
             "linecolor": "white",
             "minorgridcolor": "white",
             "startlinecolor": "#2a3f5f"
            },
            "type": "carpet"
           }
          ],
          "choropleth": [
           {
            "colorbar": {
             "outlinewidth": 0,
             "ticks": ""
            },
            "type": "choropleth"
           }
          ],
          "contour": [
           {
            "colorbar": {
             "outlinewidth": 0,
             "ticks": ""
            },
            "colorscale": [
             [
              0,
              "#0d0887"
             ],
             [
              0.1111111111111111,
              "#46039f"
             ],
             [
              0.2222222222222222,
              "#7201a8"
             ],
             [
              0.3333333333333333,
              "#9c179e"
             ],
             [
              0.4444444444444444,
              "#bd3786"
             ],
             [
              0.5555555555555556,
              "#d8576b"
             ],
             [
              0.6666666666666666,
              "#ed7953"
             ],
             [
              0.7777777777777778,
              "#fb9f3a"
             ],
             [
              0.8888888888888888,
              "#fdca26"
             ],
             [
              1,
              "#f0f921"
             ]
            ],
            "type": "contour"
           }
          ],
          "contourcarpet": [
           {
            "colorbar": {
             "outlinewidth": 0,
             "ticks": ""
            },
            "type": "contourcarpet"
           }
          ],
          "heatmap": [
           {
            "colorbar": {
             "outlinewidth": 0,
             "ticks": ""
            },
            "colorscale": [
             [
              0,
              "#0d0887"
             ],
             [
              0.1111111111111111,
              "#46039f"
             ],
             [
              0.2222222222222222,
              "#7201a8"
             ],
             [
              0.3333333333333333,
              "#9c179e"
             ],
             [
              0.4444444444444444,
              "#bd3786"
             ],
             [
              0.5555555555555556,
              "#d8576b"
             ],
             [
              0.6666666666666666,
              "#ed7953"
             ],
             [
              0.7777777777777778,
              "#fb9f3a"
             ],
             [
              0.8888888888888888,
              "#fdca26"
             ],
             [
              1,
              "#f0f921"
             ]
            ],
            "type": "heatmap"
           }
          ],
          "heatmapgl": [
           {
            "colorbar": {
             "outlinewidth": 0,
             "ticks": ""
            },
            "colorscale": [
             [
              0,
              "#0d0887"
             ],
             [
              0.1111111111111111,
              "#46039f"
             ],
             [
              0.2222222222222222,
              "#7201a8"
             ],
             [
              0.3333333333333333,
              "#9c179e"
             ],
             [
              0.4444444444444444,
              "#bd3786"
             ],
             [
              0.5555555555555556,
              "#d8576b"
             ],
             [
              0.6666666666666666,
              "#ed7953"
             ],
             [
              0.7777777777777778,
              "#fb9f3a"
             ],
             [
              0.8888888888888888,
              "#fdca26"
             ],
             [
              1,
              "#f0f921"
             ]
            ],
            "type": "heatmapgl"
           }
          ],
          "histogram": [
           {
            "marker": {
             "pattern": {
              "fillmode": "overlay",
              "size": 10,
              "solidity": 0.2
             }
            },
            "type": "histogram"
           }
          ],
          "histogram2d": [
           {
            "colorbar": {
             "outlinewidth": 0,
             "ticks": ""
            },
            "colorscale": [
             [
              0,
              "#0d0887"
             ],
             [
              0.1111111111111111,
              "#46039f"
             ],
             [
              0.2222222222222222,
              "#7201a8"
             ],
             [
              0.3333333333333333,
              "#9c179e"
             ],
             [
              0.4444444444444444,
              "#bd3786"
             ],
             [
              0.5555555555555556,
              "#d8576b"
             ],
             [
              0.6666666666666666,
              "#ed7953"
             ],
             [
              0.7777777777777778,
              "#fb9f3a"
             ],
             [
              0.8888888888888888,
              "#fdca26"
             ],
             [
              1,
              "#f0f921"
             ]
            ],
            "type": "histogram2d"
           }
          ],
          "histogram2dcontour": [
           {
            "colorbar": {
             "outlinewidth": 0,
             "ticks": ""
            },
            "colorscale": [
             [
              0,
              "#0d0887"
             ],
             [
              0.1111111111111111,
              "#46039f"
             ],
             [
              0.2222222222222222,
              "#7201a8"
             ],
             [
              0.3333333333333333,
              "#9c179e"
             ],
             [
              0.4444444444444444,
              "#bd3786"
             ],
             [
              0.5555555555555556,
              "#d8576b"
             ],
             [
              0.6666666666666666,
              "#ed7953"
             ],
             [
              0.7777777777777778,
              "#fb9f3a"
             ],
             [
              0.8888888888888888,
              "#fdca26"
             ],
             [
              1,
              "#f0f921"
             ]
            ],
            "type": "histogram2dcontour"
           }
          ],
          "mesh3d": [
           {
            "colorbar": {
             "outlinewidth": 0,
             "ticks": ""
            },
            "type": "mesh3d"
           }
          ],
          "parcoords": [
           {
            "line": {
             "colorbar": {
              "outlinewidth": 0,
              "ticks": ""
             }
            },
            "type": "parcoords"
           }
          ],
          "pie": [
           {
            "automargin": true,
            "type": "pie"
           }
          ],
          "scatter": [
           {
            "fillpattern": {
             "fillmode": "overlay",
             "size": 10,
             "solidity": 0.2
            },
            "type": "scatter"
           }
          ],
          "scatter3d": [
           {
            "line": {
             "colorbar": {
              "outlinewidth": 0,
              "ticks": ""
             }
            },
            "marker": {
             "colorbar": {
              "outlinewidth": 0,
              "ticks": ""
             }
            },
            "type": "scatter3d"
           }
          ],
          "scattercarpet": [
           {
            "marker": {
             "colorbar": {
              "outlinewidth": 0,
              "ticks": ""
             }
            },
            "type": "scattercarpet"
           }
          ],
          "scattergeo": [
           {
            "marker": {
             "colorbar": {
              "outlinewidth": 0,
              "ticks": ""
             }
            },
            "type": "scattergeo"
           }
          ],
          "scattergl": [
           {
            "marker": {
             "colorbar": {
              "outlinewidth": 0,
              "ticks": ""
             }
            },
            "type": "scattergl"
           }
          ],
          "scattermapbox": [
           {
            "marker": {
             "colorbar": {
              "outlinewidth": 0,
              "ticks": ""
             }
            },
            "type": "scattermapbox"
           }
          ],
          "scatterpolar": [
           {
            "marker": {
             "colorbar": {
              "outlinewidth": 0,
              "ticks": ""
             }
            },
            "type": "scatterpolar"
           }
          ],
          "scatterpolargl": [
           {
            "marker": {
             "colorbar": {
              "outlinewidth": 0,
              "ticks": ""
             }
            },
            "type": "scatterpolargl"
           }
          ],
          "scatterternary": [
           {
            "marker": {
             "colorbar": {
              "outlinewidth": 0,
              "ticks": ""
             }
            },
            "type": "scatterternary"
           }
          ],
          "surface": [
           {
            "colorbar": {
             "outlinewidth": 0,
             "ticks": ""
            },
            "colorscale": [
             [
              0,
              "#0d0887"
             ],
             [
              0.1111111111111111,
              "#46039f"
             ],
             [
              0.2222222222222222,
              "#7201a8"
             ],
             [
              0.3333333333333333,
              "#9c179e"
             ],
             [
              0.4444444444444444,
              "#bd3786"
             ],
             [
              0.5555555555555556,
              "#d8576b"
             ],
             [
              0.6666666666666666,
              "#ed7953"
             ],
             [
              0.7777777777777778,
              "#fb9f3a"
             ],
             [
              0.8888888888888888,
              "#fdca26"
             ],
             [
              1,
              "#f0f921"
             ]
            ],
            "type": "surface"
           }
          ],
          "table": [
           {
            "cells": {
             "fill": {
              "color": "#EBF0F8"
             },
             "line": {
              "color": "white"
             }
            },
            "header": {
             "fill": {
              "color": "#C8D4E3"
             },
             "line": {
              "color": "white"
             }
            },
            "type": "table"
           }
          ]
         },
         "layout": {
          "annotationdefaults": {
           "arrowcolor": "#2a3f5f",
           "arrowhead": 0,
           "arrowwidth": 1
          },
          "autotypenumbers": "strict",
          "coloraxis": {
           "colorbar": {
            "outlinewidth": 0,
            "ticks": ""
           }
          },
          "colorscale": {
           "diverging": [
            [
             0,
             "#8e0152"
            ],
            [
             0.1,
             "#c51b7d"
            ],
            [
             0.2,
             "#de77ae"
            ],
            [
             0.3,
             "#f1b6da"
            ],
            [
             0.4,
             "#fde0ef"
            ],
            [
             0.5,
             "#f7f7f7"
            ],
            [
             0.6,
             "#e6f5d0"
            ],
            [
             0.7,
             "#b8e186"
            ],
            [
             0.8,
             "#7fbc41"
            ],
            [
             0.9,
             "#4d9221"
            ],
            [
             1,
             "#276419"
            ]
           ],
           "sequential": [
            [
             0,
             "#0d0887"
            ],
            [
             0.1111111111111111,
             "#46039f"
            ],
            [
             0.2222222222222222,
             "#7201a8"
            ],
            [
             0.3333333333333333,
             "#9c179e"
            ],
            [
             0.4444444444444444,
             "#bd3786"
            ],
            [
             0.5555555555555556,
             "#d8576b"
            ],
            [
             0.6666666666666666,
             "#ed7953"
            ],
            [
             0.7777777777777778,
             "#fb9f3a"
            ],
            [
             0.8888888888888888,
             "#fdca26"
            ],
            [
             1,
             "#f0f921"
            ]
           ],
           "sequentialminus": [
            [
             0,
             "#0d0887"
            ],
            [
             0.1111111111111111,
             "#46039f"
            ],
            [
             0.2222222222222222,
             "#7201a8"
            ],
            [
             0.3333333333333333,
             "#9c179e"
            ],
            [
             0.4444444444444444,
             "#bd3786"
            ],
            [
             0.5555555555555556,
             "#d8576b"
            ],
            [
             0.6666666666666666,
             "#ed7953"
            ],
            [
             0.7777777777777778,
             "#fb9f3a"
            ],
            [
             0.8888888888888888,
             "#fdca26"
            ],
            [
             1,
             "#f0f921"
            ]
           ]
          },
          "colorway": [
           "#636efa",
           "#EF553B",
           "#00cc96",
           "#ab63fa",
           "#FFA15A",
           "#19d3f3",
           "#FF6692",
           "#B6E880",
           "#FF97FF",
           "#FECB52"
          ],
          "font": {
           "color": "#2a3f5f"
          },
          "geo": {
           "bgcolor": "white",
           "lakecolor": "white",
           "landcolor": "#E5ECF6",
           "showlakes": true,
           "showland": true,
           "subunitcolor": "white"
          },
          "hoverlabel": {
           "align": "left"
          },
          "hovermode": "closest",
          "mapbox": {
           "style": "light"
          },
          "paper_bgcolor": "white",
          "plot_bgcolor": "#E5ECF6",
          "polar": {
           "angularaxis": {
            "gridcolor": "white",
            "linecolor": "white",
            "ticks": ""
           },
           "bgcolor": "#E5ECF6",
           "radialaxis": {
            "gridcolor": "white",
            "linecolor": "white",
            "ticks": ""
           }
          },
          "scene": {
           "xaxis": {
            "backgroundcolor": "#E5ECF6",
            "gridcolor": "white",
            "gridwidth": 2,
            "linecolor": "white",
            "showbackground": true,
            "ticks": "",
            "zerolinecolor": "white"
           },
           "yaxis": {
            "backgroundcolor": "#E5ECF6",
            "gridcolor": "white",
            "gridwidth": 2,
            "linecolor": "white",
            "showbackground": true,
            "ticks": "",
            "zerolinecolor": "white"
           },
           "zaxis": {
            "backgroundcolor": "#E5ECF6",
            "gridcolor": "white",
            "gridwidth": 2,
            "linecolor": "white",
            "showbackground": true,
            "ticks": "",
            "zerolinecolor": "white"
           }
          },
          "shapedefaults": {
           "line": {
            "color": "#2a3f5f"
           }
          },
          "ternary": {
           "aaxis": {
            "gridcolor": "white",
            "linecolor": "white",
            "ticks": ""
           },
           "baxis": {
            "gridcolor": "white",
            "linecolor": "white",
            "ticks": ""
           },
           "bgcolor": "#E5ECF6",
           "caxis": {
            "gridcolor": "white",
            "linecolor": "white",
            "ticks": ""
           }
          },
          "title": {
           "x": 0.05
          },
          "xaxis": {
           "automargin": true,
           "gridcolor": "white",
           "linecolor": "white",
           "ticks": "",
           "title": {
            "standoff": 15
           },
           "zerolinecolor": "white",
           "zerolinewidth": 2
          },
          "yaxis": {
           "automargin": true,
           "gridcolor": "white",
           "linecolor": "white",
           "ticks": "",
           "title": {
            "standoff": 15
           },
           "zerolinecolor": "white",
           "zerolinewidth": 2
          }
         }
        },
        "title": {
         "text": "Distribution of Cut Quality"
        },
        "xaxis": {
         "anchor": "y",
         "domain": [
          0,
          1
         ],
         "title": {
          "text": "Cut"
         }
        },
        "yaxis": {
         "anchor": "x",
         "domain": [
          0,
          1
         ],
         "title": {
          "text": "Frequency"
         }
        }
       }
      }
     },
     "metadata": {},
     "output_type": "display_data"
    },
    {
     "data": {
      "application/vnd.plotly.v1+json": {
       "config": {
        "plotlyServerURL": "https://plot.ly"
       },
       "data": [
        {
         "alignmentgroup": "True",
         "hovertemplate": "color=%{x}<br>count=%{y}<extra></extra>",
         "legendgroup": "",
         "marker": {
          "color": "#636efa",
          "pattern": {
           "shape": ""
          }
         },
         "name": "",
         "offsetgroup": "",
         "orientation": "v",
         "showlegend": false,
         "textposition": "auto",
         "type": "bar",
         "x": [
          "G",
          "E",
          "F",
          "H",
          "D",
          "I",
          "J"
         ],
         "xaxis": "x",
         "y": [
          11262,
          9776,
          9520,
          8272,
          6755,
          5407,
          2802
         ],
         "yaxis": "y"
        }
       ],
       "layout": {
        "barmode": "relative",
        "legend": {
         "tracegroupgap": 0
        },
        "margin": {
         "t": 60
        },
        "template": {
         "data": {
          "bar": [
           {
            "error_x": {
             "color": "#2a3f5f"
            },
            "error_y": {
             "color": "#2a3f5f"
            },
            "marker": {
             "line": {
              "color": "#E5ECF6",
              "width": 0.5
             },
             "pattern": {
              "fillmode": "overlay",
              "size": 10,
              "solidity": 0.2
             }
            },
            "type": "bar"
           }
          ],
          "barpolar": [
           {
            "marker": {
             "line": {
              "color": "#E5ECF6",
              "width": 0.5
             },
             "pattern": {
              "fillmode": "overlay",
              "size": 10,
              "solidity": 0.2
             }
            },
            "type": "barpolar"
           }
          ],
          "carpet": [
           {
            "aaxis": {
             "endlinecolor": "#2a3f5f",
             "gridcolor": "white",
             "linecolor": "white",
             "minorgridcolor": "white",
             "startlinecolor": "#2a3f5f"
            },
            "baxis": {
             "endlinecolor": "#2a3f5f",
             "gridcolor": "white",
             "linecolor": "white",
             "minorgridcolor": "white",
             "startlinecolor": "#2a3f5f"
            },
            "type": "carpet"
           }
          ],
          "choropleth": [
           {
            "colorbar": {
             "outlinewidth": 0,
             "ticks": ""
            },
            "type": "choropleth"
           }
          ],
          "contour": [
           {
            "colorbar": {
             "outlinewidth": 0,
             "ticks": ""
            },
            "colorscale": [
             [
              0,
              "#0d0887"
             ],
             [
              0.1111111111111111,
              "#46039f"
             ],
             [
              0.2222222222222222,
              "#7201a8"
             ],
             [
              0.3333333333333333,
              "#9c179e"
             ],
             [
              0.4444444444444444,
              "#bd3786"
             ],
             [
              0.5555555555555556,
              "#d8576b"
             ],
             [
              0.6666666666666666,
              "#ed7953"
             ],
             [
              0.7777777777777778,
              "#fb9f3a"
             ],
             [
              0.8888888888888888,
              "#fdca26"
             ],
             [
              1,
              "#f0f921"
             ]
            ],
            "type": "contour"
           }
          ],
          "contourcarpet": [
           {
            "colorbar": {
             "outlinewidth": 0,
             "ticks": ""
            },
            "type": "contourcarpet"
           }
          ],
          "heatmap": [
           {
            "colorbar": {
             "outlinewidth": 0,
             "ticks": ""
            },
            "colorscale": [
             [
              0,
              "#0d0887"
             ],
             [
              0.1111111111111111,
              "#46039f"
             ],
             [
              0.2222222222222222,
              "#7201a8"
             ],
             [
              0.3333333333333333,
              "#9c179e"
             ],
             [
              0.4444444444444444,
              "#bd3786"
             ],
             [
              0.5555555555555556,
              "#d8576b"
             ],
             [
              0.6666666666666666,
              "#ed7953"
             ],
             [
              0.7777777777777778,
              "#fb9f3a"
             ],
             [
              0.8888888888888888,
              "#fdca26"
             ],
             [
              1,
              "#f0f921"
             ]
            ],
            "type": "heatmap"
           }
          ],
          "heatmapgl": [
           {
            "colorbar": {
             "outlinewidth": 0,
             "ticks": ""
            },
            "colorscale": [
             [
              0,
              "#0d0887"
             ],
             [
              0.1111111111111111,
              "#46039f"
             ],
             [
              0.2222222222222222,
              "#7201a8"
             ],
             [
              0.3333333333333333,
              "#9c179e"
             ],
             [
              0.4444444444444444,
              "#bd3786"
             ],
             [
              0.5555555555555556,
              "#d8576b"
             ],
             [
              0.6666666666666666,
              "#ed7953"
             ],
             [
              0.7777777777777778,
              "#fb9f3a"
             ],
             [
              0.8888888888888888,
              "#fdca26"
             ],
             [
              1,
              "#f0f921"
             ]
            ],
            "type": "heatmapgl"
           }
          ],
          "histogram": [
           {
            "marker": {
             "pattern": {
              "fillmode": "overlay",
              "size": 10,
              "solidity": 0.2
             }
            },
            "type": "histogram"
           }
          ],
          "histogram2d": [
           {
            "colorbar": {
             "outlinewidth": 0,
             "ticks": ""
            },
            "colorscale": [
             [
              0,
              "#0d0887"
             ],
             [
              0.1111111111111111,
              "#46039f"
             ],
             [
              0.2222222222222222,
              "#7201a8"
             ],
             [
              0.3333333333333333,
              "#9c179e"
             ],
             [
              0.4444444444444444,
              "#bd3786"
             ],
             [
              0.5555555555555556,
              "#d8576b"
             ],
             [
              0.6666666666666666,
              "#ed7953"
             ],
             [
              0.7777777777777778,
              "#fb9f3a"
             ],
             [
              0.8888888888888888,
              "#fdca26"
             ],
             [
              1,
              "#f0f921"
             ]
            ],
            "type": "histogram2d"
           }
          ],
          "histogram2dcontour": [
           {
            "colorbar": {
             "outlinewidth": 0,
             "ticks": ""
            },
            "colorscale": [
             [
              0,
              "#0d0887"
             ],
             [
              0.1111111111111111,
              "#46039f"
             ],
             [
              0.2222222222222222,
              "#7201a8"
             ],
             [
              0.3333333333333333,
              "#9c179e"
             ],
             [
              0.4444444444444444,
              "#bd3786"
             ],
             [
              0.5555555555555556,
              "#d8576b"
             ],
             [
              0.6666666666666666,
              "#ed7953"
             ],
             [
              0.7777777777777778,
              "#fb9f3a"
             ],
             [
              0.8888888888888888,
              "#fdca26"
             ],
             [
              1,
              "#f0f921"
             ]
            ],
            "type": "histogram2dcontour"
           }
          ],
          "mesh3d": [
           {
            "colorbar": {
             "outlinewidth": 0,
             "ticks": ""
            },
            "type": "mesh3d"
           }
          ],
          "parcoords": [
           {
            "line": {
             "colorbar": {
              "outlinewidth": 0,
              "ticks": ""
             }
            },
            "type": "parcoords"
           }
          ],
          "pie": [
           {
            "automargin": true,
            "type": "pie"
           }
          ],
          "scatter": [
           {
            "fillpattern": {
             "fillmode": "overlay",
             "size": 10,
             "solidity": 0.2
            },
            "type": "scatter"
           }
          ],
          "scatter3d": [
           {
            "line": {
             "colorbar": {
              "outlinewidth": 0,
              "ticks": ""
             }
            },
            "marker": {
             "colorbar": {
              "outlinewidth": 0,
              "ticks": ""
             }
            },
            "type": "scatter3d"
           }
          ],
          "scattercarpet": [
           {
            "marker": {
             "colorbar": {
              "outlinewidth": 0,
              "ticks": ""
             }
            },
            "type": "scattercarpet"
           }
          ],
          "scattergeo": [
           {
            "marker": {
             "colorbar": {
              "outlinewidth": 0,
              "ticks": ""
             }
            },
            "type": "scattergeo"
           }
          ],
          "scattergl": [
           {
            "marker": {
             "colorbar": {
              "outlinewidth": 0,
              "ticks": ""
             }
            },
            "type": "scattergl"
           }
          ],
          "scattermapbox": [
           {
            "marker": {
             "colorbar": {
              "outlinewidth": 0,
              "ticks": ""
             }
            },
            "type": "scattermapbox"
           }
          ],
          "scatterpolar": [
           {
            "marker": {
             "colorbar": {
              "outlinewidth": 0,
              "ticks": ""
             }
            },
            "type": "scatterpolar"
           }
          ],
          "scatterpolargl": [
           {
            "marker": {
             "colorbar": {
              "outlinewidth": 0,
              "ticks": ""
             }
            },
            "type": "scatterpolargl"
           }
          ],
          "scatterternary": [
           {
            "marker": {
             "colorbar": {
              "outlinewidth": 0,
              "ticks": ""
             }
            },
            "type": "scatterternary"
           }
          ],
          "surface": [
           {
            "colorbar": {
             "outlinewidth": 0,
             "ticks": ""
            },
            "colorscale": [
             [
              0,
              "#0d0887"
             ],
             [
              0.1111111111111111,
              "#46039f"
             ],
             [
              0.2222222222222222,
              "#7201a8"
             ],
             [
              0.3333333333333333,
              "#9c179e"
             ],
             [
              0.4444444444444444,
              "#bd3786"
             ],
             [
              0.5555555555555556,
              "#d8576b"
             ],
             [
              0.6666666666666666,
              "#ed7953"
             ],
             [
              0.7777777777777778,
              "#fb9f3a"
             ],
             [
              0.8888888888888888,
              "#fdca26"
             ],
             [
              1,
              "#f0f921"
             ]
            ],
            "type": "surface"
           }
          ],
          "table": [
           {
            "cells": {
             "fill": {
              "color": "#EBF0F8"
             },
             "line": {
              "color": "white"
             }
            },
            "header": {
             "fill": {
              "color": "#C8D4E3"
             },
             "line": {
              "color": "white"
             }
            },
            "type": "table"
           }
          ]
         },
         "layout": {
          "annotationdefaults": {
           "arrowcolor": "#2a3f5f",
           "arrowhead": 0,
           "arrowwidth": 1
          },
          "autotypenumbers": "strict",
          "coloraxis": {
           "colorbar": {
            "outlinewidth": 0,
            "ticks": ""
           }
          },
          "colorscale": {
           "diverging": [
            [
             0,
             "#8e0152"
            ],
            [
             0.1,
             "#c51b7d"
            ],
            [
             0.2,
             "#de77ae"
            ],
            [
             0.3,
             "#f1b6da"
            ],
            [
             0.4,
             "#fde0ef"
            ],
            [
             0.5,
             "#f7f7f7"
            ],
            [
             0.6,
             "#e6f5d0"
            ],
            [
             0.7,
             "#b8e186"
            ],
            [
             0.8,
             "#7fbc41"
            ],
            [
             0.9,
             "#4d9221"
            ],
            [
             1,
             "#276419"
            ]
           ],
           "sequential": [
            [
             0,
             "#0d0887"
            ],
            [
             0.1111111111111111,
             "#46039f"
            ],
            [
             0.2222222222222222,
             "#7201a8"
            ],
            [
             0.3333333333333333,
             "#9c179e"
            ],
            [
             0.4444444444444444,
             "#bd3786"
            ],
            [
             0.5555555555555556,
             "#d8576b"
            ],
            [
             0.6666666666666666,
             "#ed7953"
            ],
            [
             0.7777777777777778,
             "#fb9f3a"
            ],
            [
             0.8888888888888888,
             "#fdca26"
            ],
            [
             1,
             "#f0f921"
            ]
           ],
           "sequentialminus": [
            [
             0,
             "#0d0887"
            ],
            [
             0.1111111111111111,
             "#46039f"
            ],
            [
             0.2222222222222222,
             "#7201a8"
            ],
            [
             0.3333333333333333,
             "#9c179e"
            ],
            [
             0.4444444444444444,
             "#bd3786"
            ],
            [
             0.5555555555555556,
             "#d8576b"
            ],
            [
             0.6666666666666666,
             "#ed7953"
            ],
            [
             0.7777777777777778,
             "#fb9f3a"
            ],
            [
             0.8888888888888888,
             "#fdca26"
            ],
            [
             1,
             "#f0f921"
            ]
           ]
          },
          "colorway": [
           "#636efa",
           "#EF553B",
           "#00cc96",
           "#ab63fa",
           "#FFA15A",
           "#19d3f3",
           "#FF6692",
           "#B6E880",
           "#FF97FF",
           "#FECB52"
          ],
          "font": {
           "color": "#2a3f5f"
          },
          "geo": {
           "bgcolor": "white",
           "lakecolor": "white",
           "landcolor": "#E5ECF6",
           "showlakes": true,
           "showland": true,
           "subunitcolor": "white"
          },
          "hoverlabel": {
           "align": "left"
          },
          "hovermode": "closest",
          "mapbox": {
           "style": "light"
          },
          "paper_bgcolor": "white",
          "plot_bgcolor": "#E5ECF6",
          "polar": {
           "angularaxis": {
            "gridcolor": "white",
            "linecolor": "white",
            "ticks": ""
           },
           "bgcolor": "#E5ECF6",
           "radialaxis": {
            "gridcolor": "white",
            "linecolor": "white",
            "ticks": ""
           }
          },
          "scene": {
           "xaxis": {
            "backgroundcolor": "#E5ECF6",
            "gridcolor": "white",
            "gridwidth": 2,
            "linecolor": "white",
            "showbackground": true,
            "ticks": "",
            "zerolinecolor": "white"
           },
           "yaxis": {
            "backgroundcolor": "#E5ECF6",
            "gridcolor": "white",
            "gridwidth": 2,
            "linecolor": "white",
            "showbackground": true,
            "ticks": "",
            "zerolinecolor": "white"
           },
           "zaxis": {
            "backgroundcolor": "#E5ECF6",
            "gridcolor": "white",
            "gridwidth": 2,
            "linecolor": "white",
            "showbackground": true,
            "ticks": "",
            "zerolinecolor": "white"
           }
          },
          "shapedefaults": {
           "line": {
            "color": "#2a3f5f"
           }
          },
          "ternary": {
           "aaxis": {
            "gridcolor": "white",
            "linecolor": "white",
            "ticks": ""
           },
           "baxis": {
            "gridcolor": "white",
            "linecolor": "white",
            "ticks": ""
           },
           "bgcolor": "#E5ECF6",
           "caxis": {
            "gridcolor": "white",
            "linecolor": "white",
            "ticks": ""
           }
          },
          "title": {
           "x": 0.05
          },
          "xaxis": {
           "automargin": true,
           "gridcolor": "white",
           "linecolor": "white",
           "ticks": "",
           "title": {
            "standoff": 15
           },
           "zerolinecolor": "white",
           "zerolinewidth": 2
          },
          "yaxis": {
           "automargin": true,
           "gridcolor": "white",
           "linecolor": "white",
           "ticks": "",
           "title": {
            "standoff": 15
           },
           "zerolinecolor": "white",
           "zerolinewidth": 2
          }
         }
        },
        "title": {
         "text": "Distribution of Diamond Color"
        },
        "xaxis": {
         "anchor": "y",
         "domain": [
          0,
          1
         ],
         "title": {
          "text": "Color"
         }
        },
        "yaxis": {
         "anchor": "x",
         "domain": [
          0,
          1
         ],
         "title": {
          "text": "Frequency"
         }
        }
       }
      }
     },
     "metadata": {},
     "output_type": "display_data"
    },
    {
     "data": {
      "application/vnd.plotly.v1+json": {
       "config": {
        "plotlyServerURL": "https://plot.ly"
       },
       "data": [
        {
         "alignmentgroup": "True",
         "hovertemplate": "clarity=%{x}<br>count=%{y}<extra></extra>",
         "legendgroup": "",
         "marker": {
          "color": "#636efa",
          "pattern": {
           "shape": ""
          }
         },
         "name": "",
         "offsetgroup": "",
         "orientation": "v",
         "showlegend": false,
         "textposition": "auto",
         "type": "bar",
         "x": [
          "SI1",
          "VS2",
          "SI2",
          "VS1",
          "VVS2",
          "VVS1",
          "IF",
          "I1"
         ],
         "xaxis": "x",
         "y": [
          13032,
          12229,
          9150,
          8156,
          5056,
          3647,
          1784,
          740
         ],
         "yaxis": "y"
        }
       ],
       "layout": {
        "barmode": "relative",
        "legend": {
         "tracegroupgap": 0
        },
        "margin": {
         "t": 60
        },
        "template": {
         "data": {
          "bar": [
           {
            "error_x": {
             "color": "#2a3f5f"
            },
            "error_y": {
             "color": "#2a3f5f"
            },
            "marker": {
             "line": {
              "color": "#E5ECF6",
              "width": 0.5
             },
             "pattern": {
              "fillmode": "overlay",
              "size": 10,
              "solidity": 0.2
             }
            },
            "type": "bar"
           }
          ],
          "barpolar": [
           {
            "marker": {
             "line": {
              "color": "#E5ECF6",
              "width": 0.5
             },
             "pattern": {
              "fillmode": "overlay",
              "size": 10,
              "solidity": 0.2
             }
            },
            "type": "barpolar"
           }
          ],
          "carpet": [
           {
            "aaxis": {
             "endlinecolor": "#2a3f5f",
             "gridcolor": "white",
             "linecolor": "white",
             "minorgridcolor": "white",
             "startlinecolor": "#2a3f5f"
            },
            "baxis": {
             "endlinecolor": "#2a3f5f",
             "gridcolor": "white",
             "linecolor": "white",
             "minorgridcolor": "white",
             "startlinecolor": "#2a3f5f"
            },
            "type": "carpet"
           }
          ],
          "choropleth": [
           {
            "colorbar": {
             "outlinewidth": 0,
             "ticks": ""
            },
            "type": "choropleth"
           }
          ],
          "contour": [
           {
            "colorbar": {
             "outlinewidth": 0,
             "ticks": ""
            },
            "colorscale": [
             [
              0,
              "#0d0887"
             ],
             [
              0.1111111111111111,
              "#46039f"
             ],
             [
              0.2222222222222222,
              "#7201a8"
             ],
             [
              0.3333333333333333,
              "#9c179e"
             ],
             [
              0.4444444444444444,
              "#bd3786"
             ],
             [
              0.5555555555555556,
              "#d8576b"
             ],
             [
              0.6666666666666666,
              "#ed7953"
             ],
             [
              0.7777777777777778,
              "#fb9f3a"
             ],
             [
              0.8888888888888888,
              "#fdca26"
             ],
             [
              1,
              "#f0f921"
             ]
            ],
            "type": "contour"
           }
          ],
          "contourcarpet": [
           {
            "colorbar": {
             "outlinewidth": 0,
             "ticks": ""
            },
            "type": "contourcarpet"
           }
          ],
          "heatmap": [
           {
            "colorbar": {
             "outlinewidth": 0,
             "ticks": ""
            },
            "colorscale": [
             [
              0,
              "#0d0887"
             ],
             [
              0.1111111111111111,
              "#46039f"
             ],
             [
              0.2222222222222222,
              "#7201a8"
             ],
             [
              0.3333333333333333,
              "#9c179e"
             ],
             [
              0.4444444444444444,
              "#bd3786"
             ],
             [
              0.5555555555555556,
              "#d8576b"
             ],
             [
              0.6666666666666666,
              "#ed7953"
             ],
             [
              0.7777777777777778,
              "#fb9f3a"
             ],
             [
              0.8888888888888888,
              "#fdca26"
             ],
             [
              1,
              "#f0f921"
             ]
            ],
            "type": "heatmap"
           }
          ],
          "heatmapgl": [
           {
            "colorbar": {
             "outlinewidth": 0,
             "ticks": ""
            },
            "colorscale": [
             [
              0,
              "#0d0887"
             ],
             [
              0.1111111111111111,
              "#46039f"
             ],
             [
              0.2222222222222222,
              "#7201a8"
             ],
             [
              0.3333333333333333,
              "#9c179e"
             ],
             [
              0.4444444444444444,
              "#bd3786"
             ],
             [
              0.5555555555555556,
              "#d8576b"
             ],
             [
              0.6666666666666666,
              "#ed7953"
             ],
             [
              0.7777777777777778,
              "#fb9f3a"
             ],
             [
              0.8888888888888888,
              "#fdca26"
             ],
             [
              1,
              "#f0f921"
             ]
            ],
            "type": "heatmapgl"
           }
          ],
          "histogram": [
           {
            "marker": {
             "pattern": {
              "fillmode": "overlay",
              "size": 10,
              "solidity": 0.2
             }
            },
            "type": "histogram"
           }
          ],
          "histogram2d": [
           {
            "colorbar": {
             "outlinewidth": 0,
             "ticks": ""
            },
            "colorscale": [
             [
              0,
              "#0d0887"
             ],
             [
              0.1111111111111111,
              "#46039f"
             ],
             [
              0.2222222222222222,
              "#7201a8"
             ],
             [
              0.3333333333333333,
              "#9c179e"
             ],
             [
              0.4444444444444444,
              "#bd3786"
             ],
             [
              0.5555555555555556,
              "#d8576b"
             ],
             [
              0.6666666666666666,
              "#ed7953"
             ],
             [
              0.7777777777777778,
              "#fb9f3a"
             ],
             [
              0.8888888888888888,
              "#fdca26"
             ],
             [
              1,
              "#f0f921"
             ]
            ],
            "type": "histogram2d"
           }
          ],
          "histogram2dcontour": [
           {
            "colorbar": {
             "outlinewidth": 0,
             "ticks": ""
            },
            "colorscale": [
             [
              0,
              "#0d0887"
             ],
             [
              0.1111111111111111,
              "#46039f"
             ],
             [
              0.2222222222222222,
              "#7201a8"
             ],
             [
              0.3333333333333333,
              "#9c179e"
             ],
             [
              0.4444444444444444,
              "#bd3786"
             ],
             [
              0.5555555555555556,
              "#d8576b"
             ],
             [
              0.6666666666666666,
              "#ed7953"
             ],
             [
              0.7777777777777778,
              "#fb9f3a"
             ],
             [
              0.8888888888888888,
              "#fdca26"
             ],
             [
              1,
              "#f0f921"
             ]
            ],
            "type": "histogram2dcontour"
           }
          ],
          "mesh3d": [
           {
            "colorbar": {
             "outlinewidth": 0,
             "ticks": ""
            },
            "type": "mesh3d"
           }
          ],
          "parcoords": [
           {
            "line": {
             "colorbar": {
              "outlinewidth": 0,
              "ticks": ""
             }
            },
            "type": "parcoords"
           }
          ],
          "pie": [
           {
            "automargin": true,
            "type": "pie"
           }
          ],
          "scatter": [
           {
            "fillpattern": {
             "fillmode": "overlay",
             "size": 10,
             "solidity": 0.2
            },
            "type": "scatter"
           }
          ],
          "scatter3d": [
           {
            "line": {
             "colorbar": {
              "outlinewidth": 0,
              "ticks": ""
             }
            },
            "marker": {
             "colorbar": {
              "outlinewidth": 0,
              "ticks": ""
             }
            },
            "type": "scatter3d"
           }
          ],
          "scattercarpet": [
           {
            "marker": {
             "colorbar": {
              "outlinewidth": 0,
              "ticks": ""
             }
            },
            "type": "scattercarpet"
           }
          ],
          "scattergeo": [
           {
            "marker": {
             "colorbar": {
              "outlinewidth": 0,
              "ticks": ""
             }
            },
            "type": "scattergeo"
           }
          ],
          "scattergl": [
           {
            "marker": {
             "colorbar": {
              "outlinewidth": 0,
              "ticks": ""
             }
            },
            "type": "scattergl"
           }
          ],
          "scattermapbox": [
           {
            "marker": {
             "colorbar": {
              "outlinewidth": 0,
              "ticks": ""
             }
            },
            "type": "scattermapbox"
           }
          ],
          "scatterpolar": [
           {
            "marker": {
             "colorbar": {
              "outlinewidth": 0,
              "ticks": ""
             }
            },
            "type": "scatterpolar"
           }
          ],
          "scatterpolargl": [
           {
            "marker": {
             "colorbar": {
              "outlinewidth": 0,
              "ticks": ""
             }
            },
            "type": "scatterpolargl"
           }
          ],
          "scatterternary": [
           {
            "marker": {
             "colorbar": {
              "outlinewidth": 0,
              "ticks": ""
             }
            },
            "type": "scatterternary"
           }
          ],
          "surface": [
           {
            "colorbar": {
             "outlinewidth": 0,
             "ticks": ""
            },
            "colorscale": [
             [
              0,
              "#0d0887"
             ],
             [
              0.1111111111111111,
              "#46039f"
             ],
             [
              0.2222222222222222,
              "#7201a8"
             ],
             [
              0.3333333333333333,
              "#9c179e"
             ],
             [
              0.4444444444444444,
              "#bd3786"
             ],
             [
              0.5555555555555556,
              "#d8576b"
             ],
             [
              0.6666666666666666,
              "#ed7953"
             ],
             [
              0.7777777777777778,
              "#fb9f3a"
             ],
             [
              0.8888888888888888,
              "#fdca26"
             ],
             [
              1,
              "#f0f921"
             ]
            ],
            "type": "surface"
           }
          ],
          "table": [
           {
            "cells": {
             "fill": {
              "color": "#EBF0F8"
             },
             "line": {
              "color": "white"
             }
            },
            "header": {
             "fill": {
              "color": "#C8D4E3"
             },
             "line": {
              "color": "white"
             }
            },
            "type": "table"
           }
          ]
         },
         "layout": {
          "annotationdefaults": {
           "arrowcolor": "#2a3f5f",
           "arrowhead": 0,
           "arrowwidth": 1
          },
          "autotypenumbers": "strict",
          "coloraxis": {
           "colorbar": {
            "outlinewidth": 0,
            "ticks": ""
           }
          },
          "colorscale": {
           "diverging": [
            [
             0,
             "#8e0152"
            ],
            [
             0.1,
             "#c51b7d"
            ],
            [
             0.2,
             "#de77ae"
            ],
            [
             0.3,
             "#f1b6da"
            ],
            [
             0.4,
             "#fde0ef"
            ],
            [
             0.5,
             "#f7f7f7"
            ],
            [
             0.6,
             "#e6f5d0"
            ],
            [
             0.7,
             "#b8e186"
            ],
            [
             0.8,
             "#7fbc41"
            ],
            [
             0.9,
             "#4d9221"
            ],
            [
             1,
             "#276419"
            ]
           ],
           "sequential": [
            [
             0,
             "#0d0887"
            ],
            [
             0.1111111111111111,
             "#46039f"
            ],
            [
             0.2222222222222222,
             "#7201a8"
            ],
            [
             0.3333333333333333,
             "#9c179e"
            ],
            [
             0.4444444444444444,
             "#bd3786"
            ],
            [
             0.5555555555555556,
             "#d8576b"
            ],
            [
             0.6666666666666666,
             "#ed7953"
            ],
            [
             0.7777777777777778,
             "#fb9f3a"
            ],
            [
             0.8888888888888888,
             "#fdca26"
            ],
            [
             1,
             "#f0f921"
            ]
           ],
           "sequentialminus": [
            [
             0,
             "#0d0887"
            ],
            [
             0.1111111111111111,
             "#46039f"
            ],
            [
             0.2222222222222222,
             "#7201a8"
            ],
            [
             0.3333333333333333,
             "#9c179e"
            ],
            [
             0.4444444444444444,
             "#bd3786"
            ],
            [
             0.5555555555555556,
             "#d8576b"
            ],
            [
             0.6666666666666666,
             "#ed7953"
            ],
            [
             0.7777777777777778,
             "#fb9f3a"
            ],
            [
             0.8888888888888888,
             "#fdca26"
            ],
            [
             1,
             "#f0f921"
            ]
           ]
          },
          "colorway": [
           "#636efa",
           "#EF553B",
           "#00cc96",
           "#ab63fa",
           "#FFA15A",
           "#19d3f3",
           "#FF6692",
           "#B6E880",
           "#FF97FF",
           "#FECB52"
          ],
          "font": {
           "color": "#2a3f5f"
          },
          "geo": {
           "bgcolor": "white",
           "lakecolor": "white",
           "landcolor": "#E5ECF6",
           "showlakes": true,
           "showland": true,
           "subunitcolor": "white"
          },
          "hoverlabel": {
           "align": "left"
          },
          "hovermode": "closest",
          "mapbox": {
           "style": "light"
          },
          "paper_bgcolor": "white",
          "plot_bgcolor": "#E5ECF6",
          "polar": {
           "angularaxis": {
            "gridcolor": "white",
            "linecolor": "white",
            "ticks": ""
           },
           "bgcolor": "#E5ECF6",
           "radialaxis": {
            "gridcolor": "white",
            "linecolor": "white",
            "ticks": ""
           }
          },
          "scene": {
           "xaxis": {
            "backgroundcolor": "#E5ECF6",
            "gridcolor": "white",
            "gridwidth": 2,
            "linecolor": "white",
            "showbackground": true,
            "ticks": "",
            "zerolinecolor": "white"
           },
           "yaxis": {
            "backgroundcolor": "#E5ECF6",
            "gridcolor": "white",
            "gridwidth": 2,
            "linecolor": "white",
            "showbackground": true,
            "ticks": "",
            "zerolinecolor": "white"
           },
           "zaxis": {
            "backgroundcolor": "#E5ECF6",
            "gridcolor": "white",
            "gridwidth": 2,
            "linecolor": "white",
            "showbackground": true,
            "ticks": "",
            "zerolinecolor": "white"
           }
          },
          "shapedefaults": {
           "line": {
            "color": "#2a3f5f"
           }
          },
          "ternary": {
           "aaxis": {
            "gridcolor": "white",
            "linecolor": "white",
            "ticks": ""
           },
           "baxis": {
            "gridcolor": "white",
            "linecolor": "white",
            "ticks": ""
           },
           "bgcolor": "#E5ECF6",
           "caxis": {
            "gridcolor": "white",
            "linecolor": "white",
            "ticks": ""
           }
          },
          "title": {
           "x": 0.05
          },
          "xaxis": {
           "automargin": true,
           "gridcolor": "white",
           "linecolor": "white",
           "ticks": "",
           "title": {
            "standoff": 15
           },
           "zerolinecolor": "white",
           "zerolinewidth": 2
          },
          "yaxis": {
           "automargin": true,
           "gridcolor": "white",
           "linecolor": "white",
           "ticks": "",
           "title": {
            "standoff": 15
           },
           "zerolinecolor": "white",
           "zerolinewidth": 2
          }
         }
        },
        "title": {
         "text": "Distribution of Diamond Clarity"
        },
        "xaxis": {
         "anchor": "y",
         "domain": [
          0,
          1
         ],
         "title": {
          "text": "Clarity"
         }
        },
        "yaxis": {
         "anchor": "x",
         "domain": [
          0,
          1
         ],
         "title": {
          "text": "Frequency"
         }
        }
       }
      }
     },
     "metadata": {},
     "output_type": "display_data"
    }
   ],
   "source": [
    "import plotly.express as px\n",
    "\n",
    "# Assuming 'df' is your dataframe and it has been loaded correctly from the provided CSV file\n",
    "\n",
    "# Interactive bar plot for 'cut'\n",
    "cut_counts = df['cut'].value_counts().reset_index()\n",
    "cut_counts.columns = ['cut', 'count']  # Rename the columns appropriately\n",
    "fig = px.bar(cut_counts, x='cut', y='count')\n",
    "fig.update_layout(title_text='Distribution of Cut Quality', xaxis_title='Cut', yaxis_title='Frequency')\n",
    "fig.show()\n",
    "\n",
    "# Interactive bar plot for 'color'\n",
    "color_counts = df['color'].value_counts().reset_index()\n",
    "color_counts.columns = ['color', 'count']  # Rename the columns appropriately\n",
    "fig = px.bar(color_counts, x='color', y='count')\n",
    "fig.update_layout(title_text='Distribution of Diamond Color', xaxis_title='Color', yaxis_title='Frequency')\n",
    "fig.show()\n",
    "\n",
    "# Interactive bar plot for 'clarity'\n",
    "clarity_counts = df['clarity'].value_counts().reset_index()\n",
    "clarity_counts.columns = ['clarity', 'count']  # Rename the columns appropriately\n",
    "fig = px.bar(clarity_counts, x='clarity', y='count')\n",
    "fig.update_layout(title_text='Distribution of Diamond Clarity', xaxis_title='Clarity', yaxis_title='Frequency')\n",
    "fig.show()"
   ]
  },
  {
   "cell_type": "code",
   "execution_count": 17,
   "metadata": {},
   "outputs": [],
   "source": [
    "CATEGORICAL_COLS = [\"cut\", \"color\", \"clarity\"]"
   ]
  },
  {
   "cell_type": "code",
   "execution_count": 18,
   "metadata": {},
   "outputs": [],
   "source": [
    "from typing import List\n",
    "from sklearn.feature_extraction import DictVectorizer\n",
    "\n",
    "def encode_cols(df: pd.DataFrame, categorical_cols: List[str] = None) -> pd.DataFrame:\n",
    "    if categorical_cols is None:\n",
    "        categorical_cols = [\"cut\", \"color\", \"clarity\"]\n",
    "        \n",
    "    df[categorical_cols] = df[categorical_cols].apply(lambda x: x.astype(str).str.lower())\n",
    "    return df\n",
    "\n",
    "\n",
    "def extract_x_y(\n",
    "    df: pd.DataFrame,\n",
    "    categorical_cols: List[str] = None,\n",
    "    dv: DictVectorizer = None,\n",
    "    with_target: bool = True,\n",
    ") -> dict:\n",
    "    if categorical_cols is None:\n",
    "         categorical_cols = [\"cut\", \"color\", \"clarity\"]\n",
    "    dicts = df[[*categorical_cols]].to_dict(orient=\"records\")\n",
    "\n",
    "    y = None\n",
    "    if with_target:\n",
    "        if dv is None:\n",
    "            dv = DictVectorizer()\n",
    "            dv.fit(dicts)\n",
    "        y = df[\"price\"].values\n",
    "\n",
    "    x = dv.transform(dicts)\n",
    "    return x, y, dv\n",
    "\n",
    "# save the preprocessor into saved_pkl folder\n",
    "import pickle\n",
    "def save_picked(path: str, file):\n",
    "    with open(path, \"wb\") as f:\n",
    "        pickle.dump(file, f)"
   ]
  },
  {
   "cell_type": "code",
   "execution_count": 19,
   "metadata": {},
   "outputs": [],
   "source": [
    "from sklearn.model_selection import train_test_split\n",
    "# try all steps\n",
    "df = load_data('data/clean_diamonds_final.csv')\n",
    "df.to_csv(\"data/clean_diamonds_final.csv\", index=False)\n",
    "train_df, test_df = train_test_split(df, test_size=0.2, random_state=42)\n",
    "train_df.to_csv(\"data/train-set.csv\")\n",
    "test_df.to_csv(\"data/test-set.csv\")\n",
    "train_df = encode_cols(train_df)\n",
    "test_df = encode_cols(test_df)\n",
    "X_train, y_train, dv = extract_x_y(train_df)\n",
    "X_test, y_test, _ = extract_x_y(test_df, dv=dv)"
   ]
  },
  {
   "cell_type": "code",
   "execution_count": 20,
   "metadata": {},
   "outputs": [
    {
     "name": "stdout",
     "output_type": "stream",
     "text": [
      "Train MAE: 2938.1313963480197\n",
      "Train MSE: 15435671.365517385\n",
      "Train R2: 0.039457279247914534\n",
      "Test MAE: 2871.1504674909415\n",
      "Test MSE: 14795750.33292254\n",
      "Test R2: 0.02928210402722875\n"
     ]
    },
    {
     "name": "stderr",
     "output_type": "stream",
     "text": [
      "/Users/mohammedzaidsyed/anaconda3/lib/python3.11/site-packages/_distutils_hack/__init__.py:26: UserWarning:\n",
      "\n",
      "Setuptools is replacing distutils.\n",
      "\n",
      "Registered model 'diamond_price_predictor_v3' already exists. Creating a new version of this model...\n",
      "Created version '5' of model 'diamond_price_predictor_v3'.\n"
     ]
    }
   ],
   "source": [
    "import mlflow\n",
    "import mlflow.sklearn\n",
    "from sklearn.feature_extraction.text import TfidfVectorizer\n",
    "from sklearn.ensemble import RandomForestRegressor\n",
    "from sklearn.metrics import mean_absolute_error, mean_squared_error, r2_score\n",
    "from typing import List\n",
    "\n",
    "# Set the experiment name\n",
    "mlflow.set_experiment(\"diamonds_price_predictor\")\n",
    "\n",
    "# Check if there's an active run, and end it if necessary\n",
    "if mlflow.active_run():\n",
    "    mlflow.end_run()\n",
    "\n",
    "# Start a run\n",
    "with mlflow.start_run() as run:\n",
    "    run_id = run.info.run_id\n",
    "\n",
    "    # Set tags for the run\n",
    "    mlflow.set_tag(\"experiment_id\", run_id)\n",
    "\n",
    "    # Load data - assuming you have functions to load your data\n",
    "    train_df = load_data(\"data/train-set.csv\")\n",
    "    test_df = load_data(\"data/test-set.csv\")\n",
    "\n",
    "    # Preprocess the text data\n",
    "    train_text = train_df[['cut', 'color', 'clarity']].apply(lambda x: ' '.join(x), axis=1).tolist()\n",
    "    test_text = test_df[['cut', 'color', 'clarity']].apply(lambda x: ' '.join(x), axis=1).tolist()\n",
    "\n",
    "\n",
    "    # Vectorize the text data\n",
    "    vectorizer = TfidfVectorizer()\n",
    "    X_train = vectorizer.fit_transform(train_text)\n",
    "    X_test = vectorizer.transform(test_text)\n",
    "\n",
    "    y_train = train_df['price']\n",
    "    y_test = test_df['price']\n",
    "\n",
    "    # Train a regression model\n",
    "    model = RandomForestRegressor(random_state=0)\n",
    "    model.fit(X_train, y_train)\n",
    "\n",
    "    # Evaluate the model\n",
    "    y_train_pred = model.predict(X_train)\n",
    "    train_mae = mean_absolute_error(y_train, y_train_pred)\n",
    "    train_mse = mean_squared_error(y_train, y_train_pred)\n",
    "    train_r2 = r2_score(y_train, y_train_pred)\n",
    "\n",
    "    mlflow.log_metric(\"train_mae\", train_mae)\n",
    "    mlflow.log_metric(\"train_mse\", train_mse)\n",
    "    mlflow.log_metric(\"train_r2\", train_r2)\n",
    "\n",
    "    print(\"Train MAE:\", train_mae)\n",
    "    print(\"Train MSE:\", train_mse)\n",
    "    print(\"Train R2:\", train_r2)\n",
    "\n",
    "    y_test_pred = model.predict(X_test)\n",
    "    test_mae = mean_absolute_error(y_test, y_test_pred)\n",
    "    test_mse = mean_squared_error(y_test, y_test_pred)\n",
    "    test_r2 = r2_score(y_test, y_test_pred)\n",
    "\n",
    "    mlflow.log_metric(\"test_mae\", test_mae)\n",
    "    mlflow.log_metric(\"test_mse\", test_mse)\n",
    "    mlflow.log_metric(\"test_r2\", test_r2)\n",
    "\n",
    "    print(\"Test MAE:\", test_mae)\n",
    "    print(\"Test MSE:\", test_mse)\n",
    "    print(\"Test R2:\", test_r2)\n",
    "\n",
    "    # Log the model\n",
    "    mlflow.sklearn.log_model(model, \"model\")\n",
    "\n",
    "    # Register the model in MLflow Model Registry\n",
    "    model_name = \"diamond_price_predictor_v3\"\n",
    "    model_description = \"Diamond Price Predictor\"\n",
    "    mlflow.register_model(\"runs:/{}/model\".format(run_id), model_name)"
   ]
  },
  {
   "cell_type": "code",
   "execution_count": 21,
   "metadata": {},
   "outputs": [
    {
     "name": "stderr",
     "output_type": "stream",
     "text": [
      "/var/folders/5r/9zpf96f977d87960ftjtdkgc0000gn/T/ipykernel_84680/136919919.py:14: FutureWarning:\n",
      "\n",
      "``mlflow.tracking.client.MlflowClient.transition_model_version_stage`` is deprecated since 2.9.0. Model registry stages will be removed in a future major release. To learn more about the deprecation of model registry stages, see our migration guide here: https://mlflow.org/docs/2.9.2/model-registry.html#migrating-from-stages\n",
      "\n"
     ]
    },
    {
     "data": {
      "text/plain": [
       "<ModelVersion: aliases=[], creation_timestamp=1707661295624, current_stage='Production', description=None, last_updated_timestamp=1712181769847, name='diamond_price_predictor_v1', run_id='558ffabccf9a42529a05219ce7558e58', run_link=None, source='file:///Users/mohammedzaidsyed/Desktop/Diamond/MLOPS_Diamond/mlruns/779128597837821808/558ffabccf9a42529a05219ce7558e58/artifacts/model', status='READY', status_message=None, tags={}, user_id=None, version=1>"
      ]
     },
     "execution_count": 21,
     "metadata": {},
     "output_type": "execute_result"
    }
   ],
   "source": [
    "from mlflow.tracking import MlflowClient\n",
    "\n",
    "# Initialize MLflow tracking client\n",
    "client = MlflowClient()\n",
    "\n",
    "# Set the correct model type and experiment path\n",
    "model_type = \"random_forest_regressor\"\n",
    "mlflow_experiment_path = 'diamond_price_predictor_v1'\n",
    "\n",
    "# Specify the version of the model to be transitioned\n",
    "production_version = 1\n",
    "\n",
    "# Transition the specified model version to the \"Production\" stage\n",
    "client.transition_model_version_stage(name=mlflow_experiment_path, version=production_version, stage=\"Production\")"
   ]
  },
  {
   "cell_type": "code",
   "execution_count": 22,
   "metadata": {},
   "outputs": [
    {
     "name": "stdout",
     "output_type": "stream",
     "text": [
      "/Users/mohammedzaidsyed/anaconda3/lib/python3.11/site-packages/pydantic/_internal/_config.py:322: UserWarning: Valid config keys have changed in V2:\n",
      "* 'schema_extra' has been renamed to 'json_schema_extra'\n",
      "  warnings.warn(message, UserWarning)\n",
      "[2024-04-04 00:02:51 +0200] [84752] [INFO] Starting gunicorn 21.2.0\n",
      "[2024-04-04 00:02:51 +0200] [84752] [INFO] Listening at: http://0.0.0.0:5002 (84752)\n",
      "[2024-04-04 00:02:51 +0200] [84752] [INFO] Using worker: sync\n",
      "[2024-04-04 00:02:51 +0200] [84753] [INFO] Booting worker with pid: 84753\n",
      "[2024-04-04 00:02:51 +0200] [84758] [INFO] Booting worker with pid: 84758\n",
      "[2024-04-04 00:02:51 +0200] [84759] [INFO] Booting worker with pid: 84759\n",
      "[2024-04-04 00:02:51 +0200] [84760] [INFO] Booting worker with pid: 84760\n",
      "^C\n",
      "[2024-04-04 00:02:58 +0200] [84752] [INFO] Handling signal: int\n",
      "[2024-04-04 00:02:58 +0200] [84753] [INFO] Worker exiting (pid: 84753)\n",
      "[2024-04-04 00:02:58 +0200] [84758] [INFO] Worker exiting (pid: 84758)\n",
      "[2024-04-04 00:02:58 +0200] [84760] [INFO] Worker exiting (pid: 84760)\n",
      "[2024-04-04 00:02:58 +0200] [84759] [INFO] Worker exiting (pid: 84759)\n"
     ]
    }
   ],
   "source": [
    "!mlflow ui --host 0.0.0.0 --port 5002"
   ]
  },
  {
   "cell_type": "code",
   "execution_count": 23,
   "metadata": {},
   "outputs": [],
   "source": [
    "import pickle\n",
    "\n",
    "def save_pickle(file, path):\n",
    "    \"\"\"\n",
    "    Save the file using pickle.\n",
    "    \n",
    "    Parameters:\n",
    "        file: Any - The object to be saved.\n",
    "        path: str - The path to save the file.\n",
    "    \"\"\"\n",
    "    with open(path, \"wb\") as f:\n",
    "        pickle.dump(file, f)\n",
    "\n",
    "# Example usage:\n",
    "save_pickle(model, \"/Users/mohammedzaidsyed/Desktop/Diamond/MLOPS_Diamond/Model_savedpkl/Model_v/model.pkl\")\n",
    "save_pickle(dv, \"/Users/mohammedzaidsyed/Desktop/Diamond/MLOPS_Diamond/Model_savedpkl/dv_v/dv.pkl\")"
   ]
  },
  {
   "cell_type": "code",
   "execution_count": 24,
   "metadata": {},
   "outputs": [
    {
     "name": "stderr",
     "output_type": "stream",
     "text": [
      "/Users/mohammedzaidsyed/anaconda3/lib/python3.11/site-packages/mlflow/store/artifact/utils/models.py:32: FutureWarning:\n",
      "\n",
      "``mlflow.tracking.client.MlflowClient.get_latest_versions`` is deprecated since 2.9.0. Model registry stages will be removed in a future major release. To learn more about the deprecation of model registry stages, see our migration guide here: https://mlflow.org/docs/2.9.2/model-registry.html#migrating-from-stages\n",
      "\n",
      "/Users/mohammedzaidsyed/anaconda3/lib/python3.11/site-packages/sklearn/base.py:376: InconsistentVersionWarning:\n",
      "\n",
      "Trying to unpickle estimator DecisionTreeRegressor from version 1.3.2 when using version 1.4.0. This might lead to breaking code or invalid results. Use at your own risk. For more info please refer to:\n",
      "https://scikit-learn.org/stable/model_persistence.html#security-maintainability-limitations\n",
      "\n",
      "/Users/mohammedzaidsyed/anaconda3/lib/python3.11/site-packages/sklearn/base.py:376: InconsistentVersionWarning:\n",
      "\n",
      "Trying to unpickle estimator RandomForestRegressor from version 1.3.2 when using version 1.4.0. This might lead to breaking code or invalid results. Use at your own risk. For more info please refer to:\n",
      "https://scikit-learn.org/stable/model_persistence.html#security-maintainability-limitations\n",
      "\n"
     ]
    }
   ],
   "source": [
    "# from config import PATH_TO_MODEL, PATH_TO_PREPROCESSOR\n",
    "# Load production model\n",
    "model_uri = f\"models:/{mlflow_experiment_path}/production\"\n",
    "model = mlflow.sklearn.load_model(model_uri)\n",
    "save_picked(\"/Users/mohammedzaidsyed/Desktop/Diamond/MLOPS_Diamond/Model_savedpkl/Model_v/model.pkl\", model)\n",
    "\n",
    "def load_pickle(path):\n",
    "    with open(path, \"rb\") as f:\n",
    "        file = pickle.load(f)\n",
    "    return file\n",
    "\n",
    "dv = load_pickle(\"/Users/mohammedzaidsyed/Desktop/Diamond/MLOPS_Diamond/Model_savedpkl/dv_v/dv.pkl\")\n",
    "model = load_pickle(\"/Users/mohammedzaidsyed/Desktop/Diamond/MLOPS_Diamond/Model_savedpkl/Model_v/model.pkl\")"
   ]
  },
  {
   "cell_type": "code",
   "execution_count": 25,
   "metadata": {},
   "outputs": [
    {
     "name": "stdout",
     "output_type": "stream",
     "text": [
      "/Users/mohammedzaidsyed/anaconda3/lib/python3.11/site-packages/pydantic/_internal/_config.py:322: UserWarning: Valid config keys have changed in V2:\n",
      "* 'schema_extra' has been renamed to 'json_schema_extra'\n",
      "  warnings.warn(message, UserWarning)\n",
      "[2024-04-04 00:03:08 +0200] [84824] [INFO] Starting gunicorn 21.2.0\n",
      "[2024-04-04 00:03:08 +0200] [84824] [INFO] Listening at: http://127.0.0.1:8080 (84824)\n",
      "[2024-04-04 00:03:08 +0200] [84824] [INFO] Using worker: sync\n",
      "[2024-04-04 00:03:08 +0200] [84825] [INFO] Booting worker with pid: 84825\n",
      "[2024-04-04 00:03:08 +0200] [84826] [INFO] Booting worker with pid: 84826\n",
      "[2024-04-04 00:03:08 +0200] [84827] [INFO] Booting worker with pid: 84827\n",
      "[2024-04-04 00:03:08 +0200] [84828] [INFO] Booting worker with pid: 84828\n",
      "[2024-04-04 01:39:25 +0200] [84824] [CRITICAL] WORKER TIMEOUT (pid:84825)\n",
      "[2024-04-04 01:39:25 +0200] [84824] [CRITICAL] WORKER TIMEOUT (pid:84826)\n",
      "[2024-04-04 01:39:25 +0200] [84824] [CRITICAL] WORKER TIMEOUT (pid:84827)\n",
      "[2024-04-04 01:39:25 +0200] [84824] [CRITICAL] WORKER TIMEOUT (pid:84828)\n",
      "[2024-04-04 01:39:25 +0200] [84825] [INFO] Worker exiting (pid: 84825)\n",
      "[2024-04-04 01:39:25 +0200] [84828] [INFO] Worker exiting (pid: 84828)\n",
      "[2024-04-04 01:39:25 +0200] [84826] [INFO] Worker exiting (pid: 84826)\n",
      "[2024-04-04 01:39:25 +0200] [84827] [INFO] Worker exiting (pid: 84827)\n",
      "[2024-04-04 01:39:26 +0200] [84824] [ERROR] Worker (pid:84826) exited with code 1\n",
      "[2024-04-04 01:39:26 +0200] [84824] [ERROR] Worker (pid:84826) exited with code 1.\n",
      "[2024-04-04 01:39:26 +0200] [84824] [ERROR] Worker (pid:84825) exited with code 1\n",
      "[2024-04-04 01:39:26 +0200] [84824] [ERROR] Worker (pid:84825) exited with code 1.\n",
      "[2024-04-04 01:39:26 +0200] [84824] [ERROR] Worker (pid:84828) exited with code 1\n",
      "[2024-04-04 01:39:26 +0200] [84824] [ERROR] Worker (pid:84828) exited with code 1.\n",
      "[2024-04-04 01:39:26 +0200] [84824] [ERROR] Worker (pid:84827) exited with code 1\n",
      "[2024-04-04 01:39:26 +0200] [84824] [ERROR] Worker (pid:84827) exited with code 1.\n",
      "[2024-04-04 01:39:26 +0200] [252] [INFO] Booting worker with pid: 252\n",
      "[2024-04-04 01:39:26 +0200] [255] [INFO] Booting worker with pid: 255\n",
      "[2024-04-04 01:39:26 +0200] [256] [INFO] Booting worker with pid: 256\n",
      "[2024-04-04 01:39:26 +0200] [258] [INFO] Booting worker with pid: 258\n",
      "[2024-04-04 01:55:55 +0200] [84824] [CRITICAL] WORKER TIMEOUT (pid:252)\n",
      "[2024-04-04 01:55:55 +0200] [84824] [CRITICAL] WORKER TIMEOUT (pid:255)\n",
      "[2024-04-04 01:55:55 +0200] [84824] [CRITICAL] WORKER TIMEOUT (pid:256)\n",
      "[2024-04-04 01:55:55 +0200] [84824] [CRITICAL] WORKER TIMEOUT (pid:258)\n",
      "[2024-04-04 01:55:55 +0200] [258] [INFO] Worker exiting (pid: 258)\n",
      "[2024-04-04 01:55:55 +0200] [252] [INFO] Worker exiting (pid: 252)\n",
      "[2024-04-04 01:55:55 +0200] [256] [INFO] Worker exiting (pid: 256)\n",
      "[2024-04-04 01:55:55 +0200] [255] [INFO] Worker exiting (pid: 255)\n",
      "[2024-04-04 01:55:55 +0200] [84824] [ERROR] Worker (pid:258) exited with code 1\n",
      "[2024-04-04 01:55:55 +0200] [84824] [ERROR] Worker (pid:258) exited with code 1.\n",
      "[2024-04-04 01:55:55 +0200] [84824] [ERROR] Worker (pid:256) exited with code 1\n",
      "[2024-04-04 01:55:55 +0200] [84824] [ERROR] Worker (pid:256) exited with code 1.\n",
      "[2024-04-04 01:55:55 +0200] [289] [INFO] Booting worker with pid: 289\n",
      "[2024-04-04 01:55:55 +0200] [84824] [ERROR] Worker (pid:255) was sent SIGKILL! Perhaps out of memory?\n",
      "[2024-04-04 01:55:55 +0200] [84824] [ERROR] Worker (pid:252) was sent SIGKILL! Perhaps out of memory?\n",
      "[2024-04-04 01:55:55 +0200] [291] [INFO] Booting worker with pid: 291\n",
      "[2024-04-04 01:55:55 +0200] [292] [INFO] Booting worker with pid: 292\n",
      "[2024-04-04 01:55:55 +0200] [294] [INFO] Booting worker with pid: 294\n",
      "[2024-04-04 02:12:07 +0200] [84824] [CRITICAL] WORKER TIMEOUT (pid:289)\n",
      "[2024-04-04 02:12:07 +0200] [84824] [CRITICAL] WORKER TIMEOUT (pid:291)\n",
      "[2024-04-04 02:12:07 +0200] [84824] [CRITICAL] WORKER TIMEOUT (pid:292)\n",
      "[2024-04-04 02:12:07 +0200] [84824] [CRITICAL] WORKER TIMEOUT (pid:294)\n",
      "[2024-04-04 02:12:07 +0200] [289] [INFO] Worker exiting (pid: 289)\n",
      "[2024-04-04 02:12:07 +0200] [291] [INFO] Worker exiting (pid: 291)\n",
      "[2024-04-04 02:12:07 +0200] [292] [INFO] Worker exiting (pid: 292)\n",
      "[2024-04-04 02:12:07 +0200] [294] [INFO] Worker exiting (pid: 294)\n",
      "[2024-04-04 02:12:08 +0200] [84824] [ERROR] Worker (pid:292) exited with code 1\n",
      "[2024-04-04 02:12:08 +0200] [84824] [ERROR] Worker (pid:292) exited with code 1.\n",
      "[2024-04-04 02:12:08 +0200] [329] [INFO] Booting worker with pid: 329\n",
      "[2024-04-04 02:12:08 +0200] [84824] [ERROR] Worker (pid:294) was sent SIGKILL! Perhaps out of memory?\n",
      "[2024-04-04 02:12:08 +0200] [84824] [ERROR] Worker (pid:291) was sent SIGKILL! Perhaps out of memory?\n",
      "[2024-04-04 02:12:08 +0200] [84824] [ERROR] Worker (pid:289) was sent SIGKILL! Perhaps out of memory?\n",
      "[2024-04-04 02:12:08 +0200] [330] [INFO] Booting worker with pid: 330\n",
      "[2024-04-04 02:12:08 +0200] [331] [INFO] Booting worker with pid: 331\n",
      "[2024-04-04 02:12:08 +0200] [332] [INFO] Booting worker with pid: 332\n",
      "[2024-04-04 02:29:30 +0200] [84824] [CRITICAL] WORKER TIMEOUT (pid:329)\n",
      "[2024-04-04 02:29:30 +0200] [84824] [CRITICAL] WORKER TIMEOUT (pid:330)\n",
      "[2024-04-04 02:29:30 +0200] [84824] [CRITICAL] WORKER TIMEOUT (pid:331)\n",
      "[2024-04-04 02:29:30 +0200] [84824] [CRITICAL] WORKER TIMEOUT (pid:332)\n",
      "[2024-04-04 02:29:30 +0200] [332] [INFO] Worker exiting (pid: 332)\n",
      "[2024-04-04 02:29:30 +0200] [329] [INFO] Worker exiting (pid: 329)\n",
      "[2024-04-04 02:29:30 +0200] [331] [INFO] Worker exiting (pid: 331)\n",
      "[2024-04-04 02:29:30 +0200] [330] [INFO] Worker exiting (pid: 330)\n",
      "[2024-04-04 02:29:30 +0200] [84824] [ERROR] Worker (pid:329) exited with code 1\n",
      "[2024-04-04 02:29:30 +0200] [84824] [ERROR] Worker (pid:329) exited with code 1.\n",
      "[2024-04-04 02:29:30 +0200] [84824] [ERROR] Worker (pid:330) exited with code 1\n",
      "[2024-04-04 02:29:30 +0200] [84824] [ERROR] Worker (pid:330) exited with code 1.\n",
      "[2024-04-04 02:29:30 +0200] [84824] [ERROR] Worker (pid:332) exited with code 1\n",
      "[2024-04-04 02:29:30 +0200] [84824] [ERROR] Worker (pid:332) exited with code 1.\n",
      "[2024-04-04 02:29:30 +0200] [354] [INFO] Booting worker with pid: 354\n",
      "[2024-04-04 02:29:30 +0200] [84824] [ERROR] Worker (pid:331) was sent SIGKILL! Perhaps out of memory?\n",
      "[2024-04-04 02:29:30 +0200] [355] [INFO] Booting worker with pid: 355\n",
      "[2024-04-04 02:29:30 +0200] [356] [INFO] Booting worker with pid: 356\n",
      "[2024-04-04 02:29:30 +0200] [357] [INFO] Booting worker with pid: 357\n",
      "[2024-04-04 02:45:46 +0200] [84824] [CRITICAL] WORKER TIMEOUT (pid:354)\n",
      "[2024-04-04 02:45:46 +0200] [84824] [CRITICAL] WORKER TIMEOUT (pid:355)\n",
      "[2024-04-04 02:45:46 +0200] [84824] [CRITICAL] WORKER TIMEOUT (pid:356)\n",
      "[2024-04-04 02:45:46 +0200] [84824] [CRITICAL] WORKER TIMEOUT (pid:357)\n",
      "[2024-04-04 02:45:46 +0200] [354] [INFO] Worker exiting (pid: 354)\n",
      "[2024-04-04 02:45:46 +0200] [355] [INFO] Worker exiting (pid: 355)\n",
      "[2024-04-04 02:45:46 +0200] [357] [INFO] Worker exiting (pid: 357)\n",
      "[2024-04-04 02:45:46 +0200] [356] [INFO] Worker exiting (pid: 356)\n",
      "[2024-04-04 02:45:47 +0200] [84824] [ERROR] Worker (pid:356) exited with code 1\n",
      "[2024-04-04 02:45:47 +0200] [84824] [ERROR] Worker (pid:356) exited with code 1.\n",
      "[2024-04-04 02:45:47 +0200] [84824] [ERROR] Worker (pid:354) exited with code 1\n",
      "[2024-04-04 02:45:47 +0200] [84824] [ERROR] Worker (pid:354) exited with code 1.\n",
      "[2024-04-04 02:45:47 +0200] [84824] [ERROR] Worker (pid:357) exited with code 1\n",
      "[2024-04-04 02:45:47 +0200] [84824] [ERROR] Worker (pid:357) exited with code 1.\n",
      "[2024-04-04 02:45:47 +0200] [387] [INFO] Booting worker with pid: 387\n",
      "[2024-04-04 02:45:47 +0200] [84824] [ERROR] Worker (pid:355) was sent SIGKILL! Perhaps out of memory?\n",
      "[2024-04-04 02:45:47 +0200] [388] [INFO] Booting worker with pid: 388\n",
      "[2024-04-04 02:45:47 +0200] [389] [INFO] Booting worker with pid: 389\n",
      "[2024-04-04 02:45:47 +0200] [391] [INFO] Booting worker with pid: 391\n",
      "[2024-04-04 03:01:10 +0200] [84824] [CRITICAL] WORKER TIMEOUT (pid:387)\n",
      "[2024-04-04 03:01:10 +0200] [84824] [CRITICAL] WORKER TIMEOUT (pid:388)\n",
      "[2024-04-04 03:01:10 +0200] [84824] [CRITICAL] WORKER TIMEOUT (pid:389)\n",
      "[2024-04-04 03:01:10 +0200] [84824] [CRITICAL] WORKER TIMEOUT (pid:391)\n",
      "[2024-04-04 03:01:10 +0200] [391] [INFO] Worker exiting (pid: 391)\n",
      "[2024-04-04 03:01:10 +0200] [387] [INFO] Worker exiting (pid: 387)\n",
      "[2024-04-04 03:01:10 +0200] [388] [INFO] Worker exiting (pid: 388)\n",
      "[2024-04-04 03:01:10 +0200] [389] [INFO] Worker exiting (pid: 389)\n",
      "[2024-04-04 03:01:10 +0200] [84824] [ERROR] Worker (pid:387) exited with code 1\n",
      "[2024-04-04 03:01:10 +0200] [84824] [ERROR] Worker (pid:387) exited with code 1.\n",
      "[2024-04-04 03:01:10 +0200] [84824] [ERROR] Worker (pid:391) exited with code 1\n",
      "[2024-04-04 03:01:10 +0200] [84824] [ERROR] Worker (pid:391) exited with code 1.\n",
      "[2024-04-04 03:01:10 +0200] [427] [INFO] Booting worker with pid: 427\n",
      "[2024-04-04 03:01:10 +0200] [84824] [ERROR] Worker (pid:389) was sent SIGKILL! Perhaps out of memory?\n",
      "[2024-04-04 03:01:10 +0200] [84824] [ERROR] Worker (pid:388) was sent SIGKILL! Perhaps out of memory?\n",
      "[2024-04-04 03:01:10 +0200] [428] [INFO] Booting worker with pid: 428\n",
      "[2024-04-04 03:01:10 +0200] [429] [INFO] Booting worker with pid: 429\n",
      "[2024-04-04 03:01:10 +0200] [430] [INFO] Booting worker with pid: 430\n",
      "[2024-04-04 03:18:01 +0200] [84824] [CRITICAL] WORKER TIMEOUT (pid:427)\n",
      "[2024-04-04 03:18:01 +0200] [84824] [CRITICAL] WORKER TIMEOUT (pid:428)\n",
      "[2024-04-04 03:18:01 +0200] [84824] [CRITICAL] WORKER TIMEOUT (pid:429)\n",
      "[2024-04-04 03:18:01 +0200] [84824] [CRITICAL] WORKER TIMEOUT (pid:430)\n",
      "[2024-04-04 03:18:01 +0200] [427] [INFO] Worker exiting (pid: 427)\n",
      "[2024-04-04 03:18:01 +0200] [428] [INFO] Worker exiting (pid: 428)\n",
      "[2024-04-04 03:18:01 +0200] [429] [INFO] Worker exiting (pid: 429)\n",
      "[2024-04-04 03:18:01 +0200] [430] [INFO] Worker exiting (pid: 430)\n",
      "[2024-04-04 03:18:01 +0200] [84824] [ERROR] Worker (pid:429) exited with code 1\n",
      "[2024-04-04 03:18:01 +0200] [84824] [ERROR] Worker (pid:429) exited with code 1.\n",
      "[2024-04-04 03:18:01 +0200] [451] [INFO] Booting worker with pid: 451\n",
      "[2024-04-04 03:18:01 +0200] [84824] [ERROR] Worker (pid:428) was sent SIGKILL! Perhaps out of memory?\n",
      "[2024-04-04 03:18:01 +0200] [84824] [ERROR] Worker (pid:427) was sent SIGKILL! Perhaps out of memory?\n",
      "[2024-04-04 03:18:01 +0200] [84824] [ERROR] Worker (pid:430) was sent SIGKILL! Perhaps out of memory?\n",
      "[2024-04-04 03:18:01 +0200] [452] [INFO] Booting worker with pid: 452\n",
      "[2024-04-04 03:18:01 +0200] [453] [INFO] Booting worker with pid: 453\n",
      "[2024-04-04 03:18:01 +0200] [455] [INFO] Booting worker with pid: 455\n",
      "[2024-04-04 03:23:10 +0200] [84824] [CRITICAL] WORKER TIMEOUT (pid:451)\n",
      "[2024-04-04 03:23:10 +0200] [84824] [CRITICAL] WORKER TIMEOUT (pid:452)\n",
      "[2024-04-04 03:23:10 +0200] [84824] [CRITICAL] WORKER TIMEOUT (pid:453)\n",
      "[2024-04-04 03:23:10 +0200] [84824] [CRITICAL] WORKER TIMEOUT (pid:455)\n",
      "[2024-04-04 03:23:10 +0200] [451] [INFO] Worker exiting (pid: 451)\n",
      "[2024-04-04 03:23:10 +0200] [453] [INFO] Worker exiting (pid: 453)\n",
      "[2024-04-04 03:23:10 +0200] [455] [INFO] Worker exiting (pid: 455)\n",
      "[2024-04-04 03:23:10 +0200] [452] [INFO] Worker exiting (pid: 452)\n",
      "[2024-04-04 03:23:11 +0200] [84824] [ERROR] Worker (pid:452) exited with code 1\n",
      "[2024-04-04 03:23:11 +0200] [84824] [ERROR] Worker (pid:452) exited with code 1.\n",
      "[2024-04-04 03:23:11 +0200] [84824] [ERROR] Worker (pid:453) exited with code 1\n",
      "[2024-04-04 03:23:11 +0200] [84824] [ERROR] Worker (pid:453) exited with code 1.\n",
      "[2024-04-04 03:23:11 +0200] [84824] [ERROR] Worker (pid:455) exited with code 1\n",
      "[2024-04-04 03:23:11 +0200] [84824] [ERROR] Worker (pid:455) exited with code 1.\n",
      "[2024-04-04 03:23:11 +0200] [551] [INFO] Booting worker with pid: 551\n",
      "[2024-04-04 03:23:11 +0200] [84824] [ERROR] Worker (pid:451) exited with code 1\n",
      "[2024-04-04 03:23:11 +0200] [84824] [ERROR] Worker (pid:451) exited with code 1.\n",
      "[2024-04-04 03:23:11 +0200] [552] [INFO] Booting worker with pid: 552\n",
      "[2024-04-04 03:23:11 +0200] [554] [INFO] Booting worker with pid: 554\n",
      "[2024-04-04 03:23:11 +0200] [557] [INFO] Booting worker with pid: 557\n",
      "[2024-04-04 03:39:45 +0200] [84824] [CRITICAL] WORKER TIMEOUT (pid:551)\n",
      "[2024-04-04 03:39:45 +0200] [84824] [CRITICAL] WORKER TIMEOUT (pid:552)\n",
      "[2024-04-04 03:39:45 +0200] [84824] [CRITICAL] WORKER TIMEOUT (pid:554)\n",
      "[2024-04-04 03:39:45 +0200] [84824] [CRITICAL] WORKER TIMEOUT (pid:557)\n",
      "[2024-04-04 03:39:45 +0200] [552] [INFO] Worker exiting (pid: 552)\n",
      "[2024-04-04 03:39:45 +0200] [554] [INFO] Worker exiting (pid: 554)\n",
      "[2024-04-04 03:39:45 +0200] [557] [INFO] Worker exiting (pid: 557)\n",
      "[2024-04-04 03:39:45 +0200] [551] [INFO] Worker exiting (pid: 551)\n",
      "[2024-04-04 03:39:46 +0200] [84824] [ERROR] Worker (pid:551) exited with code 1\n",
      "[2024-04-04 03:39:46 +0200] [84824] [ERROR] Worker (pid:551) exited with code 1.\n",
      "[2024-04-04 03:39:46 +0200] [611] [INFO] Booting worker with pid: 611\n",
      "[2024-04-04 03:39:46 +0200] [84824] [ERROR] Worker (pid:552) exited with code 1\n",
      "[2024-04-04 03:39:46 +0200] [84824] [ERROR] Worker (pid:552) exited with code 1.\n",
      "[2024-04-04 03:39:46 +0200] [84824] [ERROR] Worker (pid:554) was sent SIGKILL! Perhaps out of memory?\n",
      "[2024-04-04 03:39:46 +0200] [84824] [ERROR] Worker (pid:557) was sent SIGKILL! Perhaps out of memory?\n",
      "[2024-04-04 03:39:46 +0200] [612] [INFO] Booting worker with pid: 612\n",
      "[2024-04-04 03:39:46 +0200] [614] [INFO] Booting worker with pid: 614\n",
      "[2024-04-04 03:39:46 +0200] [618] [INFO] Booting worker with pid: 618\n",
      "[2024-04-04 03:55:24 +0200] [84824] [CRITICAL] WORKER TIMEOUT (pid:611)\n",
      "[2024-04-04 03:55:24 +0200] [84824] [CRITICAL] WORKER TIMEOUT (pid:612)\n",
      "[2024-04-04 03:55:24 +0200] [84824] [CRITICAL] WORKER TIMEOUT (pid:614)\n",
      "[2024-04-04 03:55:24 +0200] [84824] [CRITICAL] WORKER TIMEOUT (pid:618)\n",
      "[2024-04-04 03:55:24 +0200] [612] [INFO] Worker exiting (pid: 612)\n",
      "[2024-04-04 03:55:24 +0200] [618] [INFO] Worker exiting (pid: 618)\n",
      "[2024-04-04 03:55:24 +0200] [614] [INFO] Worker exiting (pid: 614)\n",
      "[2024-04-04 03:55:24 +0200] [611] [INFO] Worker exiting (pid: 611)\n",
      "[2024-04-04 03:55:24 +0200] [84824] [ERROR] Worker (pid:614) exited with code 1\n",
      "[2024-04-04 03:55:24 +0200] [84824] [ERROR] Worker (pid:614) exited with code 1.\n",
      "[2024-04-04 03:55:24 +0200] [84824] [ERROR] Worker (pid:612) exited with code 1\n",
      "[2024-04-04 03:55:24 +0200] [84824] [ERROR] Worker (pid:612) exited with code 1.\n",
      "[2024-04-04 03:55:24 +0200] [84824] [ERROR] Worker (pid:611) exited with code 1\n",
      "[2024-04-04 03:55:24 +0200] [84824] [ERROR] Worker (pid:611) exited with code 1.\n",
      "[2024-04-04 03:55:24 +0200] [705] [INFO] Booting worker with pid: 705\n",
      "[2024-04-04 03:55:24 +0200] [84824] [ERROR] Worker (pid:618) was sent SIGKILL! Perhaps out of memory?\n",
      "[2024-04-04 03:55:24 +0200] [706] [INFO] Booting worker with pid: 706\n",
      "[2024-04-04 03:55:24 +0200] [707] [INFO] Booting worker with pid: 707\n",
      "[2024-04-04 03:55:24 +0200] [708] [INFO] Booting worker with pid: 708\n",
      "[2024-04-04 04:13:09 +0200] [84824] [CRITICAL] WORKER TIMEOUT (pid:705)\n",
      "[2024-04-04 04:13:09 +0200] [84824] [CRITICAL] WORKER TIMEOUT (pid:706)\n",
      "[2024-04-04 04:13:09 +0200] [84824] [CRITICAL] WORKER TIMEOUT (pid:707)\n",
      "[2024-04-04 04:13:09 +0200] [84824] [CRITICAL] WORKER TIMEOUT (pid:708)\n",
      "[2024-04-04 04:13:09 +0200] [707] [INFO] Worker exiting (pid: 707)\n",
      "[2024-04-04 04:13:09 +0200] [705] [INFO] Worker exiting (pid: 705)\n",
      "[2024-04-04 04:13:09 +0200] [708] [INFO] Worker exiting (pid: 708)\n",
      "[2024-04-04 04:13:09 +0200] [706] [INFO] Worker exiting (pid: 706)\n",
      "[2024-04-04 04:13:09 +0200] [84824] [ERROR] Worker (pid:707) exited with code 1\n",
      "[2024-04-04 04:13:09 +0200] [84824] [ERROR] Worker (pid:707) exited with code 1.\n",
      "[2024-04-04 04:13:09 +0200] [84824] [ERROR] Worker (pid:706) exited with code 1\n",
      "[2024-04-04 04:13:09 +0200] [84824] [ERROR] Worker (pid:706) exited with code 1.\n",
      "[2024-04-04 04:13:09 +0200] [84824] [ERROR] Worker (pid:708) exited with code 1\n",
      "[2024-04-04 04:13:09 +0200] [84824] [ERROR] Worker (pid:708) exited with code 1.\n",
      "[2024-04-04 04:13:09 +0200] [728] [INFO] Booting worker with pid: 728\n",
      "[2024-04-04 04:13:09 +0200] [84824] [ERROR] Worker (pid:705) was sent SIGKILL! Perhaps out of memory?\n",
      "[2024-04-04 04:13:10 +0200] [729] [INFO] Booting worker with pid: 729\n",
      "[2024-04-04 04:13:10 +0200] [730] [INFO] Booting worker with pid: 730\n",
      "[2024-04-04 04:13:10 +0200] [731] [INFO] Booting worker with pid: 731\n",
      "[2024-04-04 04:29:21 +0200] [84824] [CRITICAL] WORKER TIMEOUT (pid:728)\n",
      "[2024-04-04 04:29:21 +0200] [84824] [CRITICAL] WORKER TIMEOUT (pid:729)\n",
      "[2024-04-04 04:29:21 +0200] [84824] [CRITICAL] WORKER TIMEOUT (pid:730)\n",
      "[2024-04-04 04:29:21 +0200] [84824] [CRITICAL] WORKER TIMEOUT (pid:731)\n",
      "[2024-04-04 04:29:21 +0200] [728] [INFO] Worker exiting (pid: 728)\n",
      "[2024-04-04 04:29:21 +0200] [731] [INFO] Worker exiting (pid: 731)\n",
      "[2024-04-04 04:29:21 +0200] [729] [INFO] Worker exiting (pid: 729)\n",
      "[2024-04-04 04:29:21 +0200] [730] [INFO] Worker exiting (pid: 730)\n",
      "[2024-04-04 04:29:22 +0200] [84824] [ERROR] Worker (pid:729) exited with code 1\n",
      "[2024-04-04 04:29:22 +0200] [84824] [ERROR] Worker (pid:729) exited with code 1.\n",
      "[2024-04-04 04:29:22 +0200] [84824] [ERROR] Worker (pid:730) exited with code 1\n",
      "[2024-04-04 04:29:22 +0200] [84824] [ERROR] Worker (pid:730) exited with code 1.\n",
      "[2024-04-04 04:29:22 +0200] [84824] [ERROR] Worker (pid:728) exited with code 1\n",
      "[2024-04-04 04:29:22 +0200] [84824] [ERROR] Worker (pid:728) exited with code 1.\n",
      "[2024-04-04 04:29:22 +0200] [771] [INFO] Booting worker with pid: 771\n",
      "[2024-04-04 04:29:22 +0200] [84824] [ERROR] Worker (pid:731) was sent SIGKILL! Perhaps out of memory?\n",
      "[2024-04-04 04:29:22 +0200] [773] [INFO] Booting worker with pid: 773\n",
      "[2024-04-04 04:29:22 +0200] [774] [INFO] Booting worker with pid: 774\n",
      "[2024-04-04 04:29:22 +0200] [776] [INFO] Booting worker with pid: 776\n",
      "[2024-04-04 04:44:50 +0200] [84824] [CRITICAL] WORKER TIMEOUT (pid:771)\n",
      "[2024-04-04 04:44:50 +0200] [84824] [CRITICAL] WORKER TIMEOUT (pid:773)\n",
      "[2024-04-04 04:44:50 +0200] [84824] [CRITICAL] WORKER TIMEOUT (pid:774)\n",
      "[2024-04-04 04:44:50 +0200] [84824] [CRITICAL] WORKER TIMEOUT (pid:776)\n",
      "[2024-04-04 04:44:50 +0200] [773] [INFO] Worker exiting (pid: 773)\n",
      "[2024-04-04 04:44:50 +0200] [771] [INFO] Worker exiting (pid: 771)\n",
      "[2024-04-04 04:44:50 +0200] [774] [INFO] Worker exiting (pid: 774)\n",
      "[2024-04-04 04:44:50 +0200] [776] [INFO] Worker exiting (pid: 776)\n",
      "[2024-04-04 04:44:50 +0200] [84824] [ERROR] Worker (pid:774) exited with code 1\n",
      "[2024-04-04 04:44:50 +0200] [84824] [ERROR] Worker (pid:774) exited with code 1.\n",
      "[2024-04-04 04:44:50 +0200] [807] [INFO] Booting worker with pid: 807\n",
      "[2024-04-04 04:44:50 +0200] [84824] [ERROR] Worker (pid:776) exited with code 1\n",
      "[2024-04-04 04:44:50 +0200] [84824] [ERROR] Worker (pid:776) exited with code 1.\n",
      "[2024-04-04 04:44:50 +0200] [84824] [ERROR] Worker (pid:771) was sent SIGKILL! Perhaps out of memory?\n",
      "[2024-04-04 04:44:50 +0200] [84824] [ERROR] Worker (pid:773) was sent SIGKILL! Perhaps out of memory?\n",
      "[2024-04-04 04:44:51 +0200] [808] [INFO] Booting worker with pid: 808\n",
      "[2024-04-04 04:44:51 +0200] [809] [INFO] Booting worker with pid: 809\n",
      "[2024-04-04 04:44:51 +0200] [810] [INFO] Booting worker with pid: 810\n",
      "[2024-04-04 05:14:05 +0200] [84824] [CRITICAL] WORKER TIMEOUT (pid:807)\n",
      "[2024-04-04 05:14:05 +0200] [84824] [CRITICAL] WORKER TIMEOUT (pid:808)\n",
      "[2024-04-04 05:14:05 +0200] [84824] [CRITICAL] WORKER TIMEOUT (pid:809)\n",
      "[2024-04-04 05:14:05 +0200] [84824] [CRITICAL] WORKER TIMEOUT (pid:810)\n",
      "[2024-04-04 05:14:05 +0200] [808] [INFO] Worker exiting (pid: 808)\n",
      "[2024-04-04 05:14:05 +0200] [807] [INFO] Worker exiting (pid: 807)\n",
      "[2024-04-04 05:14:05 +0200] [809] [INFO] Worker exiting (pid: 809)\n",
      "[2024-04-04 05:14:05 +0200] [810] [INFO] Worker exiting (pid: 810)\n",
      "[2024-04-04 05:14:06 +0200] [84824] [ERROR] Worker (pid:807) exited with code 1\n",
      "[2024-04-04 05:14:06 +0200] [84824] [ERROR] Worker (pid:807) exited with code 1.\n",
      "[2024-04-04 05:14:06 +0200] [84824] [ERROR] Worker (pid:808) exited with code 1\n",
      "[2024-04-04 05:14:06 +0200] [84824] [ERROR] Worker (pid:808) exited with code 1.\n",
      "[2024-04-04 05:14:06 +0200] [831] [INFO] Booting worker with pid: 831\n",
      "[2024-04-04 05:14:06 +0200] [84824] [ERROR] Worker (pid:809) was sent SIGKILL! Perhaps out of memory?\n",
      "[2024-04-04 05:14:06 +0200] [84824] [ERROR] Worker (pid:810) was sent SIGKILL! Perhaps out of memory?\n",
      "[2024-04-04 05:14:06 +0200] [832] [INFO] Booting worker with pid: 832\n",
      "[2024-04-04 05:14:06 +0200] [833] [INFO] Booting worker with pid: 833\n",
      "[2024-04-04 05:14:06 +0200] [835] [INFO] Booting worker with pid: 835\n",
      "[2024-04-04 05:31:06 +0200] [84824] [CRITICAL] WORKER TIMEOUT (pid:831)\n",
      "[2024-04-04 05:31:06 +0200] [84824] [CRITICAL] WORKER TIMEOUT (pid:832)\n",
      "[2024-04-04 05:31:06 +0200] [84824] [CRITICAL] WORKER TIMEOUT (pid:833)\n",
      "[2024-04-04 05:31:06 +0200] [84824] [CRITICAL] WORKER TIMEOUT (pid:835)\n",
      "[2024-04-04 05:31:06 +0200] [832] [INFO] Worker exiting (pid: 832)\n",
      "[2024-04-04 05:31:06 +0200] [831] [INFO] Worker exiting (pid: 831)\n",
      "[2024-04-04 05:31:06 +0200] [833] [INFO] Worker exiting (pid: 833)\n",
      "[2024-04-04 05:31:06 +0200] [835] [INFO] Worker exiting (pid: 835)\n",
      "[2024-04-04 05:31:06 +0200] [84824] [ERROR] Worker (pid:835) exited with code 1\n",
      "[2024-04-04 05:31:06 +0200] [84824] [ERROR] Worker (pid:835) exited with code 1.\n",
      "[2024-04-04 05:31:06 +0200] [872] [INFO] Booting worker with pid: 872\n",
      "[2024-04-04 05:31:06 +0200] [84824] [ERROR] Worker (pid:832) was sent SIGKILL! Perhaps out of memory?\n",
      "[2024-04-04 05:31:06 +0200] [84824] [ERROR] Worker (pid:831) was sent SIGKILL! Perhaps out of memory?\n",
      "[2024-04-04 05:31:06 +0200] [84824] [ERROR] Worker (pid:833) was sent SIGKILL! Perhaps out of memory?\n",
      "[2024-04-04 05:31:06 +0200] [873] [INFO] Booting worker with pid: 873\n",
      "[2024-04-04 05:31:06 +0200] [875] [INFO] Booting worker with pid: 875\n",
      "[2024-04-04 05:31:06 +0200] [876] [INFO] Booting worker with pid: 876\n",
      "[2024-04-04 05:48:15 +0200] [84824] [CRITICAL] WORKER TIMEOUT (pid:872)\n",
      "[2024-04-04 05:48:15 +0200] [84824] [CRITICAL] WORKER TIMEOUT (pid:873)\n",
      "[2024-04-04 05:48:15 +0200] [84824] [CRITICAL] WORKER TIMEOUT (pid:875)\n",
      "[2024-04-04 05:48:15 +0200] [84824] [CRITICAL] WORKER TIMEOUT (pid:876)\n",
      "[2024-04-04 05:48:15 +0200] [873] [INFO] Worker exiting (pid: 873)\n",
      "[2024-04-04 05:48:15 +0200] [872] [INFO] Worker exiting (pid: 872)\n",
      "[2024-04-04 05:48:15 +0200] [875] [INFO] Worker exiting (pid: 875)\n",
      "[2024-04-04 05:48:15 +0200] [876] [INFO] Worker exiting (pid: 876)\n",
      "[2024-04-04 05:48:16 +0200] [84824] [ERROR] Worker (pid:875) exited with code 1\n",
      "[2024-04-04 05:48:16 +0200] [84824] [ERROR] Worker (pid:875) exited with code 1.\n",
      "[2024-04-04 05:48:16 +0200] [934] [INFO] Booting worker with pid: 934\n",
      "[2024-04-04 05:48:16 +0200] [84824] [ERROR] Worker (pid:872) exited with code 1\n",
      "[2024-04-04 05:48:16 +0200] [84824] [ERROR] Worker (pid:872) exited with code 1.\n",
      "[2024-04-04 05:48:16 +0200] [84824] [ERROR] Worker (pid:873) was sent SIGKILL! Perhaps out of memory?\n",
      "[2024-04-04 05:48:16 +0200] [84824] [ERROR] Worker (pid:876) was sent SIGKILL! Perhaps out of memory?\n",
      "[2024-04-04 05:48:16 +0200] [935] [INFO] Booting worker with pid: 935\n",
      "[2024-04-04 05:48:16 +0200] [936] [INFO] Booting worker with pid: 936\n",
      "[2024-04-04 05:48:16 +0200] [937] [INFO] Booting worker with pid: 937\n",
      "[2024-04-04 06:00:59 +0200] [84824] [CRITICAL] WORKER TIMEOUT (pid:934)\n",
      "[2024-04-04 06:00:59 +0200] [84824] [CRITICAL] WORKER TIMEOUT (pid:935)\n",
      "[2024-04-04 06:00:59 +0200] [84824] [CRITICAL] WORKER TIMEOUT (pid:936)\n",
      "[2024-04-04 06:00:59 +0200] [84824] [CRITICAL] WORKER TIMEOUT (pid:937)\n",
      "[2024-04-04 06:00:59 +0200] [934] [INFO] Worker exiting (pid: 934)\n",
      "[2024-04-04 06:00:59 +0200] [935] [INFO] Worker exiting (pid: 935)\n",
      "[2024-04-04 06:00:59 +0200] [937] [INFO] Worker exiting (pid: 937)\n",
      "[2024-04-04 06:00:59 +0200] [936] [INFO] Worker exiting (pid: 936)\n",
      "[2024-04-04 06:00:59 +0200] [84824] [ERROR] Worker (pid:936) exited with code 1\n",
      "[2024-04-04 06:00:59 +0200] [84824] [ERROR] Worker (pid:936) exited with code 1.\n",
      "[2024-04-04 06:00:59 +0200] [84824] [ERROR] Worker (pid:935) exited with code 1\n",
      "[2024-04-04 06:00:59 +0200] [84824] [ERROR] Worker (pid:935) exited with code 1.\n",
      "[2024-04-04 06:00:59 +0200] [84824] [ERROR] Worker (pid:937) was sent SIGKILL! Perhaps out of memory?\n",
      "[2024-04-04 06:00:59 +0200] [956] [INFO] Booting worker with pid: 956\n",
      "[2024-04-04 06:00:59 +0200] [84824] [ERROR] Worker (pid:934) was sent SIGKILL! Perhaps out of memory?\n",
      "[2024-04-04 06:00:59 +0200] [960] [INFO] Booting worker with pid: 960\n",
      "[2024-04-04 06:00:59 +0200] [961] [INFO] Booting worker with pid: 961\n",
      "[2024-04-04 06:01:00 +0200] [962] [INFO] Booting worker with pid: 962\n",
      "[2024-04-04 06:16:54 +0200] [84824] [CRITICAL] WORKER TIMEOUT (pid:956)\n",
      "[2024-04-04 06:16:54 +0200] [84824] [CRITICAL] WORKER TIMEOUT (pid:960)\n",
      "[2024-04-04 06:16:54 +0200] [84824] [CRITICAL] WORKER TIMEOUT (pid:961)\n",
      "[2024-04-04 06:16:54 +0200] [84824] [CRITICAL] WORKER TIMEOUT (pid:962)\n",
      "[2024-04-04 06:16:54 +0200] [962] [INFO] Worker exiting (pid: 962)\n",
      "[2024-04-04 06:16:54 +0200] [960] [INFO] Worker exiting (pid: 960)\n",
      "[2024-04-04 06:16:54 +0200] [956] [INFO] Worker exiting (pid: 956)\n",
      "[2024-04-04 06:16:54 +0200] [961] [INFO] Worker exiting (pid: 961)\n",
      "[2024-04-04 06:16:54 +0200] [84824] [ERROR] Worker (pid:956) exited with code 1\n",
      "[2024-04-04 06:16:54 +0200] [84824] [ERROR] Worker (pid:956) exited with code 1.\n",
      "[2024-04-04 06:16:54 +0200] [84824] [ERROR] Worker (pid:961) exited with code 1\n",
      "[2024-04-04 06:16:54 +0200] [84824] [ERROR] Worker (pid:961) exited with code 1.\n",
      "[2024-04-04 06:16:54 +0200] [84824] [ERROR] Worker (pid:960) exited with code 1\n",
      "[2024-04-04 06:16:54 +0200] [84824] [ERROR] Worker (pid:960) exited with code 1.\n",
      "[2024-04-04 06:16:54 +0200] [84824] [ERROR] Worker (pid:962) exited with code 1\n",
      "[2024-04-04 06:16:54 +0200] [84824] [ERROR] Worker (pid:962) exited with code 1.\n",
      "[2024-04-04 06:16:54 +0200] [999] [INFO] Booting worker with pid: 999\n",
      "[2024-04-04 06:16:54 +0200] [1000] [INFO] Booting worker with pid: 1000\n",
      "[2024-04-04 06:16:55 +0200] [1001] [INFO] Booting worker with pid: 1001\n",
      "[2024-04-04 06:16:55 +0200] [1002] [INFO] Booting worker with pid: 1002\n",
      "[2024-04-04 06:34:12 +0200] [84824] [CRITICAL] WORKER TIMEOUT (pid:999)\n",
      "[2024-04-04 06:34:12 +0200] [84824] [CRITICAL] WORKER TIMEOUT (pid:1000)\n",
      "[2024-04-04 06:34:12 +0200] [84824] [CRITICAL] WORKER TIMEOUT (pid:1001)\n",
      "[2024-04-04 06:34:12 +0200] [84824] [CRITICAL] WORKER TIMEOUT (pid:1002)\n",
      "[2024-04-04 06:34:12 +0200] [1001] [INFO] Worker exiting (pid: 1001)\n",
      "[2024-04-04 06:34:12 +0200] [999] [INFO] Worker exiting (pid: 999)\n",
      "[2024-04-04 06:34:12 +0200] [1002] [INFO] Worker exiting (pid: 1002)\n",
      "[2024-04-04 06:34:12 +0200] [1000] [INFO] Worker exiting (pid: 1000)\n",
      "[2024-04-04 06:34:13 +0200] [84824] [ERROR] Worker (pid:1001) exited with code 1\n",
      "[2024-04-04 06:34:13 +0200] [84824] [ERROR] Worker (pid:1001) exited with code 1.\n",
      "[2024-04-04 06:34:13 +0200] [84824] [ERROR] Worker (pid:1000) exited with code 1\n",
      "[2024-04-04 06:34:13 +0200] [84824] [ERROR] Worker (pid:1000) exited with code 1.\n",
      "[2024-04-04 06:34:13 +0200] [84824] [ERROR] Worker (pid:1002) exited with code 1\n",
      "[2024-04-04 06:34:13 +0200] [84824] [ERROR] Worker (pid:1002) exited with code 1.\n",
      "[2024-04-04 06:34:13 +0200] [84824] [ERROR] Worker (pid:999) exited with code 1\n",
      "[2024-04-04 06:34:13 +0200] [84824] [ERROR] Worker (pid:999) exited with code 1.\n",
      "[2024-04-04 06:34:13 +0200] [1024] [INFO] Booting worker with pid: 1024\n",
      "[2024-04-04 06:34:13 +0200] [1025] [INFO] Booting worker with pid: 1025\n",
      "[2024-04-04 06:34:13 +0200] [1026] [INFO] Booting worker with pid: 1026\n",
      "[2024-04-04 06:34:13 +0200] [1027] [INFO] Booting worker with pid: 1027\n",
      "[2024-04-04 06:51:49 +0200] [84824] [CRITICAL] WORKER TIMEOUT (pid:1024)\n",
      "[2024-04-04 06:51:49 +0200] [84824] [CRITICAL] WORKER TIMEOUT (pid:1025)\n",
      "[2024-04-04 06:51:49 +0200] [84824] [CRITICAL] WORKER TIMEOUT (pid:1026)\n",
      "[2024-04-04 06:51:49 +0200] [84824] [CRITICAL] WORKER TIMEOUT (pid:1027)\n",
      "[2024-04-04 06:51:49 +0200] [1024] [INFO] Worker exiting (pid: 1024)\n",
      "[2024-04-04 06:51:49 +0200] [1025] [INFO] Worker exiting (pid: 1025)\n",
      "[2024-04-04 06:51:49 +0200] [1026] [INFO] Worker exiting (pid: 1026)\n",
      "[2024-04-04 06:51:49 +0200] [1027] [INFO] Worker exiting (pid: 1027)\n",
      "[2024-04-04 06:51:49 +0200] [84824] [ERROR] Worker (pid:1027) exited with code 1\n",
      "[2024-04-04 06:51:49 +0200] [84824] [ERROR] Worker (pid:1027) exited with code 1.\n",
      "[2024-04-04 06:51:49 +0200] [1054] [INFO] Booting worker with pid: 1054\n",
      "[2024-04-04 06:51:49 +0200] [84824] [ERROR] Worker (pid:1025) was sent SIGKILL! Perhaps out of memory?\n",
      "[2024-04-04 06:51:49 +0200] [84824] [ERROR] Worker (pid:1024) was sent SIGKILL! Perhaps out of memory?\n",
      "[2024-04-04 06:51:49 +0200] [84824] [ERROR] Worker (pid:1026) was sent SIGKILL! Perhaps out of memory?\n",
      "[2024-04-04 06:51:49 +0200] [1055] [INFO] Booting worker with pid: 1055\n",
      "[2024-04-04 06:51:49 +0200] [1056] [INFO] Booting worker with pid: 1056\n",
      "[2024-04-04 06:51:49 +0200] [1057] [INFO] Booting worker with pid: 1057\n",
      "[2024-04-04 07:09:19 +0200] [84824] [CRITICAL] WORKER TIMEOUT (pid:1054)\n",
      "[2024-04-04 07:09:19 +0200] [84824] [CRITICAL] WORKER TIMEOUT (pid:1055)\n",
      "[2024-04-04 07:09:19 +0200] [84824] [CRITICAL] WORKER TIMEOUT (pid:1056)\n",
      "[2024-04-04 07:09:19 +0200] [84824] [CRITICAL] WORKER TIMEOUT (pid:1057)\n",
      "[2024-04-04 07:09:19 +0200] [1056] [INFO] Worker exiting (pid: 1056)\n",
      "[2024-04-04 07:09:19 +0200] [1054] [INFO] Worker exiting (pid: 1054)\n",
      "[2024-04-04 07:09:19 +0200] [1055] [INFO] Worker exiting (pid: 1055)\n",
      "[2024-04-04 07:09:19 +0200] [1057] [INFO] Worker exiting (pid: 1057)\n",
      "[2024-04-04 07:09:20 +0200] [84824] [ERROR] Worker (pid:1057) exited with code 1\n",
      "[2024-04-04 07:09:20 +0200] [84824] [ERROR] Worker (pid:1057) exited with code 1.\n",
      "[2024-04-04 07:09:20 +0200] [84824] [ERROR] Worker (pid:1056) exited with code 1\n",
      "[2024-04-04 07:09:20 +0200] [84824] [ERROR] Worker (pid:1056) exited with code 1.\n",
      "[2024-04-04 07:09:20 +0200] [84824] [ERROR] Worker (pid:1054) exited with code 1\n",
      "[2024-04-04 07:09:20 +0200] [84824] [ERROR] Worker (pid:1054) exited with code 1.\n",
      "[2024-04-04 07:09:20 +0200] [1084] [INFO] Booting worker with pid: 1084\n",
      "[2024-04-04 07:09:20 +0200] [84824] [ERROR] Worker (pid:1055) was sent SIGKILL! Perhaps out of memory?\n",
      "[2024-04-04 07:09:20 +0200] [1086] [INFO] Booting worker with pid: 1086\n",
      "[2024-04-04 07:09:20 +0200] [1087] [INFO] Booting worker with pid: 1087\n",
      "[2024-04-04 07:09:20 +0200] [1088] [INFO] Booting worker with pid: 1088\n",
      "[2024-04-04 07:24:23 +0200] [84824] [CRITICAL] WORKER TIMEOUT (pid:1084)\n",
      "[2024-04-04 07:24:23 +0200] [84824] [CRITICAL] WORKER TIMEOUT (pid:1086)\n",
      "[2024-04-04 07:24:23 +0200] [84824] [CRITICAL] WORKER TIMEOUT (pid:1087)\n",
      "[2024-04-04 07:24:23 +0200] [84824] [CRITICAL] WORKER TIMEOUT (pid:1088)\n",
      "[2024-04-04 07:24:23 +0200] [1084] [INFO] Worker exiting (pid: 1084)\n",
      "[2024-04-04 07:24:23 +0200] [1087] [INFO] Worker exiting (pid: 1087)\n",
      "[2024-04-04 07:24:23 +0200] [1086] [INFO] Worker exiting (pid: 1086)\n",
      "[2024-04-04 07:24:23 +0200] [1088] [INFO] Worker exiting (pid: 1088)\n",
      "[2024-04-04 07:24:23 +0200] [84824] [ERROR] Worker (pid:1087) exited with code 1\n",
      "[2024-04-04 07:24:23 +0200] [84824] [ERROR] Worker (pid:1087) exited with code 1.\n",
      "[2024-04-04 07:24:23 +0200] [1107] [INFO] Booting worker with pid: 1107\n",
      "[2024-04-04 07:24:23 +0200] [84824] [ERROR] Worker (pid:1084) was sent SIGKILL! Perhaps out of memory?\n",
      "[2024-04-04 07:24:23 +0200] [84824] [ERROR] Worker (pid:1086) was sent SIGKILL! Perhaps out of memory?\n",
      "[2024-04-04 07:24:23 +0200] [84824] [ERROR] Worker (pid:1088) exited with code 1\n",
      "[2024-04-04 07:24:23 +0200] [84824] [ERROR] Worker (pid:1088) exited with code 1.\n",
      "[2024-04-04 07:24:23 +0200] [1108] [INFO] Booting worker with pid: 1108\n",
      "[2024-04-04 07:24:23 +0200] [1109] [INFO] Booting worker with pid: 1109\n",
      "[2024-04-04 07:24:23 +0200] [1110] [INFO] Booting worker with pid: 1110\n",
      "[2024-04-04 07:41:29 +0200] [84824] [CRITICAL] WORKER TIMEOUT (pid:1107)\n",
      "[2024-04-04 07:41:29 +0200] [84824] [CRITICAL] WORKER TIMEOUT (pid:1108)\n",
      "[2024-04-04 07:41:29 +0200] [84824] [CRITICAL] WORKER TIMEOUT (pid:1109)\n",
      "[2024-04-04 07:41:29 +0200] [84824] [CRITICAL] WORKER TIMEOUT (pid:1110)\n",
      "[2024-04-04 07:41:29 +0200] [1109] [INFO] Worker exiting (pid: 1109)\n",
      "[2024-04-04 07:41:29 +0200] [1108] [INFO] Worker exiting (pid: 1108)\n",
      "[2024-04-04 07:41:29 +0200] [1107] [INFO] Worker exiting (pid: 1107)\n",
      "[2024-04-04 07:41:29 +0200] [1110] [INFO] Worker exiting (pid: 1110)\n",
      "[2024-04-04 07:41:29 +0200] [84824] [ERROR] Worker (pid:1108) exited with code 1\n",
      "[2024-04-04 07:41:29 +0200] [84824] [ERROR] Worker (pid:1108) exited with code 1.\n",
      "[2024-04-04 07:41:29 +0200] [84824] [ERROR] Worker (pid:1110) was sent SIGKILL! Perhaps out of memory?\n",
      "[2024-04-04 07:41:29 +0200] [84824] [ERROR] Worker (pid:1109) was sent SIGKILL! Perhaps out of memory?\n",
      "[2024-04-04 07:41:29 +0200] [84824] [ERROR] Worker (pid:1107) was sent SIGKILL! Perhaps out of memory?\n",
      "[2024-04-04 07:41:29 +0200] [1135] [INFO] Booting worker with pid: 1135\n",
      "[2024-04-04 07:41:29 +0200] [1136] [INFO] Booting worker with pid: 1136\n",
      "[2024-04-04 07:41:30 +0200] [1139] [INFO] Booting worker with pid: 1139\n",
      "[2024-04-04 07:41:30 +0200] [1140] [INFO] Booting worker with pid: 1140\n",
      "[2024-04-04 07:49:33 +0200] [84824] [CRITICAL] WORKER TIMEOUT (pid:1135)\n",
      "[2024-04-04 07:49:33 +0200] [84824] [CRITICAL] WORKER TIMEOUT (pid:1136)\n",
      "[2024-04-04 07:49:33 +0200] [84824] [CRITICAL] WORKER TIMEOUT (pid:1139)\n",
      "[2024-04-04 07:49:33 +0200] [84824] [CRITICAL] WORKER TIMEOUT (pid:1140)\n",
      "[2024-04-04 07:49:33 +0200] [1140] [INFO] Worker exiting (pid: 1140)\n",
      "[2024-04-04 07:49:33 +0200] [1135] [INFO] Worker exiting (pid: 1135)\n",
      "[2024-04-04 07:49:33 +0200] [1139] [INFO] Worker exiting (pid: 1139)\n",
      "[2024-04-04 07:49:33 +0200] [1136] [INFO] Worker exiting (pid: 1136)\n",
      "[2024-04-04 07:49:34 +0200] [84824] [ERROR] Worker (pid:1136) was sent SIGKILL! Perhaps out of memory?\n",
      "[2024-04-04 07:49:34 +0200] [84824] [ERROR] Worker (pid:1135) was sent SIGKILL! Perhaps out of memory?\n",
      "[2024-04-04 07:49:34 +0200] [84824] [ERROR] Worker (pid:1140) was sent SIGKILL! Perhaps out of memory?\n",
      "[2024-04-04 07:49:34 +0200] [84824] [ERROR] Worker (pid:1139) was sent SIGKILL! Perhaps out of memory?\n",
      "[2024-04-04 07:49:34 +0200] [1169] [INFO] Booting worker with pid: 1169\n",
      "[2024-04-04 07:49:34 +0200] [1170] [INFO] Booting worker with pid: 1170\n",
      "[2024-04-04 07:49:34 +0200] [1171] [INFO] Booting worker with pid: 1171\n",
      "[2024-04-04 07:49:34 +0200] [1172] [INFO] Booting worker with pid: 1172\n",
      "[2024-04-04 08:07:03 +0200] [84824] [CRITICAL] WORKER TIMEOUT (pid:1169)\n",
      "[2024-04-04 08:07:03 +0200] [84824] [CRITICAL] WORKER TIMEOUT (pid:1170)\n",
      "[2024-04-04 08:07:03 +0200] [84824] [CRITICAL] WORKER TIMEOUT (pid:1171)\n",
      "[2024-04-04 08:07:03 +0200] [84824] [CRITICAL] WORKER TIMEOUT (pid:1172)\n",
      "[2024-04-04 08:07:03 +0200] [1171] [INFO] Worker exiting (pid: 1171)\n",
      "[2024-04-04 08:07:03 +0200] [1169] [INFO] Worker exiting (pid: 1169)\n",
      "[2024-04-04 08:07:03 +0200] [1172] [INFO] Worker exiting (pid: 1172)\n",
      "[2024-04-04 08:07:03 +0200] [1170] [INFO] Worker exiting (pid: 1170)\n",
      "[2024-04-04 08:07:03 +0200] [84824] [ERROR] Worker (pid:1169) exited with code 1\n",
      "[2024-04-04 08:07:03 +0200] [84824] [ERROR] Worker (pid:1169) exited with code 1.\n",
      "[2024-04-04 08:07:03 +0200] [84824] [ERROR] Worker (pid:1170) exited with code 1\n",
      "[2024-04-04 08:07:03 +0200] [84824] [ERROR] Worker (pid:1170) exited with code 1.\n",
      "[2024-04-04 08:07:03 +0200] [84824] [ERROR] Worker (pid:1172) exited with code 1\n",
      "[2024-04-04 08:07:03 +0200] [84824] [ERROR] Worker (pid:1172) exited with code 1.\n",
      "[2024-04-04 08:07:03 +0200] [1225] [INFO] Booting worker with pid: 1225\n",
      "[2024-04-04 08:07:03 +0200] [84824] [ERROR] Worker (pid:1171) was sent SIGKILL! Perhaps out of memory?\n",
      "[2024-04-04 08:07:03 +0200] [1226] [INFO] Booting worker with pid: 1226\n",
      "[2024-04-04 08:07:03 +0200] [1227] [INFO] Booting worker with pid: 1227\n",
      "[2024-04-04 08:07:03 +0200] [1228] [INFO] Booting worker with pid: 1228\n",
      "[2024-04-04 08:22:57 +0200] [84824] [CRITICAL] WORKER TIMEOUT (pid:1225)\n",
      "[2024-04-04 08:22:57 +0200] [84824] [CRITICAL] WORKER TIMEOUT (pid:1226)\n",
      "[2024-04-04 08:22:57 +0200] [84824] [CRITICAL] WORKER TIMEOUT (pid:1227)\n",
      "[2024-04-04 08:22:57 +0200] [84824] [CRITICAL] WORKER TIMEOUT (pid:1228)\n",
      "[2024-04-04 08:22:57 +0200] [1227] [INFO] Worker exiting (pid: 1227)\n",
      "[2024-04-04 08:22:57 +0200] [1226] [INFO] Worker exiting (pid: 1226)\n",
      "[2024-04-04 08:22:57 +0200] [1228] [INFO] Worker exiting (pid: 1228)\n",
      "[2024-04-04 08:22:57 +0200] [1225] [INFO] Worker exiting (pid: 1225)\n",
      "[2024-04-04 08:22:58 +0200] [84824] [ERROR] Worker (pid:1225) exited with code 1\n",
      "[2024-04-04 08:22:58 +0200] [84824] [ERROR] Worker (pid:1225) exited with code 1.\n",
      "[2024-04-04 08:22:58 +0200] [84824] [ERROR] Worker (pid:1228) exited with code 1\n",
      "[2024-04-04 08:22:58 +0200] [84824] [ERROR] Worker (pid:1228) exited with code 1.\n",
      "[2024-04-04 08:22:58 +0200] [1249] [INFO] Booting worker with pid: 1249\n",
      "[2024-04-04 08:22:58 +0200] [84824] [ERROR] Worker (pid:1226) was sent SIGKILL! Perhaps out of memory?\n",
      "[2024-04-04 08:22:58 +0200] [84824] [ERROR] Worker (pid:1227) was sent SIGKILL! Perhaps out of memory?\n",
      "[2024-04-04 08:22:58 +0200] [1251] [INFO] Booting worker with pid: 1251\n",
      "[2024-04-04 08:22:58 +0200] [1253] [INFO] Booting worker with pid: 1253\n",
      "[2024-04-04 08:22:58 +0200] [1254] [INFO] Booting worker with pid: 1254\n",
      "[2024-04-04 08:39:56 +0200] [84824] [CRITICAL] WORKER TIMEOUT (pid:1249)\n",
      "[2024-04-04 08:39:56 +0200] [84824] [CRITICAL] WORKER TIMEOUT (pid:1251)\n",
      "[2024-04-04 08:39:56 +0200] [84824] [CRITICAL] WORKER TIMEOUT (pid:1253)\n",
      "[2024-04-04 08:39:56 +0200] [84824] [CRITICAL] WORKER TIMEOUT (pid:1254)\n",
      "[2024-04-04 08:39:56 +0200] [1249] [INFO] Worker exiting (pid: 1249)\n",
      "[2024-04-04 08:39:56 +0200] [1251] [INFO] Worker exiting (pid: 1251)\n",
      "[2024-04-04 08:39:56 +0200] [1253] [INFO] Worker exiting (pid: 1253)\n",
      "[2024-04-04 08:39:56 +0200] [1254] [INFO] Worker exiting (pid: 1254)\n",
      "[2024-04-04 08:39:57 +0200] [84824] [ERROR] Worker (pid:1254) exited with code 1\n",
      "[2024-04-04 08:39:57 +0200] [84824] [ERROR] Worker (pid:1254) exited with code 1.\n",
      "[2024-04-04 08:39:57 +0200] [1276] [INFO] Booting worker with pid: 1276\n",
      "[2024-04-04 08:39:57 +0200] [84824] [ERROR] Worker (pid:1249) was sent SIGKILL! Perhaps out of memory?\n",
      "[2024-04-04 08:39:57 +0200] [84824] [ERROR] Worker (pid:1253) was sent SIGKILL! Perhaps out of memory?\n",
      "[2024-04-04 08:39:57 +0200] [84824] [ERROR] Worker (pid:1251) was sent SIGKILL! Perhaps out of memory?\n",
      "[2024-04-04 08:39:57 +0200] [1277] [INFO] Booting worker with pid: 1277\n",
      "[2024-04-04 08:39:57 +0200] [1278] [INFO] Booting worker with pid: 1278\n",
      "[2024-04-04 08:39:57 +0200] [1279] [INFO] Booting worker with pid: 1279\n",
      "[2024-04-04 08:57:48 +0200] [84824] [CRITICAL] WORKER TIMEOUT (pid:1276)\n",
      "[2024-04-04 08:57:48 +0200] [84824] [CRITICAL] WORKER TIMEOUT (pid:1277)\n",
      "[2024-04-04 08:57:48 +0200] [84824] [CRITICAL] WORKER TIMEOUT (pid:1278)\n",
      "[2024-04-04 08:57:48 +0200] [84824] [CRITICAL] WORKER TIMEOUT (pid:1279)\n",
      "[2024-04-04 08:57:48 +0200] [1277] [INFO] Worker exiting (pid: 1277)\n",
      "[2024-04-04 08:57:48 +0200] [1278] [INFO] Worker exiting (pid: 1278)\n",
      "[2024-04-04 08:57:48 +0200] [1279] [INFO] Worker exiting (pid: 1279)\n",
      "[2024-04-04 08:57:48 +0200] [1276] [INFO] Worker exiting (pid: 1276)\n",
      "[2024-04-04 08:57:48 +0200] [84824] [ERROR] Worker (pid:1278) exited with code 1\n",
      "[2024-04-04 08:57:48 +0200] [84824] [ERROR] Worker (pid:1278) exited with code 1.\n",
      "[2024-04-04 08:57:48 +0200] [84824] [ERROR] Worker (pid:1277) exited with code 1\n",
      "[2024-04-04 08:57:48 +0200] [84824] [ERROR] Worker (pid:1277) exited with code 1.\n",
      "[2024-04-04 08:57:48 +0200] [1308] [INFO] Booting worker with pid: 1308\n",
      "[2024-04-04 08:57:48 +0200] [84824] [ERROR] Worker (pid:1276) was sent SIGKILL! Perhaps out of memory?\n",
      "[2024-04-04 08:57:48 +0200] [84824] [ERROR] Worker (pid:1279) was sent SIGKILL! Perhaps out of memory?\n",
      "[2024-04-04 08:57:48 +0200] [1309] [INFO] Booting worker with pid: 1309\n",
      "[2024-04-04 08:57:48 +0200] [1310] [INFO] Booting worker with pid: 1310\n",
      "[2024-04-04 08:57:48 +0200] [1311] [INFO] Booting worker with pid: 1311\n",
      "[2024-04-04 09:11:18 +0200] [84824] [CRITICAL] WORKER TIMEOUT (pid:1308)\n",
      "[2024-04-04 09:11:18 +0200] [84824] [CRITICAL] WORKER TIMEOUT (pid:1309)\n",
      "[2024-04-04 09:11:18 +0200] [84824] [CRITICAL] WORKER TIMEOUT (pid:1310)\n",
      "[2024-04-04 09:11:18 +0200] [84824] [CRITICAL] WORKER TIMEOUT (pid:1311)\n",
      "[2024-04-04 09:11:18 +0200] [1309] [INFO] Worker exiting (pid: 1309)\n",
      "[2024-04-04 09:11:18 +0200] [1308] [INFO] Worker exiting (pid: 1308)\n",
      "[2024-04-04 09:11:18 +0200] [1310] [INFO] Worker exiting (pid: 1310)\n",
      "[2024-04-04 09:11:18 +0200] [1311] [INFO] Worker exiting (pid: 1311)\n",
      "[2024-04-04 09:11:19 +0200] [84824] [ERROR] Worker (pid:1310) exited with code 1\n",
      "[2024-04-04 09:11:19 +0200] [84824] [ERROR] Worker (pid:1310) exited with code 1.\n",
      "[2024-04-04 09:11:19 +0200] [84824] [ERROR] Worker (pid:1309) was sent SIGKILL! Perhaps out of memory?\n",
      "[2024-04-04 09:11:19 +0200] [84824] [ERROR] Worker (pid:1308) exited with code 1\n",
      "[2024-04-04 09:11:19 +0200] [84824] [ERROR] Worker (pid:1308) exited with code 1.\n",
      "[2024-04-04 09:11:19 +0200] [1331] [INFO] Booting worker with pid: 1331\n",
      "[2024-04-04 09:11:19 +0200] [84824] [ERROR] Worker (pid:1311) exited with code 1\n",
      "[2024-04-04 09:11:19 +0200] [84824] [ERROR] Worker (pid:1311) exited with code 1.\n",
      "[2024-04-04 09:11:19 +0200] [1332] [INFO] Booting worker with pid: 1332\n",
      "[2024-04-04 09:11:19 +0200] [1333] [INFO] Booting worker with pid: 1333\n",
      "[2024-04-04 09:11:19 +0200] [1334] [INFO] Booting worker with pid: 1334\n",
      "[2024-04-04 09:26:25 +0200] [84824] [CRITICAL] WORKER TIMEOUT (pid:1331)\n",
      "[2024-04-04 09:26:25 +0200] [84824] [CRITICAL] WORKER TIMEOUT (pid:1332)\n",
      "[2024-04-04 09:26:25 +0200] [84824] [CRITICAL] WORKER TIMEOUT (pid:1333)\n",
      "[2024-04-04 09:26:25 +0200] [84824] [CRITICAL] WORKER TIMEOUT (pid:1334)\n",
      "[2024-04-04 09:26:25 +0200] [1334] [INFO] Worker exiting (pid: 1334)\n",
      "[2024-04-04 09:26:25 +0200] [1333] [INFO] Worker exiting (pid: 1333)\n",
      "[2024-04-04 09:26:25 +0200] [1332] [INFO] Worker exiting (pid: 1332)\n",
      "[2024-04-04 09:26:25 +0200] [1331] [INFO] Worker exiting (pid: 1331)\n",
      "[2024-04-04 09:26:26 +0200] [84824] [ERROR] Worker (pid:1331) exited with code 1\n",
      "[2024-04-04 09:26:26 +0200] [84824] [ERROR] Worker (pid:1331) exited with code 1.\n",
      "[2024-04-04 09:26:26 +0200] [84824] [ERROR] Worker (pid:1333) exited with code 1\n",
      "[2024-04-04 09:26:26 +0200] [84824] [ERROR] Worker (pid:1333) exited with code 1.\n",
      "[2024-04-04 09:26:26 +0200] [1361] [INFO] Booting worker with pid: 1361\n",
      "[2024-04-04 09:26:26 +0200] [84824] [ERROR] Worker (pid:1332) was sent SIGKILL! Perhaps out of memory?\n",
      "[2024-04-04 09:26:26 +0200] [84824] [ERROR] Worker (pid:1334) was sent SIGKILL! Perhaps out of memory?\n",
      "[2024-04-04 09:26:26 +0200] [1362] [INFO] Booting worker with pid: 1362\n",
      "[2024-04-04 09:26:26 +0200] [1365] [INFO] Booting worker with pid: 1365\n",
      "[2024-04-04 09:26:26 +0200] [1366] [INFO] Booting worker with pid: 1366\n",
      "[2024-04-04 09:42:21 +0200] [84824] [CRITICAL] WORKER TIMEOUT (pid:1361)\n",
      "[2024-04-04 09:42:21 +0200] [84824] [CRITICAL] WORKER TIMEOUT (pid:1362)\n",
      "[2024-04-04 09:42:21 +0200] [84824] [CRITICAL] WORKER TIMEOUT (pid:1365)\n",
      "[2024-04-04 09:42:21 +0200] [84824] [CRITICAL] WORKER TIMEOUT (pid:1366)\n",
      "[2024-04-04 09:42:21 +0200] [1361] [INFO] Worker exiting (pid: 1361)\n",
      "[2024-04-04 09:42:21 +0200] [1362] [INFO] Worker exiting (pid: 1362)\n",
      "[2024-04-04 09:42:21 +0200] [1366] [INFO] Worker exiting (pid: 1366)\n",
      "[2024-04-04 09:42:21 +0200] [1365] [INFO] Worker exiting (pid: 1365)\n",
      "[2024-04-04 09:42:21 +0200] [84824] [ERROR] Worker (pid:1362) exited with code 1\n",
      "[2024-04-04 09:42:21 +0200] [84824] [ERROR] Worker (pid:1362) exited with code 1.\n",
      "[2024-04-04 09:42:21 +0200] [84824] [ERROR] Worker (pid:1366) exited with code 1\n",
      "[2024-04-04 09:42:21 +0200] [84824] [ERROR] Worker (pid:1366) exited with code 1.\n",
      "[2024-04-04 09:42:21 +0200] [1395] [INFO] Booting worker with pid: 1395\n",
      "[2024-04-04 09:42:21 +0200] [1396] [INFO] Booting worker with pid: 1396\n",
      "[2024-04-04 09:42:21 +0200] [84824] [ERROR] Worker (pid:1361) was sent SIGKILL! Perhaps out of memory?\n",
      "[2024-04-04 09:42:21 +0200] [84824] [ERROR] Worker (pid:1365) exited with code 1\n",
      "[2024-04-04 09:42:21 +0200] [84824] [ERROR] Worker (pid:1365) exited with code 1.\n",
      "[2024-04-04 09:42:21 +0200] [1397] [INFO] Booting worker with pid: 1397\n",
      "[2024-04-04 09:42:21 +0200] [1398] [INFO] Booting worker with pid: 1398\n",
      "[2024-04-04 09:50:38 +0200] [84824] [CRITICAL] WORKER TIMEOUT (pid:1395)\n",
      "[2024-04-04 09:50:38 +0200] [84824] [CRITICAL] WORKER TIMEOUT (pid:1396)\n",
      "[2024-04-04 09:50:38 +0200] [84824] [CRITICAL] WORKER TIMEOUT (pid:1397)\n",
      "[2024-04-04 09:50:38 +0200] [84824] [CRITICAL] WORKER TIMEOUT (pid:1398)\n",
      "[2024-04-04 09:50:38 +0200] [1395] [INFO] Worker exiting (pid: 1395)\n",
      "[2024-04-04 09:50:38 +0200] [1396] [INFO] Worker exiting (pid: 1396)\n",
      "[2024-04-04 09:50:38 +0200] [1397] [INFO] Worker exiting (pid: 1397)\n",
      "[2024-04-04 09:50:38 +0200] [1398] [INFO] Worker exiting (pid: 1398)\n",
      "[2024-04-04 09:50:39 +0200] [84824] [ERROR] Worker (pid:1398) exited with code 1\n",
      "[2024-04-04 09:50:39 +0200] [84824] [ERROR] Worker (pid:1398) exited with code 1.\n",
      "[2024-04-04 09:50:39 +0200] [1421] [INFO] Booting worker with pid: 1421\n",
      "[2024-04-04 09:50:39 +0200] [84824] [ERROR] Worker (pid:1396) was sent SIGKILL! Perhaps out of memory?\n",
      "[2024-04-04 09:50:39 +0200] [84824] [ERROR] Worker (pid:1395) was sent SIGKILL! Perhaps out of memory?\n",
      "[2024-04-04 09:50:39 +0200] [84824] [ERROR] Worker (pid:1397) exited with code 1\n",
      "[2024-04-04 09:50:39 +0200] [84824] [ERROR] Worker (pid:1397) exited with code 1.\n",
      "[2024-04-04 09:50:39 +0200] [1422] [INFO] Booting worker with pid: 1422\n",
      "[2024-04-04 09:50:39 +0200] [1423] [INFO] Booting worker with pid: 1423\n",
      "[2024-04-04 09:50:39 +0200] [1424] [INFO] Booting worker with pid: 1424\n",
      "[2024-04-04 10:08:37 +0200] [84824] [CRITICAL] WORKER TIMEOUT (pid:1421)\n",
      "[2024-04-04 10:08:37 +0200] [84824] [CRITICAL] WORKER TIMEOUT (pid:1422)\n",
      "[2024-04-04 10:08:37 +0200] [84824] [CRITICAL] WORKER TIMEOUT (pid:1423)\n",
      "[2024-04-04 10:08:37 +0200] [84824] [CRITICAL] WORKER TIMEOUT (pid:1424)\n",
      "[2024-04-04 10:08:37 +0200] [1422] [INFO] Worker exiting (pid: 1422)\n",
      "[2024-04-04 10:08:37 +0200] [1421] [INFO] Worker exiting (pid: 1421)\n",
      "[2024-04-04 10:08:37 +0200] [1423] [INFO] Worker exiting (pid: 1423)\n",
      "[2024-04-04 10:08:37 +0200] [1424] [INFO] Worker exiting (pid: 1424)\n",
      "[2024-04-04 10:08:37 +0200] [84824] [ERROR] Worker (pid:1422) exited with code 1\n",
      "[2024-04-04 10:08:37 +0200] [84824] [ERROR] Worker (pid:1422) exited with code 1.\n",
      "[2024-04-04 10:08:37 +0200] [84824] [ERROR] Worker (pid:1421) exited with code 1\n",
      "[2024-04-04 10:08:37 +0200] [84824] [ERROR] Worker (pid:1421) exited with code 1.\n",
      "[2024-04-04 10:08:37 +0200] [1455] [INFO] Booting worker with pid: 1455\n",
      "[2024-04-04 10:08:37 +0200] [84824] [ERROR] Worker (pid:1423) was sent SIGKILL! Perhaps out of memory?\n",
      "[2024-04-04 10:08:37 +0200] [84824] [ERROR] Worker (pid:1424) was sent SIGKILL! Perhaps out of memory?\n",
      "[2024-04-04 10:08:37 +0200] [1456] [INFO] Booting worker with pid: 1456\n",
      "[2024-04-04 10:08:37 +0200] [1457] [INFO] Booting worker with pid: 1457\n",
      "[2024-04-04 10:08:37 +0200] [1458] [INFO] Booting worker with pid: 1458\n",
      "[2024-04-04 10:24:58 +0200] [84824] [CRITICAL] WORKER TIMEOUT (pid:1455)\n",
      "[2024-04-04 10:24:58 +0200] [84824] [CRITICAL] WORKER TIMEOUT (pid:1456)\n",
      "[2024-04-04 10:24:58 +0200] [84824] [CRITICAL] WORKER TIMEOUT (pid:1457)\n",
      "[2024-04-04 10:24:58 +0200] [84824] [CRITICAL] WORKER TIMEOUT (pid:1458)\n",
      "[2024-04-04 10:24:58 +0200] [1455] [INFO] Worker exiting (pid: 1455)\n",
      "[2024-04-04 10:24:58 +0200] [1456] [INFO] Worker exiting (pid: 1456)\n",
      "[2024-04-04 10:24:58 +0200] [1458] [INFO] Worker exiting (pid: 1458)\n",
      "[2024-04-04 10:24:58 +0200] [1457] [INFO] Worker exiting (pid: 1457)\n",
      "[2024-04-04 10:24:58 +0200] [84824] [ERROR] Worker (pid:1455) exited with code 1\n",
      "[2024-04-04 10:24:58 +0200] [84824] [ERROR] Worker (pid:1455) exited with code 1.\n",
      "[2024-04-04 10:24:58 +0200] [84824] [ERROR] Worker (pid:1457) exited with code 1\n",
      "[2024-04-04 10:24:58 +0200] [84824] [ERROR] Worker (pid:1457) exited with code 1.\n",
      "[2024-04-04 10:24:58 +0200] [84824] [ERROR] Worker (pid:1456) exited with code 1\n",
      "[2024-04-04 10:24:58 +0200] [84824] [ERROR] Worker (pid:1456) exited with code 1.\n",
      "[2024-04-04 10:24:58 +0200] [1483] [INFO] Booting worker with pid: 1483\n",
      "[2024-04-04 10:24:58 +0200] [84824] [ERROR] Worker (pid:1458) was sent SIGKILL! Perhaps out of memory?\n",
      "[2024-04-04 10:24:58 +0200] [1486] [INFO] Booting worker with pid: 1486\n",
      "[2024-04-04 10:24:59 +0200] [1487] [INFO] Booting worker with pid: 1487\n",
      "[2024-04-04 10:24:59 +0200] [1488] [INFO] Booting worker with pid: 1488\n",
      "[2024-04-04 10:40:51 +0200] [84824] [CRITICAL] WORKER TIMEOUT (pid:1483)\n",
      "[2024-04-04 10:40:51 +0200] [84824] [CRITICAL] WORKER TIMEOUT (pid:1486)\n",
      "[2024-04-04 10:40:51 +0200] [84824] [CRITICAL] WORKER TIMEOUT (pid:1487)\n",
      "[2024-04-04 10:40:51 +0200] [84824] [CRITICAL] WORKER TIMEOUT (pid:1488)\n",
      "[2024-04-04 10:40:51 +0200] [1486] [INFO] Worker exiting (pid: 1486)\n",
      "[2024-04-04 10:40:51 +0200] [1487] [INFO] Worker exiting (pid: 1487)\n",
      "[2024-04-04 10:40:51 +0200] [1483] [INFO] Worker exiting (pid: 1483)\n",
      "[2024-04-04 10:40:51 +0200] [1488] [INFO] Worker exiting (pid: 1488)\n",
      "[2024-04-04 10:40:52 +0200] [84824] [ERROR] Worker (pid:1483) exited with code 1\n",
      "[2024-04-04 10:40:52 +0200] [84824] [ERROR] Worker (pid:1486) exited with code 1\n",
      "[2024-04-04 10:40:52 +0200] [84824] [ERROR] Worker (pid:1486) exited with code 1.\n",
      "[2024-04-04 10:40:52 +0200] [84824] [ERROR] Worker (pid:1483) exited with code 1.\n",
      "[2024-04-04 10:40:52 +0200] [84824] [ERROR] Worker (pid:1487) exited with code 1\n",
      "[2024-04-04 10:40:52 +0200] [84824] [ERROR] Worker (pid:1487) exited with code 1.\n",
      "[2024-04-04 10:40:52 +0200] [1508] [INFO] Booting worker with pid: 1508\n",
      "[2024-04-04 10:40:52 +0200] [84824] [ERROR] Worker (pid:1488) exited with code 1\n",
      "[2024-04-04 10:40:52 +0200] [84824] [ERROR] Worker (pid:1488) exited with code 1.\n",
      "[2024-04-04 10:40:52 +0200] [1509] [INFO] Booting worker with pid: 1509\n",
      "[2024-04-04 10:40:52 +0200] [1510] [INFO] Booting worker with pid: 1510\n",
      "[2024-04-04 10:40:52 +0200] [1511] [INFO] Booting worker with pid: 1511\n",
      "[2024-04-04 10:51:39 +0200] [84824] [CRITICAL] WORKER TIMEOUT (pid:1508)\n",
      "[2024-04-04 10:51:39 +0200] [84824] [CRITICAL] WORKER TIMEOUT (pid:1509)\n",
      "[2024-04-04 10:51:39 +0200] [84824] [CRITICAL] WORKER TIMEOUT (pid:1510)\n",
      "[2024-04-04 10:51:39 +0200] [84824] [CRITICAL] WORKER TIMEOUT (pid:1511)\n",
      "[2024-04-04 10:51:39 +0200] [1511] [INFO] Worker exiting (pid: 1511)\n",
      "[2024-04-04 10:51:39 +0200] [1509] [INFO] Worker exiting (pid: 1509)\n",
      "[2024-04-04 10:51:39 +0200] [1508] [INFO] Worker exiting (pid: 1508)\n",
      "[2024-04-04 10:51:39 +0200] [1510] [INFO] Worker exiting (pid: 1510)\n",
      "[2024-04-04 10:51:39 +0200] [84824] [ERROR] Worker (pid:1510) exited with code 1\n",
      "[2024-04-04 10:51:39 +0200] [84824] [ERROR] Worker (pid:1510) exited with code 1.\n",
      "[2024-04-04 10:51:39 +0200] [1542] [INFO] Booting worker with pid: 1542\n",
      "[2024-04-04 10:51:39 +0200] [84824] [ERROR] Worker (pid:1508) was sent SIGKILL! Perhaps out of memory?\n",
      "[2024-04-04 10:51:39 +0200] [84824] [ERROR] Worker (pid:1509) was sent SIGKILL! Perhaps out of memory?\n",
      "[2024-04-04 10:51:39 +0200] [84824] [ERROR] Worker (pid:1511) was sent SIGKILL! Perhaps out of memory?\n",
      "[2024-04-04 10:51:39 +0200] [1544] [INFO] Booting worker with pid: 1544\n",
      "[2024-04-04 10:51:39 +0200] [1545] [INFO] Booting worker with pid: 1545\n",
      "[2024-04-04 10:51:40 +0200] [1546] [INFO] Booting worker with pid: 1546\n",
      "[2024-04-04 11:08:01 +0200] [84824] [CRITICAL] WORKER TIMEOUT (pid:1542)\n",
      "[2024-04-04 11:08:01 +0200] [84824] [CRITICAL] WORKER TIMEOUT (pid:1544)\n",
      "[2024-04-04 11:08:01 +0200] [84824] [CRITICAL] WORKER TIMEOUT (pid:1545)\n",
      "[2024-04-04 11:08:01 +0200] [84824] [CRITICAL] WORKER TIMEOUT (pid:1546)\n",
      "[2024-04-04 11:08:01 +0200] [1542] [INFO] Worker exiting (pid: 1542)\n",
      "[2024-04-04 11:08:01 +0200] [1544] [INFO] Worker exiting (pid: 1544)\n",
      "[2024-04-04 11:08:01 +0200] [1545] [INFO] Worker exiting (pid: 1545)\n",
      "[2024-04-04 11:08:01 +0200] [1546] [INFO] Worker exiting (pid: 1546)\n",
      "[2024-04-04 11:08:02 +0200] [84824] [ERROR] Worker (pid:1544) exited with code 1\n",
      "[2024-04-04 11:08:02 +0200] [84824] [ERROR] Worker (pid:1544) exited with code 1.\n",
      "[2024-04-04 11:08:02 +0200] [1573] [INFO] Booting worker with pid: 1573\n",
      "[2024-04-04 11:08:02 +0200] [84824] [ERROR] Worker (pid:1546) was sent SIGKILL! Perhaps out of memory?\n",
      "[2024-04-04 11:08:02 +0200] [84824] [ERROR] Worker (pid:1545) was sent SIGKILL! Perhaps out of memory?\n",
      "[2024-04-04 11:08:02 +0200] [84824] [ERROR] Worker (pid:1542) was sent SIGKILL! Perhaps out of memory?\n",
      "[2024-04-04 11:08:02 +0200] [1574] [INFO] Booting worker with pid: 1574\n",
      "[2024-04-04 11:08:02 +0200] [1575] [INFO] Booting worker with pid: 1575\n",
      "[2024-04-04 11:08:02 +0200] [1576] [INFO] Booting worker with pid: 1576\n",
      "[2024-04-04 11:24:12 +0200] [84824] [CRITICAL] WORKER TIMEOUT (pid:1573)\n",
      "[2024-04-04 11:24:12 +0200] [84824] [CRITICAL] WORKER TIMEOUT (pid:1574)\n",
      "[2024-04-04 11:24:12 +0200] [84824] [CRITICAL] WORKER TIMEOUT (pid:1575)\n",
      "[2024-04-04 11:24:12 +0200] [84824] [CRITICAL] WORKER TIMEOUT (pid:1576)\n",
      "[2024-04-04 11:24:12 +0200] [1575] [INFO] Worker exiting (pid: 1575)\n",
      "[2024-04-04 11:24:12 +0200] [1573] [INFO] Worker exiting (pid: 1573)\n",
      "[2024-04-04 11:24:12 +0200] [1574] [INFO] Worker exiting (pid: 1574)\n",
      "[2024-04-04 11:24:12 +0200] [1576] [INFO] Worker exiting (pid: 1576)\n",
      "[2024-04-04 11:24:13 +0200] [84824] [ERROR] Worker (pid:1576) exited with code 1\n",
      "[2024-04-04 11:24:13 +0200] [84824] [ERROR] Worker (pid:1576) exited with code 1.\n",
      "[2024-04-04 11:24:13 +0200] [1597] [INFO] Booting worker with pid: 1597\n",
      "[2024-04-04 11:24:13 +0200] [84824] [ERROR] Worker (pid:1573) was sent SIGKILL! Perhaps out of memory?\n",
      "[2024-04-04 11:24:13 +0200] [84824] [ERROR] Worker (pid:1575) was sent SIGKILL! Perhaps out of memory?\n",
      "[2024-04-04 11:24:13 +0200] [84824] [ERROR] Worker (pid:1574) was sent SIGKILL! Perhaps out of memory?\n",
      "[2024-04-04 11:24:13 +0200] [1598] [INFO] Booting worker with pid: 1598\n",
      "[2024-04-04 11:24:13 +0200] [1599] [INFO] Booting worker with pid: 1599\n",
      "[2024-04-04 11:24:13 +0200] [1600] [INFO] Booting worker with pid: 1600\n",
      "[2024-04-04 11:41:16 +0200] [84824] [CRITICAL] WORKER TIMEOUT (pid:1597)\n",
      "[2024-04-04 11:41:16 +0200] [84824] [CRITICAL] WORKER TIMEOUT (pid:1598)\n",
      "[2024-04-04 11:41:16 +0200] [84824] [CRITICAL] WORKER TIMEOUT (pid:1599)\n",
      "[2024-04-04 11:41:16 +0200] [84824] [CRITICAL] WORKER TIMEOUT (pid:1600)\n",
      "[2024-04-04 11:41:16 +0200] [1597] [INFO] Worker exiting (pid: 1597)\n",
      "[2024-04-04 11:41:16 +0200] [1598] [INFO] Worker exiting (pid: 1598)\n",
      "[2024-04-04 11:41:16 +0200] [1599] [INFO] Worker exiting (pid: 1599)\n",
      "[2024-04-04 11:41:16 +0200] [1600] [INFO] Worker exiting (pid: 1600)\n",
      "[2024-04-04 11:41:16 +0200] [84824] [ERROR] Worker (pid:1597) exited with code 1\n",
      "[2024-04-04 11:41:16 +0200] [84824] [ERROR] Worker (pid:1597) exited with code 1.\n",
      "[2024-04-04 11:41:16 +0200] [84824] [ERROR] Worker (pid:1600) exited with code 1\n",
      "[2024-04-04 11:41:16 +0200] [84824] [ERROR] Worker (pid:1600) exited with code 1.\n",
      "[2024-04-04 11:41:16 +0200] [1627] [INFO] Booting worker with pid: 1627\n",
      "[2024-04-04 11:41:16 +0200] [84824] [ERROR] Worker (pid:1599) was sent SIGKILL! Perhaps out of memory?\n",
      "[2024-04-04 11:41:16 +0200] [84824] [ERROR] Worker (pid:1598) was sent SIGKILL! Perhaps out of memory?\n",
      "[2024-04-04 11:41:16 +0200] [1628] [INFO] Booting worker with pid: 1628\n",
      "[2024-04-04 11:41:16 +0200] [1629] [INFO] Booting worker with pid: 1629\n",
      "[2024-04-04 11:41:16 +0200] [1630] [INFO] Booting worker with pid: 1630\n",
      "[2024-04-04 11:52:38 +0200] [84824] [CRITICAL] WORKER TIMEOUT (pid:1627)\n",
      "[2024-04-04 11:52:38 +0200] [84824] [CRITICAL] WORKER TIMEOUT (pid:1628)\n",
      "[2024-04-04 11:52:38 +0200] [84824] [CRITICAL] WORKER TIMEOUT (pid:1629)\n",
      "[2024-04-04 11:52:38 +0200] [84824] [CRITICAL] WORKER TIMEOUT (pid:1630)\n",
      "[2024-04-04 11:52:38 +0200] [1627] [INFO] Worker exiting (pid: 1627)\n",
      "[2024-04-04 11:52:38 +0200] [1628] [INFO] Worker exiting (pid: 1628)\n",
      "[2024-04-04 11:52:38 +0200] [1629] [INFO] Worker exiting (pid: 1629)\n",
      "[2024-04-04 11:52:38 +0200] [1630] [INFO] Worker exiting (pid: 1630)\n",
      "[2024-04-04 11:52:39 +0200] [84824] [ERROR] Worker (pid:1629) exited with code 1\n",
      "[2024-04-04 11:52:39 +0200] [84824] [ERROR] Worker (pid:1629) exited with code 1.\n",
      "[2024-04-04 11:52:39 +0200] [84824] [ERROR] Worker (pid:1628) exited with code 1\n",
      "[2024-04-04 11:52:39 +0200] [84824] [ERROR] Worker (pid:1628) exited with code 1.\n",
      "[2024-04-04 11:52:39 +0200] [84824] [ERROR] Worker (pid:1627) exited with code 1\n",
      "[2024-04-04 11:52:39 +0200] [84824] [ERROR] Worker (pid:1627) exited with code 1.\n",
      "[2024-04-04 11:52:39 +0200] [1654] [INFO] Booting worker with pid: 1654\n",
      "[2024-04-04 11:52:39 +0200] [84824] [ERROR] Worker (pid:1630) was sent SIGKILL! Perhaps out of memory?\n",
      "[2024-04-04 11:52:39 +0200] [1655] [INFO] Booting worker with pid: 1655\n",
      "[2024-04-04 11:52:39 +0200] [1656] [INFO] Booting worker with pid: 1656\n",
      "[2024-04-04 11:52:39 +0200] [1657] [INFO] Booting worker with pid: 1657\n",
      "[2024-04-04 12:08:29 +0200] [84824] [CRITICAL] WORKER TIMEOUT (pid:1654)\n",
      "[2024-04-04 12:08:29 +0200] [84824] [CRITICAL] WORKER TIMEOUT (pid:1655)\n",
      "[2024-04-04 12:08:29 +0200] [84824] [CRITICAL] WORKER TIMEOUT (pid:1656)\n",
      "[2024-04-04 12:08:29 +0200] [84824] [CRITICAL] WORKER TIMEOUT (pid:1657)\n",
      "[2024-04-04 12:08:29 +0200] [1656] [INFO] Worker exiting (pid: 1656)\n",
      "[2024-04-04 12:08:29 +0200] [1655] [INFO] Worker exiting (pid: 1655)\n",
      "[2024-04-04 12:08:29 +0200] [1657] [INFO] Worker exiting (pid: 1657)\n",
      "[2024-04-04 12:08:29 +0200] [1654] [INFO] Worker exiting (pid: 1654)\n",
      "[2024-04-04 12:08:29 +0200] [84824] [ERROR] Worker (pid:1657) exited with code 1\n",
      "[2024-04-04 12:08:29 +0200] [84824] [ERROR] Worker (pid:1657) exited with code 1.\n",
      "[2024-04-04 12:08:29 +0200] [1709] [INFO] Booting worker with pid: 1709\n",
      "[2024-04-04 12:08:29 +0200] [84824] [ERROR] Worker (pid:1656) was sent SIGKILL! Perhaps out of memory?\n",
      "[2024-04-04 12:08:29 +0200] [84824] [ERROR] Worker (pid:1655) was sent SIGKILL! Perhaps out of memory?\n",
      "[2024-04-04 12:08:29 +0200] [84824] [ERROR] Worker (pid:1654) was sent SIGKILL! Perhaps out of memory?\n",
      "[2024-04-04 12:08:30 +0200] [1710] [INFO] Booting worker with pid: 1710\n",
      "[2024-04-04 12:08:30 +0200] [1711] [INFO] Booting worker with pid: 1711\n",
      "[2024-04-04 12:08:30 +0200] [1712] [INFO] Booting worker with pid: 1712\n",
      "[2024-04-04 12:25:00 +0200] [84824] [CRITICAL] WORKER TIMEOUT (pid:1709)\n",
      "[2024-04-04 12:25:00 +0200] [84824] [CRITICAL] WORKER TIMEOUT (pid:1710)\n",
      "[2024-04-04 12:25:00 +0200] [84824] [CRITICAL] WORKER TIMEOUT (pid:1711)\n",
      "[2024-04-04 12:25:00 +0200] [84824] [CRITICAL] WORKER TIMEOUT (pid:1712)\n",
      "[2024-04-04 12:25:00 +0200] [1709] [INFO] Worker exiting (pid: 1709)\n",
      "[2024-04-04 12:25:00 +0200] [1711] [INFO] Worker exiting (pid: 1711)\n",
      "[2024-04-04 12:25:00 +0200] [1710] [INFO] Worker exiting (pid: 1710)\n",
      "[2024-04-04 12:25:00 +0200] [1712] [INFO] Worker exiting (pid: 1712)\n",
      "[2024-04-04 12:25:01 +0200] [84824] [ERROR] Worker (pid:1712) exited with code 1\n",
      "[2024-04-04 12:25:01 +0200] [84824] [ERROR] Worker (pid:1712) exited with code 1.\n",
      "[2024-04-04 12:25:01 +0200] [1737] [INFO] Booting worker with pid: 1737\n",
      "[2024-04-04 12:25:01 +0200] [84824] [ERROR] Worker (pid:1711) exited with code 1\n",
      "[2024-04-04 12:25:01 +0200] [84824] [ERROR] Worker (pid:1711) exited with code 1.\n",
      "[2024-04-04 12:25:01 +0200] [84824] [ERROR] Worker (pid:1709) was sent SIGKILL! Perhaps out of memory?\n",
      "[2024-04-04 12:25:01 +0200] [84824] [ERROR] Worker (pid:1710) was sent SIGKILL! Perhaps out of memory?\n",
      "[2024-04-04 12:25:01 +0200] [1738] [INFO] Booting worker with pid: 1738\n",
      "[2024-04-04 12:25:01 +0200] [1739] [INFO] Booting worker with pid: 1739\n",
      "[2024-04-04 12:25:01 +0200] [1740] [INFO] Booting worker with pid: 1740\n",
      "[2024-04-04 12:41:26 +0200] [84824] [CRITICAL] WORKER TIMEOUT (pid:1737)\n",
      "[2024-04-04 12:41:26 +0200] [84824] [CRITICAL] WORKER TIMEOUT (pid:1738)\n",
      "[2024-04-04 12:41:26 +0200] [84824] [CRITICAL] WORKER TIMEOUT (pid:1739)\n",
      "[2024-04-04 12:41:26 +0200] [84824] [CRITICAL] WORKER TIMEOUT (pid:1740)\n",
      "[2024-04-04 12:41:26 +0200] [1739] [INFO] Worker exiting (pid: 1739)\n",
      "[2024-04-04 12:41:26 +0200] [1740] [INFO] Worker exiting (pid: 1740)\n",
      "[2024-04-04 12:41:26 +0200] [1738] [INFO] Worker exiting (pid: 1738)\n",
      "[2024-04-04 12:41:26 +0200] [1737] [INFO] Worker exiting (pid: 1737)\n",
      "[2024-04-04 12:41:26 +0200] [84824] [ERROR] Worker (pid:1739) exited with code 1\n",
      "[2024-04-04 12:41:26 +0200] [84824] [ERROR] Worker (pid:1739) exited with code 1.\n",
      "[2024-04-04 12:41:26 +0200] [84824] [ERROR] Worker (pid:1740) exited with code 1\n",
      "[2024-04-04 12:41:26 +0200] [84824] [ERROR] Worker (pid:1740) exited with code 1.\n",
      "[2024-04-04 12:41:26 +0200] [1768] [INFO] Booting worker with pid: 1768\n",
      "[2024-04-04 12:41:26 +0200] [84824] [ERROR] Worker (pid:1738) was sent SIGKILL! Perhaps out of memory?\n",
      "[2024-04-04 12:41:26 +0200] [84824] [ERROR] Worker (pid:1737) was sent SIGKILL! Perhaps out of memory?\n",
      "[2024-04-04 12:41:26 +0200] [1770] [INFO] Booting worker with pid: 1770\n",
      "[2024-04-04 12:41:26 +0200] [1771] [INFO] Booting worker with pid: 1771\n",
      "[2024-04-04 12:41:26 +0200] [1772] [INFO] Booting worker with pid: 1772\n",
      "[2024-04-04 12:53:38 +0200] [84824] [CRITICAL] WORKER TIMEOUT (pid:1768)\n",
      "[2024-04-04 12:53:38 +0200] [84824] [CRITICAL] WORKER TIMEOUT (pid:1770)\n",
      "[2024-04-04 12:53:38 +0200] [84824] [CRITICAL] WORKER TIMEOUT (pid:1771)\n",
      "[2024-04-04 12:53:38 +0200] [84824] [CRITICAL] WORKER TIMEOUT (pid:1772)\n",
      "[2024-04-04 12:53:38 +0200] [1768] [INFO] Worker exiting (pid: 1768)\n",
      "[2024-04-04 12:53:38 +0200] [1770] [INFO] Worker exiting (pid: 1770)\n",
      "[2024-04-04 12:53:38 +0200] [1771] [INFO] Worker exiting (pid: 1771)\n",
      "[2024-04-04 12:53:38 +0200] [1772] [INFO] Worker exiting (pid: 1772)\n",
      "[2024-04-04 12:53:38 +0200] [84824] [ERROR] Worker (pid:1768) exited with code 1\n",
      "[2024-04-04 12:53:38 +0200] [84824] [ERROR] Worker (pid:1768) exited with code 1.\n",
      "[2024-04-04 12:53:38 +0200] [84824] [ERROR] Worker (pid:1771) exited with code 1\n",
      "[2024-04-04 12:53:38 +0200] [84824] [ERROR] Worker (pid:1771) exited with code 1.\n",
      "[2024-04-04 12:53:38 +0200] [84824] [ERROR] Worker (pid:1772) exited with code 1\n",
      "[2024-04-04 12:53:38 +0200] [84824] [ERROR] Worker (pid:1772) exited with code 1.\n",
      "[2024-04-04 12:53:38 +0200] [1792] [INFO] Booting worker with pid: 1792\n",
      "[2024-04-04 12:53:38 +0200] [84824] [ERROR] Worker (pid:1770) was sent SIGKILL! Perhaps out of memory?\n",
      "[2024-04-04 12:53:38 +0200] [1794] [INFO] Booting worker with pid: 1794\n",
      "[2024-04-04 12:53:38 +0200] [1795] [INFO] Booting worker with pid: 1795\n",
      "[2024-04-04 12:53:39 +0200] [1798] [INFO] Booting worker with pid: 1798\n",
      "[2024-04-04 13:09:46 +0200] [84824] [CRITICAL] WORKER TIMEOUT (pid:1792)\n",
      "[2024-04-04 13:09:46 +0200] [84824] [CRITICAL] WORKER TIMEOUT (pid:1794)\n",
      "[2024-04-04 13:09:46 +0200] [84824] [CRITICAL] WORKER TIMEOUT (pid:1795)\n",
      "[2024-04-04 13:09:46 +0200] [84824] [CRITICAL] WORKER TIMEOUT (pid:1798)\n",
      "[2024-04-04 13:09:46 +0200] [1798] [INFO] Worker exiting (pid: 1798)\n",
      "[2024-04-04 13:09:46 +0200] [1792] [INFO] Worker exiting (pid: 1792)\n",
      "[2024-04-04 13:09:46 +0200] [1794] [INFO] Worker exiting (pid: 1794)\n",
      "[2024-04-04 13:09:46 +0200] [1795] [INFO] Worker exiting (pid: 1795)\n",
      "[2024-04-04 13:09:47 +0200] [84824] [ERROR] Worker (pid:1795) exited with code 1\n",
      "[2024-04-04 13:09:47 +0200] [84824] [ERROR] Worker (pid:1792) exited with code 1\n",
      "[2024-04-04 13:09:47 +0200] [84824] [ERROR] Worker (pid:1792) exited with code 1.\n",
      "[2024-04-04 13:09:47 +0200] [84824] [ERROR] Worker (pid:1795) exited with code 1.\n",
      "[2024-04-04 13:09:47 +0200] [84824] [ERROR] Worker (pid:1794) exited with code 1\n",
      "[2024-04-04 13:09:47 +0200] [84824] [ERROR] Worker (pid:1794) exited with code 1.\n",
      "[2024-04-04 13:09:47 +0200] [84824] [ERROR] Worker (pid:1798) exited with code 1\n",
      "[2024-04-04 13:09:47 +0200] [84824] [ERROR] Worker (pid:1798) exited with code 1.\n",
      "[2024-04-04 13:09:47 +0200] [1852] [INFO] Booting worker with pid: 1852\n",
      "[2024-04-04 13:09:47 +0200] [1853] [INFO] Booting worker with pid: 1853\n",
      "[2024-04-04 13:09:47 +0200] [1854] [INFO] Booting worker with pid: 1854\n",
      "[2024-04-04 13:09:47 +0200] [1855] [INFO] Booting worker with pid: 1855\n",
      "[2024-04-04 13:26:11 +0200] [84824] [CRITICAL] WORKER TIMEOUT (pid:1852)\n",
      "[2024-04-04 13:26:11 +0200] [84824] [CRITICAL] WORKER TIMEOUT (pid:1853)\n",
      "[2024-04-04 13:26:11 +0200] [84824] [CRITICAL] WORKER TIMEOUT (pid:1854)\n",
      "[2024-04-04 13:26:11 +0200] [84824] [CRITICAL] WORKER TIMEOUT (pid:1855)\n",
      "[2024-04-04 13:26:11 +0200] [1855] [INFO] Worker exiting (pid: 1855)\n",
      "[2024-04-04 13:26:11 +0200] [1852] [INFO] Worker exiting (pid: 1852)\n",
      "[2024-04-04 13:26:11 +0200] [1854] [INFO] Worker exiting (pid: 1854)\n",
      "[2024-04-04 13:26:11 +0200] [1853] [INFO] Worker exiting (pid: 1853)\n",
      "[2024-04-04 13:26:11 +0200] [84824] [ERROR] Worker (pid:1852) exited with code 1\n",
      "[2024-04-04 13:26:11 +0200] [84824] [ERROR] Worker (pid:1852) exited with code 1.\n",
      "[2024-04-04 13:26:11 +0200] [84824] [ERROR] Worker (pid:1853) exited with code 1\n",
      "[2024-04-04 13:26:11 +0200] [84824] [ERROR] Worker (pid:1853) exited with code 1.\n",
      "[2024-04-04 13:26:11 +0200] [84824] [ERROR] Worker (pid:1855) exited with code 1\n",
      "[2024-04-04 13:26:11 +0200] [84824] [ERROR] Worker (pid:1855) exited with code 1.\n",
      "[2024-04-04 13:26:11 +0200] [1879] [INFO] Booting worker with pid: 1879\n",
      "[2024-04-04 13:26:11 +0200] [84824] [ERROR] Worker (pid:1854) was sent SIGKILL! Perhaps out of memory?\n",
      "[2024-04-04 13:26:12 +0200] [1880] [INFO] Booting worker with pid: 1880\n",
      "[2024-04-04 13:26:12 +0200] [1881] [INFO] Booting worker with pid: 1881\n",
      "[2024-04-04 13:26:12 +0200] [1882] [INFO] Booting worker with pid: 1882\n",
      "[2024-04-04 13:42:41 +0200] [84824] [CRITICAL] WORKER TIMEOUT (pid:1879)\n",
      "[2024-04-04 13:42:41 +0200] [84824] [CRITICAL] WORKER TIMEOUT (pid:1880)\n",
      "[2024-04-04 13:42:41 +0200] [84824] [CRITICAL] WORKER TIMEOUT (pid:1881)\n",
      "[2024-04-04 13:42:41 +0200] [84824] [CRITICAL] WORKER TIMEOUT (pid:1882)\n",
      "[2024-04-04 13:42:41 +0200] [1879] [INFO] Worker exiting (pid: 1879)\n",
      "[2024-04-04 13:42:41 +0200] [1880] [INFO] Worker exiting (pid: 1880)\n",
      "[2024-04-04 13:42:41 +0200] [1881] [INFO] Worker exiting (pid: 1881)\n",
      "[2024-04-04 13:42:41 +0200] [1882] [INFO] Worker exiting (pid: 1882)\n",
      "[2024-04-04 13:42:42 +0200] [84824] [ERROR] Worker (pid:1879) exited with code 1\n",
      "[2024-04-04 13:42:42 +0200] [84824] [ERROR] Worker (pid:1879) exited with code 1.\n",
      "[2024-04-04 13:42:42 +0200] [84824] [ERROR] Worker (pid:1881) exited with code 1\n",
      "[2024-04-04 13:42:42 +0200] [84824] [ERROR] Worker (pid:1881) exited with code 1.\n",
      "[2024-04-04 13:42:42 +0200] [1911] [INFO] Booting worker with pid: 1911\n",
      "[2024-04-04 13:42:42 +0200] [84824] [ERROR] Worker (pid:1882) was sent SIGKILL! Perhaps out of memory?\n",
      "[2024-04-04 13:42:42 +0200] [84824] [ERROR] Worker (pid:1880) was sent SIGKILL! Perhaps out of memory?\n",
      "[2024-04-04 13:42:42 +0200] [1914] [INFO] Booting worker with pid: 1914\n",
      "[2024-04-04 13:42:42 +0200] [1916] [INFO] Booting worker with pid: 1916\n",
      "[2024-04-04 13:42:42 +0200] [1922] [INFO] Booting worker with pid: 1922\n",
      "[2024-04-04 13:54:38 +0200] [84824] [CRITICAL] WORKER TIMEOUT (pid:1911)\n",
      "[2024-04-04 13:54:38 +0200] [84824] [CRITICAL] WORKER TIMEOUT (pid:1914)\n",
      "[2024-04-04 13:54:38 +0200] [84824] [CRITICAL] WORKER TIMEOUT (pid:1916)\n",
      "[2024-04-04 13:54:38 +0200] [84824] [CRITICAL] WORKER TIMEOUT (pid:1922)\n",
      "[2024-04-04 13:54:38 +0200] [1922] [INFO] Worker exiting (pid: 1922)\n",
      "[2024-04-04 13:54:38 +0200] [1911] [INFO] Worker exiting (pid: 1911)\n",
      "[2024-04-04 13:54:38 +0200] [1914] [INFO] Worker exiting (pid: 1914)\n",
      "[2024-04-04 13:54:38 +0200] [1916] [INFO] Worker exiting (pid: 1916)\n",
      "[2024-04-04 13:54:38 +0200] [84824] [ERROR] Worker (pid:1922) exited with code 1\n",
      "[2024-04-04 13:54:38 +0200] [84824] [ERROR] Worker (pid:1922) exited with code 1.\n",
      "[2024-04-04 13:54:38 +0200] [84824] [ERROR] Worker (pid:1914) exited with code 1\n",
      "[2024-04-04 13:54:38 +0200] [84824] [ERROR] Worker (pid:1914) exited with code 1.\n",
      "[2024-04-04 13:54:38 +0200] [84824] [ERROR] Worker (pid:1916) exited with code 1\n",
      "[2024-04-04 13:54:38 +0200] [84824] [ERROR] Worker (pid:1916) exited with code 1.\n",
      "[2024-04-04 13:54:38 +0200] [1971] [INFO] Booting worker with pid: 1971\n",
      "[2024-04-04 13:54:38 +0200] [84824] [ERROR] Worker (pid:1911) was sent SIGKILL! Perhaps out of memory?\n",
      "[2024-04-04 13:54:38 +0200] [1973] [INFO] Booting worker with pid: 1973\n",
      "[2024-04-04 13:54:38 +0200] [1974] [INFO] Booting worker with pid: 1974\n",
      "[2024-04-04 13:54:38 +0200] [1976] [INFO] Booting worker with pid: 1976\n",
      "[2024-04-04 14:10:22 +0200] [84824] [CRITICAL] WORKER TIMEOUT (pid:1971)\n",
      "[2024-04-04 14:10:22 +0200] [84824] [CRITICAL] WORKER TIMEOUT (pid:1973)\n",
      "[2024-04-04 14:10:22 +0200] [84824] [CRITICAL] WORKER TIMEOUT (pid:1974)\n",
      "[2024-04-04 14:10:22 +0200] [84824] [CRITICAL] WORKER TIMEOUT (pid:1976)\n",
      "[2024-04-04 14:10:22 +0200] [1971] [INFO] Worker exiting (pid: 1971)\n",
      "[2024-04-04 14:10:22 +0200] [1974] [INFO] Worker exiting (pid: 1974)\n",
      "[2024-04-04 14:10:22 +0200] [1976] [INFO] Worker exiting (pid: 1976)\n",
      "[2024-04-04 14:10:22 +0200] [1973] [INFO] Worker exiting (pid: 1973)\n",
      "[2024-04-04 14:10:23 +0200] [84824] [ERROR] Worker (pid:1974) exited with code 1\n",
      "[2024-04-04 14:10:23 +0200] [84824] [ERROR] Worker (pid:1974) exited with code 1.\n",
      "[2024-04-04 14:10:23 +0200] [84824] [ERROR] Worker (pid:1971) exited with code 1\n",
      "[2024-04-04 14:10:23 +0200] [84824] [ERROR] Worker (pid:1971) exited with code 1.\n",
      "[2024-04-04 14:10:23 +0200] [2023] [INFO] Booting worker with pid: 2023\n",
      "[2024-04-04 14:10:23 +0200] [84824] [ERROR] Worker (pid:1973) was sent SIGKILL! Perhaps out of memory?\n",
      "[2024-04-04 14:10:23 +0200] [84824] [ERROR] Worker (pid:1976) exited with code 1\n",
      "[2024-04-04 14:10:23 +0200] [84824] [ERROR] Worker (pid:1976) exited with code 1.\n",
      "[2024-04-04 14:10:23 +0200] [2024] [INFO] Booting worker with pid: 2024\n",
      "[2024-04-04 14:10:23 +0200] [2025] [INFO] Booting worker with pid: 2025\n",
      "[2024-04-04 14:10:23 +0200] [2026] [INFO] Booting worker with pid: 2026\n",
      "[2024-04-04 14:25:36 +0200] [84824] [CRITICAL] WORKER TIMEOUT (pid:2023)\n",
      "[2024-04-04 14:25:36 +0200] [84824] [CRITICAL] WORKER TIMEOUT (pid:2024)\n",
      "[2024-04-04 14:25:36 +0200] [84824] [CRITICAL] WORKER TIMEOUT (pid:2025)\n",
      "[2024-04-04 14:25:36 +0200] [84824] [CRITICAL] WORKER TIMEOUT (pid:2026)\n",
      "[2024-04-04 14:25:36 +0200] [2024] [INFO] Worker exiting (pid: 2024)\n",
      "[2024-04-04 14:25:36 +0200] [2025] [INFO] Worker exiting (pid: 2025)\n",
      "[2024-04-04 14:25:36 +0200] [2026] [INFO] Worker exiting (pid: 2026)\n",
      "[2024-04-04 14:25:36 +0200] [2023] [INFO] Worker exiting (pid: 2023)\n",
      "[2024-04-04 14:25:36 +0200] [84824] [ERROR] Worker (pid:2026) exited with code 1\n",
      "[2024-04-04 14:25:36 +0200] [84824] [ERROR] Worker (pid:2026) exited with code 1.\n",
      "[2024-04-04 14:25:36 +0200] [2043] [INFO] Booting worker with pid: 2043\n",
      "[2024-04-04 14:25:36 +0200] [84824] [ERROR] Worker (pid:2024) was sent SIGKILL! Perhaps out of memory?\n",
      "[2024-04-04 14:25:36 +0200] [84824] [ERROR] Worker (pid:2023) was sent SIGKILL! Perhaps out of memory?\n",
      "[2024-04-04 14:25:36 +0200] [84824] [ERROR] Worker (pid:2025) was sent SIGKILL! Perhaps out of memory?\n",
      "[2024-04-04 14:25:36 +0200] [2044] [INFO] Booting worker with pid: 2044\n",
      "[2024-04-04 14:25:36 +0200] [2045] [INFO] Booting worker with pid: 2045\n",
      "[2024-04-04 14:25:36 +0200] [2047] [INFO] Booting worker with pid: 2047\n",
      "[2024-04-04 14:42:41 +0200] [84824] [CRITICAL] WORKER TIMEOUT (pid:2043)\n",
      "[2024-04-04 14:42:41 +0200] [84824] [CRITICAL] WORKER TIMEOUT (pid:2044)\n",
      "[2024-04-04 14:42:41 +0200] [84824] [CRITICAL] WORKER TIMEOUT (pid:2045)\n",
      "[2024-04-04 14:42:41 +0200] [84824] [CRITICAL] WORKER TIMEOUT (pid:2047)\n",
      "[2024-04-04 14:42:41 +0200] [2043] [INFO] Worker exiting (pid: 2043)\n",
      "[2024-04-04 14:42:41 +0200] [2047] [INFO] Worker exiting (pid: 2047)\n",
      "[2024-04-04 14:42:41 +0200] [2045] [INFO] Worker exiting (pid: 2045)\n",
      "[2024-04-04 14:42:41 +0200] [2044] [INFO] Worker exiting (pid: 2044)\n",
      "[2024-04-04 14:42:41 +0200] [84824] [ERROR] Worker (pid:2045) exited with code 1\n",
      "[2024-04-04 14:42:41 +0200] [84824] [ERROR] Worker (pid:2045) exited with code 1.\n",
      "[2024-04-04 14:42:41 +0200] [2076] [INFO] Booting worker with pid: 2076\n",
      "[2024-04-04 14:42:41 +0200] [84824] [ERROR] Worker (pid:2044) was sent SIGKILL! Perhaps out of memory?\n",
      "[2024-04-04 14:42:41 +0200] [84824] [ERROR] Worker (pid:2043) was sent SIGKILL! Perhaps out of memory?\n",
      "[2024-04-04 14:42:41 +0200] [84824] [ERROR] Worker (pid:2047) was sent SIGKILL! Perhaps out of memory?\n",
      "[2024-04-04 14:42:41 +0200] [2077] [INFO] Booting worker with pid: 2077\n",
      "[2024-04-04 14:42:41 +0200] [2078] [INFO] Booting worker with pid: 2078\n",
      "[2024-04-04 14:42:41 +0200] [2079] [INFO] Booting worker with pid: 2079\n",
      "[2024-04-04 14:55:38 +0200] [84824] [CRITICAL] WORKER TIMEOUT (pid:2076)\n",
      "[2024-04-04 14:55:38 +0200] [84824] [CRITICAL] WORKER TIMEOUT (pid:2077)\n",
      "[2024-04-04 14:55:38 +0200] [84824] [CRITICAL] WORKER TIMEOUT (pid:2078)\n",
      "[2024-04-04 14:55:38 +0200] [84824] [CRITICAL] WORKER TIMEOUT (pid:2079)\n",
      "[2024-04-04 14:55:38 +0200] [2077] [INFO] Worker exiting (pid: 2077)\n",
      "[2024-04-04 14:55:38 +0200] [2076] [INFO] Worker exiting (pid: 2076)\n",
      "[2024-04-04 14:55:38 +0200] [2078] [INFO] Worker exiting (pid: 2078)\n",
      "[2024-04-04 14:55:38 +0200] [2079] [INFO] Worker exiting (pid: 2079)\n",
      "[2024-04-04 14:55:39 +0200] [84824] [ERROR] Worker (pid:2078) exited with code 1\n",
      "[2024-04-04 14:55:39 +0200] [84824] [ERROR] Worker (pid:2078) exited with code 1.\n",
      "[2024-04-04 14:55:39 +0200] [84824] [ERROR] Worker (pid:2077) exited with code 1\n",
      "[2024-04-04 14:55:39 +0200] [84824] [ERROR] Worker (pid:2077) exited with code 1.\n",
      "[2024-04-04 14:55:39 +0200] [84824] [ERROR] Worker (pid:2079) exited with code 1\n",
      "[2024-04-04 14:55:39 +0200] [84824] [ERROR] Worker (pid:2079) exited with code 1.\n",
      "[2024-04-04 14:55:39 +0200] [84824] [ERROR] Worker (pid:2076) exited with code 1\n",
      "[2024-04-04 14:55:39 +0200] [84824] [ERROR] Worker (pid:2076) exited with code 1.\n",
      "[2024-04-04 14:55:39 +0200] [2111] [INFO] Booting worker with pid: 2111\n",
      "[2024-04-04 14:55:39 +0200] [2112] [INFO] Booting worker with pid: 2112\n",
      "[2024-04-04 14:55:39 +0200] [2113] [INFO] Booting worker with pid: 2113\n",
      "[2024-04-04 14:55:39 +0200] [2114] [INFO] Booting worker with pid: 2114\n",
      "[2024-04-04 15:11:17 +0200] [84824] [CRITICAL] WORKER TIMEOUT (pid:2111)\n",
      "[2024-04-04 15:11:17 +0200] [84824] [CRITICAL] WORKER TIMEOUT (pid:2112)\n",
      "[2024-04-04 15:11:17 +0200] [84824] [CRITICAL] WORKER TIMEOUT (pid:2113)\n",
      "[2024-04-04 15:11:17 +0200] [84824] [CRITICAL] WORKER TIMEOUT (pid:2114)\n",
      "[2024-04-04 15:11:17 +0200] [2112] [INFO] Worker exiting (pid: 2112)\n",
      "[2024-04-04 15:11:17 +0200] [2114] [INFO] Worker exiting (pid: 2114)\n",
      "[2024-04-04 15:11:17 +0200] [2111] [INFO] Worker exiting (pid: 2111)\n",
      "[2024-04-04 15:11:17 +0200] [2113] [INFO] Worker exiting (pid: 2113)\n",
      "[2024-04-04 15:11:17 +0200] [84824] [ERROR] Worker (pid:2113) exited with code 1\n",
      "[2024-04-04 15:11:17 +0200] [84824] [ERROR] Worker (pid:2113) exited with code 1.\n",
      "[2024-04-04 15:11:17 +0200] [84824] [ERROR] Worker (pid:2112) exited with code 1\n",
      "[2024-04-04 15:11:17 +0200] [84824] [ERROR] Worker (pid:2112) exited with code 1.\n",
      "[2024-04-04 15:11:17 +0200] [84824] [ERROR] Worker (pid:2114) exited with code 1\n",
      "[2024-04-04 15:11:17 +0200] [84824] [ERROR] Worker (pid:2114) exited with code 1.\n",
      "[2024-04-04 15:11:17 +0200] [84824] [ERROR] Worker (pid:2111) exited with code 1\n",
      "[2024-04-04 15:11:17 +0200] [84824] [ERROR] Worker (pid:2111) exited with code 1.\n",
      "[2024-04-04 15:11:17 +0200] [2139] [INFO] Booting worker with pid: 2139\n",
      "[2024-04-04 15:11:17 +0200] [2140] [INFO] Booting worker with pid: 2140\n",
      "[2024-04-04 15:11:17 +0200] [2144] [INFO] Booting worker with pid: 2144\n",
      "[2024-04-04 15:11:17 +0200] [2145] [INFO] Booting worker with pid: 2145\n",
      "[2024-04-04 15:46:18 +0200] [84824] [CRITICAL] WORKER TIMEOUT (pid:2139)\n",
      "[2024-04-04 15:46:18 +0200] [84824] [CRITICAL] WORKER TIMEOUT (pid:2140)\n",
      "[2024-04-04 15:46:18 +0200] [84824] [CRITICAL] WORKER TIMEOUT (pid:2144)\n",
      "[2024-04-04 15:46:18 +0200] [84824] [CRITICAL] WORKER TIMEOUT (pid:2145)\n",
      "[2024-04-04 15:46:18 +0200] [2144] [INFO] Worker exiting (pid: 2144)\n",
      "[2024-04-04 15:46:18 +0200] [2140] [INFO] Worker exiting (pid: 2140)\n",
      "[2024-04-04 15:46:18 +0200] [2145] [INFO] Worker exiting (pid: 2145)\n",
      "[2024-04-04 15:46:18 +0200] [2139] [INFO] Worker exiting (pid: 2139)\n",
      "[2024-04-04 15:46:18 +0200] [84824] [ERROR] Worker (pid:2144) exited with code 1\n",
      "[2024-04-04 15:46:18 +0200] [84824] [ERROR] Worker (pid:2144) exited with code 1.\n",
      "[2024-04-04 15:46:18 +0200] [2167] [INFO] Booting worker with pid: 2167\n",
      "[2024-04-04 15:46:18 +0200] [84824] [ERROR] Worker (pid:2140) was sent SIGKILL! Perhaps out of memory?\n",
      "[2024-04-04 15:46:18 +0200] [84824] [ERROR] Worker (pid:2145) was sent SIGKILL! Perhaps out of memory?\n",
      "[2024-04-04 15:46:18 +0200] [84824] [ERROR] Worker (pid:2139) exited with code 1\n",
      "[2024-04-04 15:46:18 +0200] [84824] [ERROR] Worker (pid:2139) exited with code 1.\n",
      "[2024-04-04 15:46:19 +0200] [2168] [INFO] Booting worker with pid: 2168\n",
      "[2024-04-04 15:46:19 +0200] [2169] [INFO] Booting worker with pid: 2169\n",
      "[2024-04-04 15:46:19 +0200] [2171] [INFO] Booting worker with pid: 2171\n",
      "[2024-04-04 15:56:39 +0200] [84824] [CRITICAL] WORKER TIMEOUT (pid:2167)\n",
      "[2024-04-04 15:56:39 +0200] [84824] [CRITICAL] WORKER TIMEOUT (pid:2168)\n",
      "[2024-04-04 15:56:39 +0200] [84824] [CRITICAL] WORKER TIMEOUT (pid:2169)\n",
      "[2024-04-04 15:56:39 +0200] [84824] [CRITICAL] WORKER TIMEOUT (pid:2171)\n",
      "[2024-04-04 15:56:39 +0200] [2169] [INFO] Worker exiting (pid: 2169)\n",
      "[2024-04-04 15:56:39 +0200] [2171] [INFO] Worker exiting (pid: 2171)\n",
      "[2024-04-04 15:56:39 +0200] [2167] [INFO] Worker exiting (pid: 2167)\n",
      "[2024-04-04 15:56:39 +0200] [2168] [INFO] Worker exiting (pid: 2168)\n",
      "[2024-04-04 15:56:39 +0200] [84824] [ERROR] Worker (pid:2171) exited with code 1\n",
      "[2024-04-04 15:56:39 +0200] [84824] [ERROR] Worker (pid:2171) exited with code 1.\n",
      "[2024-04-04 15:56:39 +0200] [84824] [ERROR] Worker (pid:2169) exited with code 1\n",
      "[2024-04-04 15:56:39 +0200] [84824] [ERROR] Worker (pid:2169) exited with code 1.\n",
      "[2024-04-04 15:56:39 +0200] [2199] [INFO] Booting worker with pid: 2199\n",
      "[2024-04-04 15:56:39 +0200] [84824] [ERROR] Worker (pid:2168) was sent SIGKILL! Perhaps out of memory?\n",
      "[2024-04-04 15:56:39 +0200] [84824] [ERROR] Worker (pid:2167) was sent SIGKILL! Perhaps out of memory?\n",
      "[2024-04-04 15:56:39 +0200] [2200] [INFO] Booting worker with pid: 2200\n",
      "[2024-04-04 15:56:39 +0200] [2201] [INFO] Booting worker with pid: 2201\n",
      "[2024-04-04 15:56:39 +0200] [2202] [INFO] Booting worker with pid: 2202\n",
      "[2024-04-04 16:14:14 +0200] [84824] [CRITICAL] WORKER TIMEOUT (pid:2199)\n",
      "[2024-04-04 16:14:14 +0200] [84824] [CRITICAL] WORKER TIMEOUT (pid:2200)\n",
      "[2024-04-04 16:14:14 +0200] [84824] [CRITICAL] WORKER TIMEOUT (pid:2201)\n",
      "[2024-04-04 16:14:14 +0200] [84824] [CRITICAL] WORKER TIMEOUT (pid:2202)\n",
      "[2024-04-04 16:14:14 +0200] [2199] [INFO] Worker exiting (pid: 2199)\n",
      "[2024-04-04 16:14:14 +0200] [2200] [INFO] Worker exiting (pid: 2200)\n",
      "[2024-04-04 16:14:14 +0200] [2201] [INFO] Worker exiting (pid: 2201)\n",
      "[2024-04-04 16:14:14 +0200] [2202] [INFO] Worker exiting (pid: 2202)\n",
      "[2024-04-04 16:14:14 +0200] [84824] [ERROR] Worker (pid:2201) exited with code 1\n",
      "[2024-04-04 16:14:14 +0200] [84824] [ERROR] Worker (pid:2201) exited with code 1.\n",
      "[2024-04-04 16:14:14 +0200] [84824] [ERROR] Worker (pid:2202) exited with code 1\n",
      "[2024-04-04 16:14:14 +0200] [84824] [ERROR] Worker (pid:2202) exited with code 1.\n",
      "[2024-04-04 16:14:14 +0200] [2229] [INFO] Booting worker with pid: 2229\n",
      "[2024-04-04 16:14:14 +0200] [84824] [ERROR] Worker (pid:2200) was sent SIGKILL! Perhaps out of memory?\n",
      "[2024-04-04 16:14:14 +0200] [84824] [ERROR] Worker (pid:2199) was sent SIGKILL! Perhaps out of memory?\n",
      "[2024-04-04 16:14:14 +0200] [2230] [INFO] Booting worker with pid: 2230\n",
      "[2024-04-04 16:14:14 +0200] [2231] [INFO] Booting worker with pid: 2231\n",
      "[2024-04-04 16:14:14 +0200] [2232] [INFO] Booting worker with pid: 2232\n",
      "[2024-04-04 16:32:15 +0200] [84824] [CRITICAL] WORKER TIMEOUT (pid:2229)\n",
      "[2024-04-04 16:32:15 +0200] [84824] [CRITICAL] WORKER TIMEOUT (pid:2230)\n",
      "[2024-04-04 16:32:15 +0200] [84824] [CRITICAL] WORKER TIMEOUT (pid:2231)\n",
      "[2024-04-04 16:32:15 +0200] [84824] [CRITICAL] WORKER TIMEOUT (pid:2232)\n",
      "[2024-04-04 16:32:15 +0200] [2229] [INFO] Worker exiting (pid: 2229)\n",
      "[2024-04-04 16:32:15 +0200] [2230] [INFO] Worker exiting (pid: 2230)\n",
      "[2024-04-04 16:32:15 +0200] [2231] [INFO] Worker exiting (pid: 2231)\n",
      "[2024-04-04 16:32:15 +0200] [2232] [INFO] Worker exiting (pid: 2232)\n",
      "[2024-04-04 16:32:15 +0200] [84824] [ERROR] Worker (pid:2229) exited with code 1\n",
      "[2024-04-04 16:32:15 +0200] [84824] [ERROR] Worker (pid:2229) exited with code 1.\n",
      "[2024-04-04 16:32:15 +0200] [84824] [ERROR] Worker (pid:2230) exited with code 1\n",
      "[2024-04-04 16:32:15 +0200] [84824] [ERROR] Worker (pid:2230) exited with code 1.\n",
      "[2024-04-04 16:32:15 +0200] [84824] [ERROR] Worker (pid:2231) exited with code 1\n",
      "[2024-04-04 16:32:15 +0200] [84824] [ERROR] Worker (pid:2231) exited with code 1.\n",
      "[2024-04-04 16:32:15 +0200] [2260] [INFO] Booting worker with pid: 2260\n",
      "[2024-04-04 16:32:15 +0200] [84824] [ERROR] Worker (pid:2232) was sent SIGKILL! Perhaps out of memory?\n",
      "[2024-04-04 16:32:15 +0200] [2261] [INFO] Booting worker with pid: 2261\n",
      "[2024-04-04 16:32:16 +0200] [2262] [INFO] Booting worker with pid: 2262\n",
      "[2024-04-04 16:32:16 +0200] [2264] [INFO] Booting worker with pid: 2264\n",
      "[2024-04-04 16:49:09 +0200] [84824] [CRITICAL] WORKER TIMEOUT (pid:2260)\n",
      "[2024-04-04 16:49:09 +0200] [84824] [CRITICAL] WORKER TIMEOUT (pid:2261)\n",
      "[2024-04-04 16:49:09 +0200] [84824] [CRITICAL] WORKER TIMEOUT (pid:2262)\n",
      "[2024-04-04 16:49:09 +0200] [84824] [CRITICAL] WORKER TIMEOUT (pid:2264)\n",
      "[2024-04-04 16:49:09 +0200] [2261] [INFO] Worker exiting (pid: 2261)\n",
      "[2024-04-04 16:49:09 +0200] [2264] [INFO] Worker exiting (pid: 2264)\n",
      "[2024-04-04 16:49:09 +0200] [2260] [INFO] Worker exiting (pid: 2260)\n",
      "[2024-04-04 16:49:09 +0200] [2262] [INFO] Worker exiting (pid: 2262)\n",
      "[2024-04-04 16:49:10 +0200] [84824] [ERROR] Worker (pid:2264) exited with code 1\n",
      "[2024-04-04 16:49:10 +0200] [84824] [ERROR] Worker (pid:2264) exited with code 1.\n",
      "[2024-04-04 16:49:10 +0200] [84824] [ERROR] Worker (pid:2261) exited with code 1\n",
      "[2024-04-04 16:49:10 +0200] [84824] [ERROR] Worker (pid:2261) exited with code 1.\n",
      "[2024-04-04 16:49:10 +0200] [2284] [INFO] Booting worker with pid: 2284\n",
      "[2024-04-04 16:49:10 +0200] [84824] [ERROR] Worker (pid:2262) was sent SIGKILL! Perhaps out of memory?\n",
      "[2024-04-04 16:49:10 +0200] [84824] [ERROR] Worker (pid:2260) exited with code 1\n",
      "[2024-04-04 16:49:10 +0200] [84824] [ERROR] Worker (pid:2260) exited with code 1.\n",
      "[2024-04-04 16:49:10 +0200] [2285] [INFO] Booting worker with pid: 2285\n",
      "[2024-04-04 16:49:10 +0200] [2286] [INFO] Booting worker with pid: 2286\n",
      "[2024-04-04 16:49:10 +0200] [2287] [INFO] Booting worker with pid: 2287\n",
      "[2024-04-04 16:57:40 +0200] [84824] [CRITICAL] WORKER TIMEOUT (pid:2284)\n",
      "[2024-04-04 16:57:40 +0200] [84824] [CRITICAL] WORKER TIMEOUT (pid:2285)\n",
      "[2024-04-04 16:57:40 +0200] [84824] [CRITICAL] WORKER TIMEOUT (pid:2286)\n",
      "[2024-04-04 16:57:40 +0200] [84824] [CRITICAL] WORKER TIMEOUT (pid:2287)\n",
      "[2024-04-04 16:57:40 +0200] [2287] [INFO] Worker exiting (pid: 2287)\n",
      "[2024-04-04 16:57:40 +0200] [2286] [INFO] Worker exiting (pid: 2286)\n",
      "[2024-04-04 16:57:40 +0200] [2284] [INFO] Worker exiting (pid: 2284)\n",
      "[2024-04-04 16:57:40 +0200] [2285] [INFO] Worker exiting (pid: 2285)\n",
      "[2024-04-04 16:57:40 +0200] [84824] [ERROR] Worker (pid:2287) exited with code 1\n",
      "[2024-04-04 16:57:40 +0200] [84824] [ERROR] Worker (pid:2287) exited with code 1.\n",
      "[2024-04-04 16:57:40 +0200] [84824] [ERROR] Worker (pid:2286) was sent SIGKILL! Perhaps out of memory?\n",
      "[2024-04-04 16:57:40 +0200] [84824] [ERROR] Worker (pid:2285) was sent SIGKILL! Perhaps out of memory?\n",
      "[2024-04-04 16:57:40 +0200] [84824] [ERROR] Worker (pid:2284) was sent SIGKILL! Perhaps out of memory?\n",
      "[2024-04-04 16:57:40 +0200] [2310] [INFO] Booting worker with pid: 2310\n",
      "[2024-04-04 16:57:40 +0200] [2311] [INFO] Booting worker with pid: 2311\n",
      "[2024-04-04 16:57:40 +0200] [2312] [INFO] Booting worker with pid: 2312\n",
      "[2024-04-04 16:57:40 +0200] [2313] [INFO] Booting worker with pid: 2313\n",
      "[2024-04-04 17:14:59 +0200] [84824] [CRITICAL] WORKER TIMEOUT (pid:2310)\n",
      "[2024-04-04 17:14:59 +0200] [84824] [CRITICAL] WORKER TIMEOUT (pid:2311)\n",
      "[2024-04-04 17:14:59 +0200] [84824] [CRITICAL] WORKER TIMEOUT (pid:2312)\n",
      "[2024-04-04 17:14:59 +0200] [84824] [CRITICAL] WORKER TIMEOUT (pid:2313)\n",
      "[2024-04-04 17:14:59 +0200] [2310] [INFO] Worker exiting (pid: 2310)\n",
      "[2024-04-04 17:14:59 +0200] [2311] [INFO] Worker exiting (pid: 2311)\n",
      "[2024-04-04 17:14:59 +0200] [2313] [INFO] Worker exiting (pid: 2313)\n",
      "[2024-04-04 17:14:59 +0200] [2312] [INFO] Worker exiting (pid: 2312)\n",
      "[2024-04-04 17:14:59 +0200] [84824] [ERROR] Worker (pid:2310) exited with code 1\n",
      "[2024-04-04 17:14:59 +0200] [84824] [ERROR] Worker (pid:2310) exited with code 1.\n",
      "[2024-04-04 17:14:59 +0200] [84824] [ERROR] Worker (pid:2312) exited with code 1\n",
      "[2024-04-04 17:14:59 +0200] [84824] [ERROR] Worker (pid:2312) exited with code 1.\n",
      "[2024-04-04 17:14:59 +0200] [2343] [INFO] Booting worker with pid: 2343\n",
      "[2024-04-04 17:14:59 +0200] [84824] [ERROR] Worker (pid:2313) was sent SIGKILL! Perhaps out of memory?\n",
      "[2024-04-04 17:14:59 +0200] [84824] [ERROR] Worker (pid:2311) was sent SIGKILL! Perhaps out of memory?\n",
      "[2024-04-04 17:14:59 +0200] [2344] [INFO] Booting worker with pid: 2344\n",
      "[2024-04-04 17:14:59 +0200] [2345] [INFO] Booting worker with pid: 2345\n",
      "[2024-04-04 17:14:59 +0200] [2346] [INFO] Booting worker with pid: 2346\n",
      "[2024-04-04 17:24:19 +0200] [84824] [CRITICAL] WORKER TIMEOUT (pid:2343)\n",
      "[2024-04-04 17:24:19 +0200] [2343] [INFO] Worker exiting (pid: 2343)\n",
      "[2024-04-04 17:24:19 +0200] [84824] [CRITICAL] WORKER TIMEOUT (pid:2344)\n",
      "[2024-04-04 17:24:19 +0200] [2344] [INFO] Worker exiting (pid: 2344)\n",
      "[2024-04-04 17:24:19 +0200] [84824] [CRITICAL] WORKER TIMEOUT (pid:2345)\n",
      "[2024-04-04 17:24:19 +0200] [84824] [CRITICAL] WORKER TIMEOUT (pid:2346)\n",
      "[2024-04-04 17:24:19 +0200] [2345] [INFO] Worker exiting (pid: 2345)\n",
      "[2024-04-04 17:24:19 +0200] [2346] [INFO] Worker exiting (pid: 2346)\n",
      "[2024-04-04 17:24:20 +0200] [84824] [ERROR] Worker (pid:2344) exited with code 1\n",
      "[2024-04-04 17:24:20 +0200] [84824] [ERROR] Worker (pid:2344) exited with code 1.\n",
      "[2024-04-04 17:24:20 +0200] [2367] [INFO] Booting worker with pid: 2367\n",
      "[2024-04-04 17:24:20 +0200] [84824] [ERROR] Worker (pid:2345) exited with code 1\n",
      "[2024-04-04 17:24:20 +0200] [84824] [ERROR] Worker (pid:2345) exited with code 1.\n",
      "[2024-04-04 17:24:20 +0200] [84824] [ERROR] Worker (pid:2343) was sent SIGKILL! Perhaps out of memory?\n",
      "[2024-04-04 17:24:20 +0200] [84824] [ERROR] Worker (pid:2346) was sent SIGKILL! Perhaps out of memory?\n",
      "[2024-04-04 17:24:20 +0200] [2368] [INFO] Booting worker with pid: 2368\n",
      "[2024-04-04 17:24:20 +0200] [2369] [INFO] Booting worker with pid: 2369\n",
      "[2024-04-04 17:24:20 +0200] [2370] [INFO] Booting worker with pid: 2370\n",
      "[2024-04-04 17:41:31 +0200] [84824] [CRITICAL] WORKER TIMEOUT (pid:2367)\n",
      "[2024-04-04 17:41:31 +0200] [84824] [CRITICAL] WORKER TIMEOUT (pid:2368)\n",
      "[2024-04-04 17:41:31 +0200] [84824] [CRITICAL] WORKER TIMEOUT (pid:2369)\n",
      "[2024-04-04 17:41:31 +0200] [84824] [CRITICAL] WORKER TIMEOUT (pid:2370)\n",
      "[2024-04-04 17:41:31 +0200] [2369] [INFO] Worker exiting (pid: 2369)\n",
      "[2024-04-04 17:41:31 +0200] [2370] [INFO] Worker exiting (pid: 2370)\n",
      "[2024-04-04 17:41:31 +0200] [2367] [INFO] Worker exiting (pid: 2367)\n",
      "[2024-04-04 17:41:31 +0200] [2368] [INFO] Worker exiting (pid: 2368)\n",
      "[2024-04-04 17:41:31 +0200] [84824] [ERROR] Worker (pid:2369) exited with code 1\n",
      "[2024-04-04 17:41:31 +0200] [84824] [ERROR] Worker (pid:2369) exited with code 1.\n",
      "[2024-04-04 17:41:31 +0200] [84824] [ERROR] Worker (pid:2368) exited with code 1\n",
      "[2024-04-04 17:41:31 +0200] [84824] [ERROR] Worker (pid:2368) exited with code 1.\n",
      "[2024-04-04 17:41:31 +0200] [84824] [ERROR] Worker (pid:2370) exited with code 1\n",
      "[2024-04-04 17:41:31 +0200] [84824] [ERROR] Worker (pid:2370) exited with code 1.\n",
      "[2024-04-04 17:41:31 +0200] [84824] [ERROR] Worker (pid:2367) was sent SIGKILL! Perhaps out of memory?\n",
      "[2024-04-04 17:41:31 +0200] [2412] [INFO] Booting worker with pid: 2412\n",
      "[2024-04-04 17:41:31 +0200] [2413] [INFO] Booting worker with pid: 2413\n",
      "[2024-04-04 17:41:31 +0200] [2416] [INFO] Booting worker with pid: 2416\n",
      "[2024-04-04 17:41:31 +0200] [2417] [INFO] Booting worker with pid: 2417\n",
      "[2024-04-04 17:57:16 +0200] [84824] [CRITICAL] WORKER TIMEOUT (pid:2412)\n",
      "[2024-04-04 17:57:16 +0200] [84824] [CRITICAL] WORKER TIMEOUT (pid:2413)\n",
      "[2024-04-04 17:57:16 +0200] [84824] [CRITICAL] WORKER TIMEOUT (pid:2416)\n",
      "[2024-04-04 17:57:16 +0200] [84824] [CRITICAL] WORKER TIMEOUT (pid:2417)\n",
      "[2024-04-04 17:57:16 +0200] [2412] [INFO] Worker exiting (pid: 2412)\n",
      "[2024-04-04 17:57:16 +0200] [2413] [INFO] Worker exiting (pid: 2413)\n",
      "[2024-04-04 17:57:16 +0200] [2416] [INFO] Worker exiting (pid: 2416)\n",
      "[2024-04-04 17:57:16 +0200] [2417] [INFO] Worker exiting (pid: 2417)\n",
      "[2024-04-04 17:57:16 +0200] [84824] [ERROR] Worker (pid:2416) exited with code 1\n",
      "[2024-04-04 17:57:16 +0200] [84824] [ERROR] Worker (pid:2416) exited with code 1.\n",
      "[2024-04-04 17:57:16 +0200] [84824] [ERROR] Worker (pid:2412) exited with code 1\n",
      "[2024-04-04 17:57:16 +0200] [84824] [ERROR] Worker (pid:2412) exited with code 1.\n",
      "[2024-04-04 17:57:16 +0200] [2440] [INFO] Booting worker with pid: 2440\n",
      "[2024-04-04 17:57:16 +0200] [84824] [ERROR] Worker (pid:2417) was sent SIGKILL! Perhaps out of memory?\n",
      "[2024-04-04 17:57:16 +0200] [84824] [ERROR] Worker (pid:2413) was sent SIGKILL! Perhaps out of memory?\n",
      "[2024-04-04 17:57:16 +0200] [2441] [INFO] Booting worker with pid: 2441\n",
      "[2024-04-04 17:57:17 +0200] [2442] [INFO] Booting worker with pid: 2442\n",
      "[2024-04-04 17:57:17 +0200] [2443] [INFO] Booting worker with pid: 2443\n",
      "[2024-04-04 17:58:39 +0200] [84824] [CRITICAL] WORKER TIMEOUT (pid:2440)\n",
      "[2024-04-04 17:58:39 +0200] [84824] [CRITICAL] WORKER TIMEOUT (pid:2441)\n",
      "[2024-04-04 17:58:39 +0200] [84824] [CRITICAL] WORKER TIMEOUT (pid:2442)\n",
      "[2024-04-04 17:58:39 +0200] [84824] [CRITICAL] WORKER TIMEOUT (pid:2443)\n",
      "[2024-04-04 17:58:39 +0200] [2440] [INFO] Worker exiting (pid: 2440)\n",
      "[2024-04-04 17:58:39 +0200] [2442] [INFO] Worker exiting (pid: 2442)\n",
      "[2024-04-04 17:58:39 +0200] [2443] [INFO] Worker exiting (pid: 2443)\n",
      "[2024-04-04 17:58:39 +0200] [2441] [INFO] Worker exiting (pid: 2441)\n",
      "[2024-04-04 17:58:40 +0200] [84824] [ERROR] Worker (pid:2443) exited with code 1\n",
      "[2024-04-04 17:58:40 +0200] [84824] [ERROR] Worker (pid:2443) exited with code 1.\n",
      "[2024-04-04 17:58:40 +0200] [84824] [ERROR] Worker (pid:2440) exited with code 1\n",
      "[2024-04-04 17:58:40 +0200] [84824] [ERROR] Worker (pid:2440) exited with code 1.\n",
      "[2024-04-04 17:58:40 +0200] [2462] [INFO] Booting worker with pid: 2462\n",
      "[2024-04-04 17:58:40 +0200] [84824] [ERROR] Worker (pid:2441) was sent SIGKILL! Perhaps out of memory?\n",
      "[2024-04-04 17:58:40 +0200] [84824] [ERROR] Worker (pid:2442) was sent SIGKILL! Perhaps out of memory?\n",
      "[2024-04-04 17:58:40 +0200] [2463] [INFO] Booting worker with pid: 2463\n",
      "[2024-04-04 17:58:40 +0200] [2465] [INFO] Booting worker with pid: 2465\n",
      "[2024-04-04 17:58:40 +0200] [2466] [INFO] Booting worker with pid: 2466\n",
      "[2024-04-04 18:16:20 +0200] [84824] [CRITICAL] WORKER TIMEOUT (pid:2462)\n",
      "[2024-04-04 18:16:20 +0200] [84824] [CRITICAL] WORKER TIMEOUT (pid:2463)\n",
      "[2024-04-04 18:16:20 +0200] [84824] [CRITICAL] WORKER TIMEOUT (pid:2465)\n",
      "[2024-04-04 18:16:20 +0200] [84824] [CRITICAL] WORKER TIMEOUT (pid:2466)\n",
      "[2024-04-04 18:16:20 +0200] [2463] [INFO] Worker exiting (pid: 2463)\n",
      "[2024-04-04 18:16:20 +0200] [2462] [INFO] Worker exiting (pid: 2462)\n",
      "[2024-04-04 18:16:20 +0200] [2465] [INFO] Worker exiting (pid: 2465)\n",
      "[2024-04-04 18:16:20 +0200] [2466] [INFO] Worker exiting (pid: 2466)\n",
      "[2024-04-04 18:16:21 +0200] [84824] [ERROR] Worker (pid:2466) exited with code 1\n",
      "[2024-04-04 18:16:21 +0200] [84824] [ERROR] Worker (pid:2466) exited with code 1.\n",
      "[2024-04-04 18:16:21 +0200] [84824] [ERROR] Worker (pid:2465) exited with code 1\n",
      "[2024-04-04 18:16:21 +0200] [84824] [ERROR] Worker (pid:2465) exited with code 1.\n",
      "[2024-04-04 18:16:21 +0200] [2498] [INFO] Booting worker with pid: 2498\n",
      "[2024-04-04 18:16:21 +0200] [84824] [ERROR] Worker (pid:2462) exited with code 1\n",
      "[2024-04-04 18:16:21 +0200] [84824] [ERROR] Worker (pid:2462) exited with code 1.\n",
      "[2024-04-04 18:16:21 +0200] [84824] [ERROR] Worker (pid:2463) was sent SIGKILL! Perhaps out of memory?\n",
      "[2024-04-04 18:16:21 +0200] [2499] [INFO] Booting worker with pid: 2499\n",
      "[2024-04-04 18:16:21 +0200] [2500] [INFO] Booting worker with pid: 2500\n",
      "[2024-04-04 18:16:21 +0200] [2501] [INFO] Booting worker with pid: 2501\n",
      "[2024-04-04 18:33:23 +0200] [84824] [CRITICAL] WORKER TIMEOUT (pid:2498)\n",
      "[2024-04-04 18:33:23 +0200] [84824] [CRITICAL] WORKER TIMEOUT (pid:2499)\n",
      "[2024-04-04 18:33:23 +0200] [84824] [CRITICAL] WORKER TIMEOUT (pid:2500)\n",
      "[2024-04-04 18:33:23 +0200] [84824] [CRITICAL] WORKER TIMEOUT (pid:2501)\n",
      "[2024-04-04 18:33:23 +0200] [2499] [INFO] Worker exiting (pid: 2499)\n",
      "[2024-04-04 18:33:23 +0200] [2498] [INFO] Worker exiting (pid: 2498)\n",
      "[2024-04-04 18:33:23 +0200] [2500] [INFO] Worker exiting (pid: 2500)\n",
      "[2024-04-04 18:33:23 +0200] [2501] [INFO] Worker exiting (pid: 2501)\n",
      "[2024-04-04 18:33:23 +0200] [84824] [ERROR] Worker (pid:2500) exited with code 1\n",
      "[2024-04-04 18:33:23 +0200] [84824] [ERROR] Worker (pid:2500) exited with code 1.\n",
      "[2024-04-04 18:33:23 +0200] [2522] [INFO] Booting worker with pid: 2522\n",
      "[2024-04-04 18:33:23 +0200] [84824] [ERROR] Worker (pid:2498) was sent SIGKILL! Perhaps out of memory?\n",
      "[2024-04-04 18:33:23 +0200] [84824] [ERROR] Worker (pid:2501) was sent SIGKILL! Perhaps out of memory?\n",
      "[2024-04-04 18:33:23 +0200] [84824] [ERROR] Worker (pid:2499) was sent SIGKILL! Perhaps out of memory?\n",
      "[2024-04-04 18:33:23 +0200] [2523] [INFO] Booting worker with pid: 2523\n",
      "[2024-04-04 18:33:23 +0200] [2524] [INFO] Booting worker with pid: 2524\n",
      "[2024-04-04 18:33:23 +0200] [2525] [INFO] Booting worker with pid: 2525\n",
      "[2024-04-04 18:51:14 +0200] [84824] [CRITICAL] WORKER TIMEOUT (pid:2522)\n",
      "[2024-04-04 18:51:14 +0200] [84824] [CRITICAL] WORKER TIMEOUT (pid:2523)\n",
      "[2024-04-04 18:51:14 +0200] [84824] [CRITICAL] WORKER TIMEOUT (pid:2524)\n",
      "[2024-04-04 18:51:14 +0200] [84824] [CRITICAL] WORKER TIMEOUT (pid:2525)\n",
      "[2024-04-04 18:51:14 +0200] [2522] [INFO] Worker exiting (pid: 2522)\n",
      "[2024-04-04 18:51:14 +0200] [2523] [INFO] Worker exiting (pid: 2523)\n",
      "[2024-04-04 18:51:14 +0200] [2524] [INFO] Worker exiting (pid: 2524)\n",
      "[2024-04-04 18:51:14 +0200] [2525] [INFO] Worker exiting (pid: 2525)\n",
      "[2024-04-04 18:51:15 +0200] [84824] [ERROR] Worker (pid:2525) exited with code 1\n",
      "[2024-04-04 18:51:15 +0200] [84824] [ERROR] Worker (pid:2525) exited with code 1.\n",
      "[2024-04-04 18:51:15 +0200] [84824] [ERROR] Worker (pid:2523) exited with code 1\n",
      "[2024-04-04 18:51:15 +0200] [84824] [ERROR] Worker (pid:2523) exited with code 1.\n",
      "[2024-04-04 18:51:15 +0200] [84824] [ERROR] Worker (pid:2524) exited with code 1\n",
      "[2024-04-04 18:51:15 +0200] [84824] [ERROR] Worker (pid:2524) exited with code 1.\n",
      "[2024-04-04 18:51:15 +0200] [2545] [INFO] Booting worker with pid: 2545\n",
      "[2024-04-04 18:51:15 +0200] [84824] [ERROR] Worker (pid:2522) exited with code 1\n",
      "[2024-04-04 18:51:15 +0200] [84824] [ERROR] Worker (pid:2522) exited with code 1.\n",
      "[2024-04-04 18:51:15 +0200] [2546] [INFO] Booting worker with pid: 2546\n",
      "[2024-04-04 18:51:15 +0200] [2547] [INFO] Booting worker with pid: 2547\n",
      "[2024-04-04 18:51:15 +0200] [2548] [INFO] Booting worker with pid: 2548\n",
      "[2024-04-04 18:59:39 +0200] [84824] [CRITICAL] WORKER TIMEOUT (pid:2545)\n",
      "[2024-04-04 18:59:39 +0200] [84824] [CRITICAL] WORKER TIMEOUT (pid:2546)\n",
      "[2024-04-04 18:59:39 +0200] [84824] [CRITICAL] WORKER TIMEOUT (pid:2547)\n",
      "[2024-04-04 18:59:39 +0200] [84824] [CRITICAL] WORKER TIMEOUT (pid:2548)\n",
      "[2024-04-04 18:59:39 +0200] [2545] [INFO] Worker exiting (pid: 2545)\n",
      "[2024-04-04 18:59:39 +0200] [2546] [INFO] Worker exiting (pid: 2546)\n",
      "[2024-04-04 18:59:39 +0200] [2547] [INFO] Worker exiting (pid: 2547)\n",
      "[2024-04-04 18:59:39 +0200] [2548] [INFO] Worker exiting (pid: 2548)\n",
      "[2024-04-04 18:59:40 +0200] [84824] [ERROR] Worker (pid:2547) exited with code 1\n",
      "[2024-04-04 18:59:40 +0200] [84824] [ERROR] Worker (pid:2547) exited with code 1.\n",
      "[2024-04-04 18:59:40 +0200] [84824] [ERROR] Worker (pid:2548) exited with code 1\n",
      "[2024-04-04 18:59:40 +0200] [84824] [ERROR] Worker (pid:2548) exited with code 1.\n",
      "[2024-04-04 18:59:40 +0200] [84824] [ERROR] Worker (pid:2545) exited with code 1\n",
      "[2024-04-04 18:59:40 +0200] [84824] [ERROR] Worker (pid:2545) exited with code 1.\n",
      "[2024-04-04 18:59:40 +0200] [84824] [ERROR] Worker (pid:2546) exited with code 1\n",
      "[2024-04-04 18:59:40 +0200] [84824] [ERROR] Worker (pid:2546) exited with code 1.\n",
      "[2024-04-04 18:59:40 +0200] [2575] [INFO] Booting worker with pid: 2575\n",
      "[2024-04-04 18:59:40 +0200] [2578] [INFO] Booting worker with pid: 2578\n",
      "[2024-04-04 18:59:40 +0200] [2579] [INFO] Booting worker with pid: 2579\n",
      "[2024-04-04 18:59:40 +0200] [2580] [INFO] Booting worker with pid: 2580\n",
      "[2024-04-04 19:15:39 +0200] [84824] [CRITICAL] WORKER TIMEOUT (pid:2575)\n",
      "[2024-04-04 19:15:39 +0200] [84824] [CRITICAL] WORKER TIMEOUT (pid:2578)\n",
      "[2024-04-04 19:15:39 +0200] [84824] [CRITICAL] WORKER TIMEOUT (pid:2579)\n",
      "[2024-04-04 19:15:39 +0200] [84824] [CRITICAL] WORKER TIMEOUT (pid:2580)\n",
      "[2024-04-04 19:15:39 +0200] [2575] [INFO] Worker exiting (pid: 2575)\n",
      "[2024-04-04 19:15:39 +0200] [2578] [INFO] Worker exiting (pid: 2578)\n",
      "[2024-04-04 19:15:39 +0200] [2579] [INFO] Worker exiting (pid: 2579)\n",
      "[2024-04-04 19:15:39 +0200] [2580] [INFO] Worker exiting (pid: 2580)\n",
      "[2024-04-04 19:15:39 +0200] [84824] [ERROR] Worker (pid:2578) exited with code 1\n",
      "[2024-04-04 19:15:39 +0200] [84824] [ERROR] Worker (pid:2578) exited with code 1.\n",
      "[2024-04-04 19:15:39 +0200] [2603] [INFO] Booting worker with pid: 2603\n",
      "[2024-04-04 19:15:39 +0200] [84824] [ERROR] Worker (pid:2580) was sent SIGKILL! Perhaps out of memory?\n",
      "[2024-04-04 19:15:39 +0200] [84824] [ERROR] Worker (pid:2575) was sent SIGKILL! Perhaps out of memory?\n",
      "[2024-04-04 19:15:39 +0200] [84824] [ERROR] Worker (pid:2579) was sent SIGKILL! Perhaps out of memory?\n",
      "[2024-04-04 19:15:39 +0200] [2604] [INFO] Booting worker with pid: 2604\n",
      "[2024-04-04 19:15:39 +0200] [2605] [INFO] Booting worker with pid: 2605\n",
      "[2024-04-04 19:15:39 +0200] [2606] [INFO] Booting worker with pid: 2606\n",
      "[2024-04-04 19:32:41 +0200] [84824] [CRITICAL] WORKER TIMEOUT (pid:2603)\n",
      "[2024-04-04 19:32:41 +0200] [84824] [CRITICAL] WORKER TIMEOUT (pid:2604)\n",
      "[2024-04-04 19:32:41 +0200] [84824] [CRITICAL] WORKER TIMEOUT (pid:2605)\n",
      "[2024-04-04 19:32:41 +0200] [84824] [CRITICAL] WORKER TIMEOUT (pid:2606)\n",
      "[2024-04-04 19:32:41 +0200] [2604] [INFO] Worker exiting (pid: 2604)\n",
      "[2024-04-04 19:32:41 +0200] [2603] [INFO] Worker exiting (pid: 2603)\n",
      "[2024-04-04 19:32:41 +0200] [2606] [INFO] Worker exiting (pid: 2606)\n",
      "[2024-04-04 19:32:41 +0200] [2605] [INFO] Worker exiting (pid: 2605)\n",
      "[2024-04-04 19:32:41 +0200] [84824] [ERROR] Worker (pid:2605) exited with code 1\n",
      "[2024-04-04 19:32:41 +0200] [84824] [ERROR] Worker (pid:2605) exited with code 1.\n",
      "[2024-04-04 19:32:42 +0200] [84824] [ERROR] Worker (pid:2604) exited with code 1\n",
      "[2024-04-04 19:32:42 +0200] [84824] [ERROR] Worker (pid:2604) exited with code 1.\n",
      "[2024-04-04 19:32:42 +0200] [84824] [ERROR] Worker (pid:2606) exited with code 1\n",
      "[2024-04-04 19:32:42 +0200] [84824] [ERROR] Worker (pid:2606) exited with code 1.\n",
      "[2024-04-04 19:32:42 +0200] [2628] [INFO] Booting worker with pid: 2628\n",
      "[2024-04-04 19:32:42 +0200] [84824] [ERROR] Worker (pid:2603) was sent SIGKILL! Perhaps out of memory?\n",
      "[2024-04-04 19:32:42 +0200] [2629] [INFO] Booting worker with pid: 2629\n",
      "[2024-04-04 19:32:42 +0200] [2630] [INFO] Booting worker with pid: 2630\n",
      "[2024-04-04 19:32:42 +0200] [2631] [INFO] Booting worker with pid: 2631\n",
      "[2024-04-04 19:49:12 +0200] [84824] [CRITICAL] WORKER TIMEOUT (pid:2628)\n",
      "[2024-04-04 19:49:12 +0200] [84824] [CRITICAL] WORKER TIMEOUT (pid:2629)\n",
      "[2024-04-04 19:49:12 +0200] [84824] [CRITICAL] WORKER TIMEOUT (pid:2630)\n",
      "[2024-04-04 19:49:12 +0200] [84824] [CRITICAL] WORKER TIMEOUT (pid:2631)\n",
      "[2024-04-04 19:49:12 +0200] [2631] [INFO] Worker exiting (pid: 2631)\n",
      "[2024-04-04 19:49:12 +0200] [2630] [INFO] Worker exiting (pid: 2630)\n",
      "[2024-04-04 19:49:12 +0200] [2629] [INFO] Worker exiting (pid: 2629)\n",
      "[2024-04-04 19:49:12 +0200] [2628] [INFO] Worker exiting (pid: 2628)\n",
      "[2024-04-04 19:49:13 +0200] [84824] [ERROR] Worker (pid:2628) exited with code 1\n",
      "[2024-04-04 19:49:13 +0200] [84824] [ERROR] Worker (pid:2628) exited with code 1.\n",
      "[2024-04-04 19:49:13 +0200] [84824] [ERROR] Worker (pid:2630) exited with code 1\n",
      "[2024-04-04 19:49:13 +0200] [84824] [ERROR] Worker (pid:2630) exited with code 1.\n",
      "[2024-04-04 19:49:13 +0200] [2926] [INFO] Booting worker with pid: 2926\n",
      "[2024-04-04 19:49:13 +0200] [84824] [ERROR] Worker (pid:2631) was sent SIGKILL! Perhaps out of memory?\n",
      "[2024-04-04 19:49:13 +0200] [84824] [ERROR] Worker (pid:2629) was sent SIGKILL! Perhaps out of memory?\n",
      "[2024-04-04 19:49:13 +0200] [2927] [INFO] Booting worker with pid: 2927\n",
      "[2024-04-04 19:49:13 +0200] [2928] [INFO] Booting worker with pid: 2928\n",
      "[2024-04-04 19:49:13 +0200] [2929] [INFO] Booting worker with pid: 2929\n",
      "[2024-04-04 20:00:40 +0200] [84824] [CRITICAL] WORKER TIMEOUT (pid:2926)\n",
      "[2024-04-04 20:00:40 +0200] [84824] [CRITICAL] WORKER TIMEOUT (pid:2927)\n",
      "[2024-04-04 20:00:40 +0200] [84824] [CRITICAL] WORKER TIMEOUT (pid:2928)\n",
      "[2024-04-04 20:00:40 +0200] [84824] [CRITICAL] WORKER TIMEOUT (pid:2929)\n",
      "[2024-04-04 20:00:40 +0200] [2926] [INFO] Worker exiting (pid: 2926)\n",
      "[2024-04-04 20:00:40 +0200] [2927] [INFO] Worker exiting (pid: 2927)\n",
      "[2024-04-04 20:00:40 +0200] [2928] [INFO] Worker exiting (pid: 2928)\n",
      "[2024-04-04 20:00:40 +0200] [2929] [INFO] Worker exiting (pid: 2929)\n",
      "[2024-04-04 20:00:40 +0200] [84824] [ERROR] Worker (pid:2926) exited with code 1\n",
      "[2024-04-04 20:00:40 +0200] [84824] [ERROR] Worker (pid:2926) exited with code 1.\n",
      "[2024-04-04 20:00:40 +0200] [2952] [INFO] Booting worker with pid: 2952\n",
      "[2024-04-04 20:00:40 +0200] [84824] [ERROR] Worker (pid:2929) was sent SIGKILL! Perhaps out of memory?\n",
      "[2024-04-04 20:00:40 +0200] [84824] [ERROR] Worker (pid:2927) was sent SIGKILL! Perhaps out of memory?\n",
      "[2024-04-04 20:00:40 +0200] [84824] [ERROR] Worker (pid:2928) was sent SIGKILL! Perhaps out of memory?\n",
      "[2024-04-04 20:00:40 +0200] [2953] [INFO] Booting worker with pid: 2953\n",
      "[2024-04-04 20:00:40 +0200] [2954] [INFO] Booting worker with pid: 2954\n",
      "[2024-04-04 20:00:40 +0200] [2957] [INFO] Booting worker with pid: 2957\n",
      "[2024-04-04 20:18:21 +0200] [84824] [CRITICAL] WORKER TIMEOUT (pid:2952)\n",
      "[2024-04-04 20:18:21 +0200] [84824] [CRITICAL] WORKER TIMEOUT (pid:2953)\n",
      "[2024-04-04 20:18:21 +0200] [84824] [CRITICAL] WORKER TIMEOUT (pid:2954)\n",
      "[2024-04-04 20:18:21 +0200] [84824] [CRITICAL] WORKER TIMEOUT (pid:2957)\n",
      "[2024-04-04 20:18:21 +0200] [2952] [INFO] Worker exiting (pid: 2952)\n",
      "[2024-04-04 20:18:21 +0200] [2953] [INFO] Worker exiting (pid: 2953)\n",
      "[2024-04-04 20:18:21 +0200] [2957] [INFO] Worker exiting (pid: 2957)\n",
      "[2024-04-04 20:18:21 +0200] [2954] [INFO] Worker exiting (pid: 2954)\n",
      "[2024-04-04 20:18:22 +0200] [84824] [ERROR] Worker (pid:2957) exited with code 1\n",
      "[2024-04-04 20:18:22 +0200] [84824] [ERROR] Worker (pid:2957) exited with code 1.\n",
      "[2024-04-04 20:18:22 +0200] [84824] [ERROR] Worker (pid:2954) exited with code 1\n",
      "[2024-04-04 20:18:22 +0200] [84824] [ERROR] Worker (pid:2954) exited with code 1.\n",
      "[2024-04-04 20:18:22 +0200] [84824] [ERROR] Worker (pid:2953) exited with code 1\n",
      "[2024-04-04 20:18:22 +0200] [84824] [ERROR] Worker (pid:2953) exited with code 1.\n",
      "[2024-04-04 20:18:22 +0200] [84824] [ERROR] Worker (pid:2952) exited with code 1\n",
      "[2024-04-04 20:18:22 +0200] [84824] [ERROR] Worker (pid:2952) exited with code 1.\n",
      "[2024-04-04 20:18:22 +0200] [2989] [INFO] Booting worker with pid: 2989\n",
      "[2024-04-04 20:18:22 +0200] [2990] [INFO] Booting worker with pid: 2990\n",
      "[2024-04-04 20:18:22 +0200] [2991] [INFO] Booting worker with pid: 2991\n",
      "[2024-04-04 20:18:22 +0200] [2992] [INFO] Booting worker with pid: 2992\n",
      "[2024-04-04 20:29:43 +0200] [84824] [CRITICAL] WORKER TIMEOUT (pid:2989)\n",
      "[2024-04-04 20:29:43 +0200] [84824] [CRITICAL] WORKER TIMEOUT (pid:2990)\n",
      "[2024-04-04 20:29:43 +0200] [84824] [CRITICAL] WORKER TIMEOUT (pid:2991)\n",
      "[2024-04-04 20:29:43 +0200] [84824] [CRITICAL] WORKER TIMEOUT (pid:2992)\n",
      "[2024-04-04 20:29:43 +0200] [2990] [INFO] Worker exiting (pid: 2990)\n",
      "[2024-04-04 20:29:43 +0200] [2989] [INFO] Worker exiting (pid: 2989)\n",
      "[2024-04-04 20:29:43 +0200] [2991] [INFO] Worker exiting (pid: 2991)\n",
      "[2024-04-04 20:29:43 +0200] [2992] [INFO] Worker exiting (pid: 2992)\n",
      "[2024-04-04 20:29:45 +0200] [84824] [ERROR] Worker (pid:2989) was sent SIGKILL! Perhaps out of memory?\n",
      "[2024-04-04 20:29:45 +0200] [84824] [ERROR] Worker (pid:2990) was sent SIGKILL! Perhaps out of memory?\n",
      "[2024-04-04 20:29:45 +0200] [84824] [ERROR] Worker (pid:2991) was sent SIGKILL! Perhaps out of memory?\n",
      "[2024-04-04 20:29:45 +0200] [84824] [ERROR] Worker (pid:2992) was sent SIGKILL! Perhaps out of memory?\n",
      "[2024-04-04 20:29:45 +0200] [3021] [INFO] Booting worker with pid: 3021\n",
      "[2024-04-04 20:29:45 +0200] [3022] [INFO] Booting worker with pid: 3022\n",
      "[2024-04-04 20:29:45 +0200] [3023] [INFO] Booting worker with pid: 3023\n",
      "[2024-04-04 20:29:45 +0200] [3024] [INFO] Booting worker with pid: 3024\n",
      "^C\n",
      "[2024-04-04 20:56:19 +0200] [84824] [INFO] Handling signal: int\n",
      "[2024-04-04 20:56:19 +0200] [3024] [INFO] Worker exiting (pid: 3024)\n",
      "[2024-04-04 20:56:19 +0200] [3023] [INFO] Worker exiting (pid: 3023)\n",
      "[2024-04-04 20:56:19 +0200] [3021] [INFO] Worker exiting (pid: 3021)\n"
     ]
    }
   ],
   "source": [
    "!mlflow server --host 127.0.0.1 --port 8080"
   ]
  }
 ],
 "metadata": {
  "kernelspec": {
   "display_name": "base",
   "language": "python",
   "name": "python3"
  },
  "language_info": {
   "codemirror_mode": {
    "name": "ipython",
    "version": 3
   },
   "file_extension": ".py",
   "mimetype": "text/x-python",
   "name": "python",
   "nbconvert_exporter": "python",
   "pygments_lexer": "ipython3",
   "version": "3.11.5"
  }
 },
 "nbformat": 4,
 "nbformat_minor": 2
}
